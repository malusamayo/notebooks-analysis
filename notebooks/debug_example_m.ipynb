{
 "cells": [
  {
   "cell_type": "markdown",
   "metadata": {},
   "source": [
    "### Scenario\n",
    "Alice is competing in Kaggle's Titanic competitions. Following the advice from an internet article, she tried heavy feature engineering and a simple model. However, she found that the model did not perform as well as what the original article claimed. She wondered what went wrong, but couldn't find the problem despite much effort. **Could you help her find problems in her notebook and improve the model's performance?**\n",
    "\n",
    "### Instruction\n",
    "+ You are free to use the Internet to search for any problems you might encounter. However, please do not try to search the code directly.\n",
    "+ You overall goal is to improve the model's performance, but you might prioritize finding the underlying problems in the notebook.\n"
   ]
  },
  {
   "cell_type": "code",
   "execution_count": 1170,
   "metadata": {},
   "outputs": [],
   "source": [
    "%matplotlib inline\n",
    "\n",
    "import warnings\n",
    "warnings.filterwarnings('ignore')\n",
    "warnings.filterwarnings('ignore', category=DeprecationWarning)\n",
    "\n",
    "import pandas as pd\n",
    "pd.options.display.max_columns = 100\n",
    "\n",
    "from matplotlib import pyplot as plt\n",
    "import numpy as np"
   ]
  },
  {
   "cell_type": "markdown",
   "metadata": {},
   "source": [
    "# II - Feature engineering"
   ]
  },
  {
   "cell_type": "code",
   "execution_count": 1171,
   "metadata": {},
   "outputs": [],
   "source": [
    "def status(feature):\n",
    "    print('Processing', feature, ': ok')"
   ]
  },
  {
   "cell_type": "markdown",
   "metadata": {},
   "source": [
    "###  Loading the data\n",
    "\n",
    "One trick when starting a machine learning problem is to append the training set to the test set together.\n",
    "\n",
    "We'll engineer new features using the train set to prevent information leakage. Then we'll add these variables to the test set.\n",
    "\n",
    "Let's load the train and test sets and append them together."
   ]
  },
  {
   "cell_type": "markdown",
   "metadata": {},
   "source": [
    "\n",
    "**output**\n",
    "- combined, shape(1309, 10), column types: {int64: 3, object: 5, float64: 2}\n",
    "\n",
    "|         |   Pclass | Name                    | Sex   |   Age |   SibSp |   Parch | Ticket    |   Fare |   Cabin | Embarked   |\n",
    "|:--------|---------:|:------------------------|:------|------:|--------:|--------:|:----------|-------:|--------:|:-----------|\n",
    "| example |        3 | Braund, Mr. Owen Harris | male  |    22 |       1 |       0 | A/5 21171 |   7.25 |     nan | S          |\n",
    "- train_len, <class 'int'>, 891"
   ]
  },
  {
   "cell_type": "code",
   "execution_count": 1172,
   "metadata": {},
   "outputs": [],
   "source": [
    "# reading train data\n",
    "train = pd.read_csv('./data/train.csv')\n",
    "train_len = len(train)\n",
    "\n",
    "# reading test data\n",
    "test = pd.read_csv('./data/test.csv')\n",
    "\n",
    "# extracting and then removing the targets from the training data \n",
    "targets = train.Survived\n",
    "train.drop(['Survived'], 1, inplace=True)\n",
    "\n",
    "\n",
    "# merging train data and test data for future feature engineering\n",
    "# we'll also remove the PassengerID since this is not an informative feature\n",
    "combined = train.append(test)\n",
    "combined.reset_index(inplace=True)\n",
    "combined.drop(['index', 'PassengerId'], inplace=True, axis=1)"
   ]
  },
  {
   "cell_type": "markdown",
   "metadata": {},
   "source": [
    "### Processing Title"
   ]
  },
  {
   "cell_type": "markdown",
   "metadata": {},
   "source": [
    "**input**\n",
    "- combined, shape(1309, 10), column types: {int64: 3, object: 5, float64: 2}"
   ]
  },
  {
   "cell_type": "code",
   "execution_count": 1173,
   "metadata": {},
   "outputs": [],
   "source": [
    "titles = set()\n",
    "for name in combined['Name']:\n",
    "    titles.add(name.split(',')[1].split('.')[0].strip())"
   ]
  },
  {
   "cell_type": "markdown",
   "metadata": {},
   "source": [
    "**input**\n",
    "- combined, shape(1309, 10), column types: {int64: 3, object: 5, float64: 2}\n",
    "\n",
    "**output**\n",
    "- combined, shape(1309, 11), column types: {int64: 3, object: 6, float64: 2}\n",
    "\t- add columns {'Title'}\n",
    "\n",
    "|         |   Pclass | Name                    | Sex   |   Age |   SibSp |   Parch | Ticket    |   Fare |   Cabin | Embarked   |   Title |\n",
    "|:--------|---------:|:------------------------|:------|------:|--------:|--------:|:----------|-------:|--------:|:-----------|--------:|\n",
    "| example |        3 | Braund, Mr. Owen Harris | male  |    22 |       1 |       0 | A/5 21171 |   7.25 |     nan | S          |     nan |"
   ]
  },
  {
   "cell_type": "code",
   "execution_count": 1174,
   "metadata": {},
   "outputs": [
    {
     "name": "stdout",
     "output_type": "stream",
     "text": [
      "Processing Title : ok\n"
     ]
    }
   ],
   "source": [
    "Title_Dictionary = {\n",
    "    \"Capt\": \"Officer\",\n",
    "    \"Col\": \"Officer\",\n",
    "    \"Major\": \"Officer\",\n",
    "    \"Jonkheer\": \"Royalty\",\n",
    "    \"Don\": \"Royalty\",\n",
    "    \"Sir\" : \"Royalty\",\n",
    "    \"Dr\": \"Officer\",\n",
    "    \"Rev\": \"Officer\",\n",
    "    \"the Countess\":\"Royalty\",\n",
    "    \"Mme\": \"Mrs\",\n",
    "    \"Mlle\": \"Miss\",\n",
    "    \"Ms\": \"Mrs\",\n",
    "    \"Mr\" : \"Mr\",\n",
    "    \"Mrs\" : \"Mrs\",\n",
    "    \"Miss\" : \"Miss\",\n",
    "    \"Master\" : \"Master\",\n",
    "    \"Lady\" : \"Royalty\"\n",
    "}\n",
    "\n",
    "# we extract the title from each name\n",
    "combined['Title'] = combined['Name'].map(lambda name:name.split('.')[0].strip())\n",
    "\n",
    "# a map of more aggregated title\n",
    "# we map each title\n",
    "combined['Title'] = combined.Title.map(Title_Dictionary)\n",
    "status('Title')"
   ]
  },
  {
   "cell_type": "markdown",
   "metadata": {},
   "source": [
    "**input**\n",
    "- combined, shape(1309, 11), column types: {int64: 3, object: 6, float64: 2}\n",
    "\n",
    "**output**\n",
    "- combined, shape(1309, 11), column types: {int64: 3, object: 6, float64: 2}\n",
    "\t- 1 object columns changed\n",
    "\n",
    "|          |   Pclass | Name                    | Sex   |   Age |   SibSp |   Parch | Ticket    |   Fare |   Cabin | Embarked   | Title*         |\n",
    "|:---------|---------:|:------------------------|:------|------:|--------:|--------:|:----------|-------:|--------:|:-----------|:---------------|\n",
    "| example0 |        3 | Braund, Mr. Owen Harris | male  |    22 |       1 |       0 | A/5 21171 |   7.25 |     nan | S          | nan -> Royalty |"
   ]
  },
  {
   "cell_type": "code",
   "execution_count": 1175,
   "metadata": {},
   "outputs": [],
   "source": [
    "combined[combined['Title'].isnull()]\n",
    "combined.at[combined['Title'].isnull(), \"Title\"] = \"Royalty\""
   ]
  },
  {
   "cell_type": "markdown",
   "metadata": {},
   "source": [
    "### Processing Ages"
   ]
  },
  {
   "cell_type": "markdown",
   "metadata": {},
   "source": [
    "**input**\n",
    "- combined, shape(1309, 11), column types: {int64: 3, object: 6, float64: 2}\n",
    "- train_len, <class 'int'>\n",
    "\n",
    "**output**\n",
    "- grouped_median_train, shape(6, 4), column types: {object: 2, int64: 1, float64: 1}\n",
    "\n",
    "|         | Sex    |   Pclass | Title   |   Age |\n",
    "|:--------|:-------|---------:|:--------|------:|\n",
    "| example | female |        1 | Royalty |    35 |"
   ]
  },
  {
   "cell_type": "code",
   "execution_count": 1176,
   "metadata": {},
   "outputs": [],
   "source": [
    "grouped_train = combined.iloc[:train_len].groupby(['Sex','Pclass','Title'])\n",
    "grouped_median_train = grouped_train.median()\n",
    "grouped_median_train = grouped_median_train.reset_index()[['Sex', 'Pclass', 'Title', 'Age']]"
   ]
  },
  {
   "cell_type": "markdown",
   "metadata": {},
   "source": [
    "**input**\n",
    "- grouped_median_train, shape(6, 4), column types: {object: 2, int64: 1, float64: 1}\n",
    "- combined, shape(1309, 11), column types: {int64: 3, object: 6, float64: 2}\n",
    "\n",
    "**output**\n",
    "- combined, shape(1309, 11), column types: {int64: 3, object: 6, float64: 2}\n",
    "\t- 1 float64 columns changed\n",
    "\n",
    "|          |   Pclass | Name                    | Sex   | Age*         |   SibSp |   Parch | Ticket    |   Fare |   Cabin | Embarked   | Title   |\n",
    "|:---------|---------:|:------------------------|:------|:-------------|--------:|--------:|:----------|-------:|--------:|:-----------|:--------|\n",
    "| example0 |        3 | Braund, Mr. Owen Harris | male  | 22.0 -> 25.0 |       1 |       0 | A/5 21171 |   7.25 |     nan | S          | Royalty |"
   ]
  },
  {
   "cell_type": "code",
   "execution_count": 1177,
   "metadata": {},
   "outputs": [
    {
     "name": "stdout",
     "output_type": "stream",
     "text": [
      "Processing age : ok\n"
     ]
    }
   ],
   "source": [
    "def fill_age(row):\n",
    "    condition = (\n",
    "        (grouped_median_train['Sex'] == row['Sex']) & \n",
    "        (grouped_median_train['Title'] == row['Title']) & \n",
    "        (grouped_median_train['Pclass'] == row['Pclass'])\n",
    "    ) \n",
    "    return grouped_median_train[condition]['Age'].values[0]\n",
    "\n",
    "combined['Age'] = combined.apply(lambda row: fill_age(row), axis=1)\n",
    "status('age')"
   ]
  },
  {
   "cell_type": "markdown",
   "metadata": {},
   "source": [
    "Let's now process the names."
   ]
  },
  {
   "cell_type": "markdown",
   "metadata": {},
   "source": [
    "**input**\n",
    "- combined, shape(1309, 11), column types: {int64: 3, object: 6, float64: 2}\n",
    "\n",
    "**output**\n",
    "- combined, shape(1309, 10), column types: {int64: 3, object: 4, float64: 2, uint8: 1}\n",
    "\t- add columns {'Title_Royalty'} remove columns {'Name', 'Title'}\n",
    "\n",
    "|         |   Pclass | Sex   |   Age |   SibSp |   Parch | Ticket    |   Fare |   Cabin | Embarked   |   Title_Royalty |\n",
    "|:--------|---------:|:------|------:|--------:|--------:|:----------|-------:|--------:|:-----------|----------------:|\n",
    "| example |        3 | male  |    25 |       1 |       0 | A/5 21171 |   7.25 |     nan | S          |               1 |"
   ]
  },
  {
   "cell_type": "code",
   "execution_count": 1178,
   "metadata": {},
   "outputs": [
    {
     "name": "stdout",
     "output_type": "stream",
     "text": [
      "Processing names : ok\n"
     ]
    }
   ],
   "source": [
    "# we clean the Name variable\n",
    "combined.drop('Name', axis=1, inplace=True)\n",
    "\n",
    "# encoding in dummy variable\n",
    "titles_dummies = pd.get_dummies(combined['Title'], prefix='Title')\n",
    "combined = pd.concat([combined, titles_dummies], axis=1)\n",
    "\n",
    "# removing the title variable\n",
    "combined.drop('Title', axis=1, inplace=True)\n",
    "\n",
    "status('names')"
   ]
  },
  {
   "cell_type": "markdown",
   "metadata": {},
   "source": [
    "### Processing Fare"
   ]
  },
  {
   "cell_type": "markdown",
   "metadata": {},
   "source": [
    "**input**\n",
    "- combined, shape(1309, 10), column types: {int64: 3, object: 4, float64: 2, uint8: 1}\n",
    "- train_len, <class 'int'>"
   ]
  },
  {
   "cell_type": "code",
   "execution_count": 1179,
   "metadata": {},
   "outputs": [
    {
     "name": "stdout",
     "output_type": "stream",
     "text": [
      "Processing fare : ok\n"
     ]
    }
   ],
   "source": [
    "# there's one missing fare value - replacing it with the mean.\n",
    "combined.Fare.fillna(combined.iloc[:train_len].Fare.mean(), inplace=True)\n",
    "status('fare')"
   ]
  },
  {
   "cell_type": "markdown",
   "metadata": {},
   "source": [
    "### Processing Embarked"
   ]
  },
  {
   "cell_type": "markdown",
   "metadata": {},
   "source": [
    "**input**\n",
    "- combined, shape(1309, 10), column types: {int64: 3, object: 4, float64: 2, uint8: 1}\n",
    "\n",
    "**output**\n",
    "- combined, shape(1309, 12), column types: {int64: 3, object: 3, float64: 2, uint8: 4}\n",
    "\t- add columns {'Embarked_Q', 'Embarked_C', 'Embarked_S'} remove columns {'Embarked'}\n",
    "\n",
    "|         |   Pclass | Sex   |   Age |   SibSp |   Parch | Ticket    |   Fare |   Cabin |   Title_Royalty |   Embarked_C |   Embarked_Q |   Embarked_S |\n",
    "|:--------|---------:|:------|------:|--------:|--------:|:----------|-------:|--------:|----------------:|-------------:|-------------:|-------------:|\n",
    "| example |        3 | male  |    25 |       1 |       0 | A/5 21171 |   7.25 |     nan |               1 |            0 |            0 |            1 |"
   ]
  },
  {
   "cell_type": "code",
   "execution_count": 1180,
   "metadata": {},
   "outputs": [
    {
     "name": "stdout",
     "output_type": "stream",
     "text": [
      "Processing embarked : ok\n"
     ]
    },
    {
     "data": {
      "text/plain": [
       "0        NaN\n",
       "1        C85\n",
       "2        NaN\n",
       "3       C123\n",
       "4        NaN\n",
       "        ... \n",
       "1304     NaN\n",
       "1305    C105\n",
       "1306     NaN\n",
       "1307     NaN\n",
       "1308     NaN\n",
       "Name: Cabin, Length: 1309, dtype: object"
      ]
     },
     "execution_count": 1180,
     "metadata": {},
     "output_type": "execute_result"
    }
   ],
   "source": [
    "# two missing embarked values - filling them with the most frequent one in the train  set(S)\n",
    "combined.Embarked.fillna('S', inplace=True)\n",
    "# dummy encoding \n",
    "embarked_dummies = pd.get_dummies(combined['Embarked'], prefix='Embarked')\n",
    "combined = pd.concat([combined, embarked_dummies], axis=1)\n",
    "combined.drop('Embarked', axis=1, inplace=True)\n",
    "status('embarked')\n",
    "combined.Cabin"
   ]
  },
  {
   "cell_type": "markdown",
   "metadata": {},
   "source": [
    "### Processing Cabin"
   ]
  },
  {
   "cell_type": "markdown",
   "metadata": {},
   "source": [
    "**input**\n",
    "- combined, shape(1309, 12), column types: {int64: 3, object: 3, float64: 2, uint8: 4}\n",
    "\n",
    "**output**\n",
    "- combined, shape(1309, 20), column types: {int64: 3, object: 2, float64: 2, uint8: 13}\n",
    "\t- add columns {'Cabin_E', 'Cabin_G', 'Cabin_F', 'Cabin_B', 'Cabin_D', 'Cabin_C', 'Cabin_T', 'Cabin_A', 'Cabin_U'} remove columns {'Cabin'}\n",
    "\n",
    "|         |   Pclass | Sex   |   Age |   SibSp |   Parch | Ticket    |   Fare |   Title_Royalty |   Embarked_C |   Embarked_Q |   Embarked_S |   Cabin_A |   Cabin_B |   Cabin_C |   Cabin_D |   Cabin_E |   Cabin_F |   Cabin_G |   Cabin_T |   Cabin_U |\n",
    "|:--------|---------:|:------|------:|--------:|--------:|:----------|-------:|----------------:|-------------:|-------------:|-------------:|----------:|----------:|----------:|----------:|----------:|----------:|----------:|----------:|----------:|\n",
    "| example |        3 | male  |    25 |       1 |       0 | A/5 21171 |   7.25 |               1 |            0 |            0 |            1 |         0 |         0 |         0 |         0 |         0 |         0 |         0 |         0 |         1 |"
   ]
  },
  {
   "cell_type": "code",
   "execution_count": 1181,
   "metadata": {},
   "outputs": [
    {
     "name": "stdout",
     "output_type": "stream",
     "text": [
      "Processing cabin : ok\n"
     ]
    }
   ],
   "source": [
    "# replacing missing cabins with U (for Uknown)\n",
    "combined.Cabin.fillna('U', inplace=True)\n",
    "\n",
    "# mapping each Cabin value with the cabin letter\n",
    "combined['Cabin'] = combined['Cabin'].map(lambda c: c[0])\n",
    "\n",
    "# dummy encoding ...\n",
    "cabin_dummies = pd.get_dummies(combined['Cabin'], prefix='Cabin')    \n",
    "combined = pd.concat([combined, cabin_dummies], axis=1)\n",
    "\n",
    "combined.drop('Cabin', axis=1, inplace=True)\n",
    "status('cabin')"
   ]
  },
  {
   "cell_type": "markdown",
   "metadata": {},
   "source": [
    "This function replaces NaN values with U (for <i>Unknow</i>). It then maps each Cabin value to the first letter.\n",
    "Then it encodes the cabin values using dummy encoding again."
   ]
  },
  {
   "cell_type": "markdown",
   "metadata": {},
   "source": [
    "Ok no missing values now."
   ]
  },
  {
   "cell_type": "markdown",
   "metadata": {},
   "source": [
    "### Processing Sex"
   ]
  },
  {
   "cell_type": "markdown",
   "metadata": {},
   "source": [
    "**input**\n",
    "- combined, shape(1309, 20), column types: {int64: 3, object: 2, float64: 2, uint8: 13}\n",
    "\n",
    "**output**\n",
    "- combined, shape(1309, 20), column types: {int64: 4, float64: 2, object: 1, uint8: 13}\n",
    "\t- 1 object columns converted to int64\n",
    "\n",
    "|          |   Pclass | Sex*      |   Age |   SibSp |   Parch | Ticket    |   Fare |   Title_Royalty |   Embarked_C |   Embarked_Q |   Embarked_S |   Cabin_A |   Cabin_B |   Cabin_C |   Cabin_D |   Cabin_E |   Cabin_F |   Cabin_G |   Cabin_T |   Cabin_U |\n",
    "|:---------|---------:|:----------|------:|--------:|--------:|:----------|-------:|----------------:|-------------:|-------------:|-------------:|----------:|----------:|----------:|----------:|----------:|----------:|----------:|----------:|----------:|\n",
    "| example0 |        3 | male -> 1 |    25 |       1 |       0 | A/5 21171 |   7.25 |               1 |            0 |            0 |            1 |         0 |         0 |         0 |         0 |         0 |         0 |         0 |         0 |         1 |"
   ]
  },
  {
   "cell_type": "code",
   "execution_count": 1182,
   "metadata": {},
   "outputs": [
    {
     "name": "stdout",
     "output_type": "stream",
     "text": [
      "Processing Sex : ok\n"
     ]
    }
   ],
   "source": [
    "# mapping string values to numerical one \n",
    "combined['Sex'] = combined['Sex'].map({'male':1, 'female':0})\n",
    "status('Sex')"
   ]
  },
  {
   "cell_type": "markdown",
   "metadata": {},
   "source": [
    "This function maps the string values male and female to 1 and 0 respectively. "
   ]
  },
  {
   "cell_type": "markdown",
   "metadata": {},
   "source": [
    "### Processing Pclass"
   ]
  },
  {
   "cell_type": "markdown",
   "metadata": {},
   "source": [
    "**input**\n",
    "- combined, shape(1309, 20), column types: {int64: 4, float64: 2, object: 1, uint8: 13}\n",
    "\n",
    "**output**\n",
    "- combined, shape(1309, 22), column types: {int64: 3, float64: 2, object: 1, uint8: 16}\n",
    "\t- add columns {'Pclass_1', 'Pclass_2', 'Pclass_3'} remove columns {'Pclass'}\n",
    "\n",
    "|         |   Sex |   Age |   SibSp |   Parch | Ticket    |   Fare |   Title_Royalty |   Embarked_C |   Embarked_Q |   Embarked_S |   Cabin_A |   Cabin_B |   Cabin_C |   Cabin_D |   Cabin_E |   Cabin_F |   Cabin_G |   Cabin_T |   Cabin_U |   Pclass_1 |   Pclass_2 |   Pclass_3 |\n",
    "|:--------|------:|------:|--------:|--------:|:----------|-------:|----------------:|-------------:|-------------:|-------------:|----------:|----------:|----------:|----------:|----------:|----------:|----------:|----------:|----------:|-----------:|-----------:|-----------:|\n",
    "| example |     1 |    25 |       1 |       0 | A/5 21171 |   7.25 |               1 |            0 |            0 |            1 |         0 |         0 |         0 |         0 |         0 |         0 |         0 |         0 |         1 |          0 |          0 |          1 |"
   ]
  },
  {
   "cell_type": "code",
   "execution_count": 1183,
   "metadata": {},
   "outputs": [
    {
     "name": "stdout",
     "output_type": "stream",
     "text": [
      "Processing Pclass : ok\n"
     ]
    }
   ],
   "source": [
    "# encoding into 3 categories:\n",
    "pclass_dummies = pd.get_dummies(combined['Pclass'], prefix=\"Pclass\")\n",
    "\n",
    "# adding dummy variable\n",
    "combined = pd.concat([combined, pclass_dummies],axis=1)\n",
    "\n",
    "# removing \"Pclass\"\n",
    "combined.drop('Pclass',axis=1,inplace=True)\n",
    "\n",
    "status('Pclass')"
   ]
  },
  {
   "cell_type": "markdown",
   "metadata": {},
   "source": [
    "This function encodes the values of Pclass (1,2,3) using a dummy encoding."
   ]
  },
  {
   "cell_type": "markdown",
   "metadata": {},
   "source": [
    "### Processing Ticket"
   ]
  },
  {
   "cell_type": "markdown",
   "metadata": {},
   "source": [
    "Let's first see how the different ticket prefixes we have in our dataset"
   ]
  },
  {
   "cell_type": "markdown",
   "metadata": {},
   "source": [
    "**input**\n",
    "- combined, shape(1309, 22), column types: {int64: 3, float64: 2, object: 1, uint8: 16}\n",
    "\n",
    "**output**\n",
    "- combined, shape(1309, 58), column types: {int64: 3, float64: 2, uint8: 53}\n",
    "\t- add columns {'Ticket_XXX', 'Ticket_PP', 'Ticket_STONOQ', 'Ticket_STONO2', 'Ticket_SP', 'Ticket_SOTONO2', 'Ticket_SCA3', 'Ticket_C', 'Ticket_A5', 'Ticket_SCOW', 'Ticket_SCAH', 'Ticket_SCPARIS', 'Ticket_SCParis', 'Ticket_WEP', 'Ticket_PC', 'Ticket_LP', 'Ticket_SOC', 'Ticket_AQ3', 'Ticket_AS', 'Ticket_LINE', 'Ticket_STONO', 'Ticket_A', 'Ticket_WC', 'Ticket_SOP', 'Ticket_CA', 'Ticket_PPP', 'Ticket_SOPP', 'Ticket_SC', 'Ticket_A4', 'Ticket_AQ4', 'Ticket_FC', 'Ticket_SWPP', 'Ticket_FCC', 'Ticket_CASOTON', 'Ticket_SOTONOQ', 'Ticket_SCA4', 'Ticket_Fa'} remove columns {'Ticket'}\n",
    "\n",
    "|          | Sex                 | Age                | SibSp              | Parch              | Fare              | Title_Royalty   | Embarked_C          | Embarked_Q          | Embarked_S          | Cabin_A              | Cabin_B             | Cabin_C             | Cabin_D             | Cabin_E              | Cabin_F              | Cabin_G               | Cabin_T               | Cabin_U             | Pclass_1            | Pclass_2            | Pclass_3            | Ticket_A              | Ticket_A4             | Ticket_A5            | Ticket_AQ3            | Ticket_AQ4            | Ticket_AS             | Ticket_C             | Ticket_CA           | Ticket_CASOTON        | Ticket_FC            | Ticket_FCC           | Ticket_Fa             | Ticket_LINE           | Ticket_LP             | Ticket_PC           | Ticket_PP             | Ticket_PPP            | Ticket_SC             | Ticket_SCA3           | Ticket_SCA4           | Ticket_SCAH           | Ticket_SCOW           | Ticket_SCPARIS       | Ticket_SCParis        | Ticket_SOC           | Ticket_SOP            | Ticket_SOPP          | Ticket_SOTONO2        | Ticket_SOTONOQ       | Ticket_SP             | Ticket_STONO         | Ticket_STONO2        | Ticket_STONOQ         | Ticket_SWPP           | Ticket_WC            | Ticket_WEP            | Ticket_XXX          |\n",
    "|:---------|:--------------------|:-------------------|:-------------------|:-------------------|:------------------|:----------------|:--------------------|:--------------------|:--------------------|:---------------------|:--------------------|:--------------------|:--------------------|:---------------------|:---------------------|:----------------------|:----------------------|:--------------------|:--------------------|:--------------------|:--------------------|:----------------------|:----------------------|:---------------------|:----------------------|:----------------------|:----------------------|:---------------------|:--------------------|:----------------------|:---------------------|:---------------------|:----------------------|:----------------------|:----------------------|:--------------------|:----------------------|:----------------------|:----------------------|:----------------------|:----------------------|:----------------------|:----------------------|:---------------------|:----------------------|:---------------------|:----------------------|:---------------------|:----------------------|:---------------------|:----------------------|:---------------------|:---------------------|:----------------------|:----------------------|:---------------------|:----------------------|:--------------------|\n",
    "| example  | 1.0                 | 25.0               | 1.0                | 0.0                | 7.25              | 1.0             | 0.0                 | 0.0                 | 1.0                 | 0.0                  | 0.0                 | 0.0                 | 0.0                 | 0.0                  | 0.0                  | 0.0                   | 0.0                   | 1.0                 | 0.0                 | 0.0                 | 1.0                 | 0.0                   | 0.0                   | 1.0                  | 0.0                   | 0.0                   | 0.0                   | 0.0                  | 0.0                 | 0.0                   | 0.0                  | 0.0                  | 0.0                   | 0.0                   | 0.0                   | 0.0                 | 0.0                   | 0.0                   | 0.0                   | 0.0                   | 0.0                   | 0.0                   | 0.0                   | 0.0                  | 0.0                   | 0.0                  | 0.0                   | 0.0                  | 0.0                   | 0.0                  | 0.0                   | 0.0                  | 0.0                  | 0.0                   | 0.0                   | 0.0                  | 0.0                   | 0.0                 |\n",
    "| mean     | 0.6440030557677616  | 28.469824293353707 | 0.4988540870893812 | 0.3850267379679144 | 33.29464561342137 | 1.0             | 0.20626432391138275 | 0.09396485867074103 | 0.6997708174178763  | 0.01680672268907563  | 0.04965622612681436 | 0.0718105423987777  | 0.03514132925897632 | 0.03132161955691368  | 0.016042780748663103 | 0.0038197097020626434 | 0.0007639419404125286 | 0.774637127578304   | 0.24675324675324675 | 0.21161191749427044 | 0.5416348357524828  | 0.0007639419404125286 | 0.007639419404125287  | 0.0213903743315508   | 0.0007639419404125286 | 0.0007639419404125286 | 0.0007639419404125286 | 0.006111535523300229 | 0.05194805194805195 | 0.0007639419404125286 | 0.002291825821237586 | 0.006875477463712758 | 0.0007639419404125286 | 0.0030557677616501145 | 0.0007639419404125286 | 0.07028265851795264 | 0.0030557677616501145 | 0.0015278838808250573 | 0.0015278838808250573 | 0.0007639419404125286 | 0.0015278838808250573 | 0.0038197097020626434 | 0.0007639419404125286 | 0.0106951871657754   | 0.0038197097020626434 | 0.006111535523300229 | 0.0007639419404125286 | 0.0053475935828877   | 0.002291825821237586  | 0.01833460656990069  | 0.0007639419404125286 | 0.0106951871657754   | 0.0053475935828877   | 0.0007639419404125286 | 0.0015278838808250573 | 0.01145912910618793  | 0.0030557677616501145 | 0.7310924369747899  |\n",
    "| variance | 0.22926311992954698 | 35.744887746056136 | 1.0842232858140826 | 0.7486222490940956 | 2674.867507554873 | 0.0             | 0.1637193525927629  | 0.08513546400572869 | 0.21009162050819358 | 0.016524256761528137 | 0.04719048533365706 | 0.06665378839917105 | 0.03390641623688854 | 0.030340575705245638 | 0.015785409934513425 | 0.0038051195198546125 | 0.000763358333124207  | 0.17457444815553835 | 0.1858660819699781  | 0.16683231386866854 | 0.24826654045186378 | 0.0007633583331242073 | 0.0075810586752931616 | 0.020932826217506934 | 0.0007633583331242074 | 0.0007633583331242072 | 0.0007633583331242073 | 0.006074184656847666 | 0.04924945184685444 | 0.0007633583331242075 | 0.002286573355642695 | 0.006828205273358738 | 0.0007633583331242074 | 0.0030464300450369747 | 0.0007633583331242074 | 0.06534300642960149 | 0.003046430045036975  | 0.0015255494516717722 | 0.0015255494516717724 | 0.0007633583331242073 | 0.0015255494516717724 | 0.0038051195198546125 | 0.0007633583331242074 | 0.010580800137264432 | 0.0038051195198546117 | 0.006074184656847666 | 0.0007633583331242073 | 0.005318996825759958 | 0.0022865733556426946 | 0.017998448771827644 | 0.0007633583331242073 | 0.010580800137264432 | 0.005318996825759958 | 0.0007633583331242073 | 0.0015255494516717726 | 0.011327817466315643 | 0.003046430045036975  | 0.19659628557305275 |\n",
    "| range    | [0.0, 1.0]          | [21.5, 40.0]       | [0.0, 8.0]         | [0.0, 9.0]         | [0.0, 512.3292]   | [1.0, 1.0]      | [0.0, 1.0]          | [0.0, 1.0]          | [0.0, 1.0]          | [0.0, 1.0]           | [0.0, 1.0]          | [0.0, 1.0]          | [0.0, 1.0]          | [0.0, 1.0]           | [0.0, 1.0]           | [0.0, 1.0]            | [0.0, 1.0]            | [0.0, 1.0]          | [0.0, 1.0]          | [0.0, 1.0]          | [0.0, 1.0]          | [0.0, 1.0]            | [0.0, 1.0]            | [0.0, 1.0]           | [0.0, 1.0]            | [0.0, 1.0]            | [0.0, 1.0]            | [0.0, 1.0]           | [0.0, 1.0]          | [0.0, 1.0]            | [0.0, 1.0]           | [0.0, 1.0]           | [0.0, 1.0]            | [0.0, 1.0]            | [0.0, 1.0]            | [0.0, 1.0]          | [0.0, 1.0]            | [0.0, 1.0]            | [0.0, 1.0]            | [0.0, 1.0]            | [0.0, 1.0]            | [0.0, 1.0]            | [0.0, 1.0]            | [0.0, 1.0]           | [0.0, 1.0]            | [0.0, 1.0]           | [0.0, 1.0]            | [0.0, 1.0]           | [0.0, 1.0]            | [0.0, 1.0]           | [0.0, 1.0]            | [0.0, 1.0]           | [0.0, 1.0]           | [0.0, 1.0]            | [0.0, 1.0]            | [0.0, 1.0]           | [0.0, 1.0]            | [0.0, 1.0]          |"
   ]
  },
  {
   "cell_type": "code",
   "execution_count": 1184,
   "metadata": {},
   "outputs": [
    {
     "name": "stdout",
     "output_type": "stream",
     "text": [
      "Processing Ticket : ok\n"
     ]
    }
   ],
   "source": [
    "# a function that extracts each prefix of the ticket, returns 'XXX' if no prefix (i.e the ticket is a digit)\n",
    "def cleanTicket(ticket):\n",
    "    ticket = ticket.replace('.','')\n",
    "    ticket = ticket.replace('/','')\n",
    "    ticket = ticket.split()\n",
    "    ticket = map(lambda t : t.strip(), ticket)\n",
    "    ticket = list(filter(lambda t : not t.isdigit(), ticket))\n",
    "    if len(ticket) > 0:\n",
    "        return ticket[0]\n",
    "    else: \n",
    "        return 'XXX'\n",
    "\n",
    "\n",
    "# Extracting dummy variables from tickets:\n",
    "\n",
    "combined['Ticket'] = combined['Ticket'].map(cleanTicket)\n",
    "tickets_dummies = pd.get_dummies(combined['Ticket'], prefix='Ticket')\n",
    "combined = pd.concat([combined, tickets_dummies], axis=1)\n",
    "combined.drop('Ticket', inplace=True, axis=1)\n",
    "\n",
    "status('Ticket')"
   ]
  },
  {
   "cell_type": "markdown",
   "metadata": {},
   "source": [
    "### Processing Family"
   ]
  },
  {
   "cell_type": "markdown",
   "metadata": {},
   "source": [
    "**input**\n",
    "- combined, shape(1309, 58), column types: {int64: 3, float64: 2, uint8: 53}\n",
    "\n",
    "**output**\n",
    "- combined, shape(1309, 62), column types: {int64: 7, float64: 2, uint8: 53}\n",
    "\t- add columns {'FamilySize', 'Singleton', 'LargeFamily', 'SmallFamily'}\n",
    "\n",
    "|          | Sex                 | Age                | SibSp              | Parch              | Fare              | Title_Royalty   | Embarked_C          | Embarked_Q          | Embarked_S          | Cabin_A              | Cabin_B             | Cabin_C             | Cabin_D             | Cabin_E              | Cabin_F              | Cabin_G               | Cabin_T               | Cabin_U             | Pclass_1            | Pclass_2            | Pclass_3            | Ticket_A              | Ticket_A4             | Ticket_A5            | Ticket_AQ3            | Ticket_AQ4            | Ticket_AS             | Ticket_C             | Ticket_CA           | Ticket_CASOTON        | Ticket_FC            | Ticket_FCC           | Ticket_Fa             | Ticket_LINE           | Ticket_LP             | Ticket_PC           | Ticket_PP             | Ticket_PPP            | Ticket_SC             | Ticket_SCA3           | Ticket_SCA4           | Ticket_SCAH           | Ticket_SCOW           | Ticket_SCPARIS       | Ticket_SCParis        | Ticket_SOC           | Ticket_SOP            | Ticket_SOPP          | Ticket_SOTONO2        | Ticket_SOTONOQ       | Ticket_SP             | Ticket_STONO         | Ticket_STONO2        | Ticket_STONOQ         | Ticket_SWPP           | Ticket_WC            | Ticket_WEP            | Ticket_XXX          | FamilySize         | Singleton           | SmallFamily         | LargeFamily          |\n",
    "|:---------|:--------------------|:-------------------|:-------------------|:-------------------|:------------------|:----------------|:--------------------|:--------------------|:--------------------|:---------------------|:--------------------|:--------------------|:--------------------|:---------------------|:---------------------|:----------------------|:----------------------|:--------------------|:--------------------|:--------------------|:--------------------|:----------------------|:----------------------|:---------------------|:----------------------|:----------------------|:----------------------|:---------------------|:--------------------|:----------------------|:---------------------|:---------------------|:----------------------|:----------------------|:----------------------|:--------------------|:----------------------|:----------------------|:----------------------|:----------------------|:----------------------|:----------------------|:----------------------|:---------------------|:----------------------|:---------------------|:----------------------|:---------------------|:----------------------|:---------------------|:----------------------|:---------------------|:---------------------|:----------------------|:----------------------|:---------------------|:----------------------|:--------------------|:-------------------|:--------------------|:--------------------|:---------------------|\n",
    "| example  | 1.0                 | 25.0               | 1.0                | 0.0                | 7.25              | 1.0             | 0.0                 | 0.0                 | 1.0                 | 0.0                  | 0.0                 | 0.0                 | 0.0                 | 0.0                  | 0.0                  | 0.0                   | 0.0                   | 1.0                 | 0.0                 | 0.0                 | 1.0                 | 0.0                   | 0.0                   | 1.0                  | 0.0                   | 0.0                   | 0.0                   | 0.0                  | 0.0                 | 0.0                   | 0.0                  | 0.0                  | 0.0                   | 0.0                   | 0.0                   | 0.0                 | 0.0                   | 0.0                   | 0.0                   | 0.0                   | 0.0                   | 0.0                   | 0.0                   | 0.0                  | 0.0                   | 0.0                  | 0.0                   | 0.0                  | 0.0                   | 0.0                  | 0.0                   | 0.0                  | 0.0                  | 0.0                   | 0.0                   | 0.0                  | 0.0                   | 0.0                 | 2.0                | 0.0                 | 1.0                 | 0.0                  |\n",
    "| mean     | 0.6440030557677616  | 28.469824293353707 | 0.4988540870893812 | 0.3850267379679144 | 33.29464561342137 | 1.0             | 0.20626432391138275 | 0.09396485867074103 | 0.6997708174178763  | 0.01680672268907563  | 0.04965622612681436 | 0.0718105423987777  | 0.03514132925897632 | 0.03132161955691368  | 0.016042780748663103 | 0.0038197097020626434 | 0.0007639419404125286 | 0.774637127578304   | 0.24675324675324675 | 0.21161191749427044 | 0.5416348357524828  | 0.0007639419404125286 | 0.007639419404125287  | 0.0213903743315508   | 0.0007639419404125286 | 0.0007639419404125286 | 0.0007639419404125286 | 0.006111535523300229 | 0.05194805194805195 | 0.0007639419404125286 | 0.002291825821237586 | 0.006875477463712758 | 0.0007639419404125286 | 0.0030557677616501145 | 0.0007639419404125286 | 0.07028265851795264 | 0.0030557677616501145 | 0.0015278838808250573 | 0.0015278838808250573 | 0.0007639419404125286 | 0.0015278838808250573 | 0.0038197097020626434 | 0.0007639419404125286 | 0.0106951871657754   | 0.0038197097020626434 | 0.006111535523300229 | 0.0007639419404125286 | 0.0053475935828877   | 0.002291825821237586  | 0.01833460656990069  | 0.0007639419404125286 | 0.0106951871657754   | 0.0053475935828877   | 0.0007639419404125286 | 0.0015278838808250573 | 0.01145912910618793  | 0.0030557677616501145 | 0.7310924369747899  | 1.8838808250572956 | 0.6035141329258976  | 0.33384262796027503 | 0.06264323911382735  |\n",
    "| variance | 0.22926311992954698 | 35.744887746056136 | 1.0842232858140826 | 0.7486222490940956 | 2674.867507554873 | 0.0             | 0.1637193525927629  | 0.08513546400572869 | 0.21009162050819358 | 0.016524256761528137 | 0.04719048533365706 | 0.06665378839917105 | 0.03390641623688854 | 0.030340575705245638 | 0.015785409934513425 | 0.0038051195198546125 | 0.000763358333124207  | 0.17457444815553835 | 0.1858660819699781  | 0.16683231386866854 | 0.24826654045186378 | 0.0007633583331242073 | 0.0075810586752931616 | 0.020932826217506934 | 0.0007633583331242074 | 0.0007633583331242072 | 0.0007633583331242073 | 0.006074184656847666 | 0.04924945184685444 | 0.0007633583331242075 | 0.002286573355642695 | 0.006828205273358738 | 0.0007633583331242074 | 0.0030464300450369747 | 0.0007633583331242074 | 0.06534300642960149 | 0.003046430045036975  | 0.0015255494516717722 | 0.0015255494516717724 | 0.0007633583331242073 | 0.0015255494516717724 | 0.0038051195198546125 | 0.0007633583331242074 | 0.010580800137264432 | 0.0038051195198546117 | 0.006074184656847666 | 0.0007633583331242073 | 0.005318996825759958 | 0.0022865733556426946 | 0.017998448771827644 | 0.0007633583331242073 | 0.010580800137264432 | 0.005318996825759958 | 0.0007633583331242073 | 0.0015255494516717726 | 0.011327817466315643 | 0.003046430045036975  | 0.19659628557305275 | 2.505996856691145  | 0.23928482428459957 | 0.22239172771685237 | 0.058719063707155184 |\n",
    "| range    | [0.0, 1.0]          | [21.5, 40.0]       | [0.0, 8.0]         | [0.0, 9.0]         | [0.0, 512.3292]   | [1.0, 1.0]      | [0.0, 1.0]          | [0.0, 1.0]          | [0.0, 1.0]          | [0.0, 1.0]           | [0.0, 1.0]          | [0.0, 1.0]          | [0.0, 1.0]          | [0.0, 1.0]           | [0.0, 1.0]           | [0.0, 1.0]            | [0.0, 1.0]            | [0.0, 1.0]          | [0.0, 1.0]          | [0.0, 1.0]          | [0.0, 1.0]          | [0.0, 1.0]            | [0.0, 1.0]            | [0.0, 1.0]           | [0.0, 1.0]            | [0.0, 1.0]            | [0.0, 1.0]            | [0.0, 1.0]           | [0.0, 1.0]          | [0.0, 1.0]            | [0.0, 1.0]           | [0.0, 1.0]           | [0.0, 1.0]            | [0.0, 1.0]            | [0.0, 1.0]            | [0.0, 1.0]          | [0.0, 1.0]            | [0.0, 1.0]            | [0.0, 1.0]            | [0.0, 1.0]            | [0.0, 1.0]            | [0.0, 1.0]            | [0.0, 1.0]            | [0.0, 1.0]           | [0.0, 1.0]            | [0.0, 1.0]           | [0.0, 1.0]            | [0.0, 1.0]           | [0.0, 1.0]            | [0.0, 1.0]           | [0.0, 1.0]            | [0.0, 1.0]           | [0.0, 1.0]           | [0.0, 1.0]            | [0.0, 1.0]            | [0.0, 1.0]           | [0.0, 1.0]            | [0.0, 1.0]          | [1.0, 11.0]        | [0.0, 1.0]          | [0.0, 1.0]          | [0.0, 1.0]           |"
   ]
  },
  {
   "cell_type": "code",
   "execution_count": 1185,
   "metadata": {},
   "outputs": [
    {
     "name": "stdout",
     "output_type": "stream",
     "text": [
      "Processing family : ok\n"
     ]
    }
   ],
   "source": [
    "# introducing a new feature : the size of families (including the passenger)\n",
    "combined['FamilySize'] = combined['Parch'] + combined['SibSp'] + 1\n",
    "\n",
    "# introducing other features based on the family size\n",
    "combined['Singleton'] = combined['FamilySize'].map(lambda s: 1 if s == 1 else 0)\n",
    "combined['SmallFamily'] = combined['FamilySize'].map(lambda s: 1 if 2 <= s <= 4 else 0)\n",
    "combined['LargeFamily'] = combined['FamilySize'].map(lambda s: 1 if 5 <= s else 0)\n",
    "\n",
    "status('family')"
   ]
  },
  {
   "cell_type": "markdown",
   "metadata": {},
   "source": [
    "# III - Modeling"
   ]
  },
  {
   "cell_type": "code",
   "execution_count": 1186,
   "metadata": {},
   "outputs": [],
   "source": [
    "from sklearn.pipeline import make_pipeline\n",
    "from sklearn.ensemble import RandomForestClassifier\n",
    "from sklearn.ensemble.gradient_boosting import GradientBoostingClassifier\n",
    "from sklearn.feature_selection import SelectKBest\n",
    "from sklearn.model_selection import StratifiedKFold\n",
    "from sklearn.model_selection import GridSearchCV\n",
    "from sklearn.model_selection import cross_val_score\n",
    "from sklearn.feature_selection import SelectFromModel\n",
    "from sklearn.linear_model import LogisticRegression, LogisticRegressionCV"
   ]
  },
  {
   "cell_type": "code",
   "execution_count": 1187,
   "metadata": {},
   "outputs": [],
   "source": [
    "def compute_score(clf, X, y, scoring='accuracy'):\n",
    "    xval = cross_val_score(clf, X, y, cv = 5, scoring=scoring)\n",
    "    return np.mean(xval)"
   ]
  },
  {
   "cell_type": "markdown",
   "metadata": {},
   "source": [
    "Recovering the train set and the test set from the combined dataset is an easy task."
   ]
  },
  {
   "cell_type": "markdown",
   "metadata": {},
   "source": [
    "**input**\n",
    "- combined, shape(1309, 62), column types: {int64: 7, float64: 2, uint8: 53}\n",
    "\n",
    "**output**\n",
    "- train, shape(891, 62), column types: {int64: 7, float64: 2, uint8: 53}\n",
    "\n",
    "|          | Sex                 | Age                | SibSp              | Parch               | Fare               | Title_Royalty   | Embarked_C          | Embarked_Q          | Embarked_S          | Cabin_A              | Cabin_B              | Cabin_C             | Cabin_D              | Cabin_E             | Cabin_F              | Cabin_G              | Cabin_T              | Cabin_U            | Pclass_1            | Pclass_2            | Pclass_3            | Ticket_A   | Ticket_A4            | Ticket_A5           | Ticket_AQ3   | Ticket_AQ4   | Ticket_AS            | Ticket_C             | Ticket_CA           | Ticket_CASOTON       | Ticket_FC            | Ticket_FCC           | Ticket_Fa            | Ticket_LINE          | Ticket_LP   | Ticket_PC           | Ticket_PP            | Ticket_PPP           | Ticket_SC            | Ticket_SCA3   | Ticket_SCA4          | Ticket_SCAH          | Ticket_SCOW          | Ticket_SCPARIS       | Ticket_SCParis       | Ticket_SOC           | Ticket_SOP           | Ticket_SOPP          | Ticket_SOTONO2       | Ticket_SOTONOQ       | Ticket_SP            | Ticket_STONO         | Ticket_STONO2        | Ticket_STONOQ   | Ticket_SWPP          | Ticket_WC            | Ticket_WEP           | Ticket_XXX         | FamilySize        | Singleton           | SmallFamily        | LargeFamily         |\n",
    "|:---------|:--------------------|:-------------------|:-------------------|:--------------------|:-------------------|:----------------|:--------------------|:--------------------|:--------------------|:---------------------|:---------------------|:--------------------|:---------------------|:--------------------|:---------------------|:---------------------|:---------------------|:-------------------|:--------------------|:--------------------|:--------------------|:-----------|:---------------------|:--------------------|:-------------|:-------------|:---------------------|:---------------------|:--------------------|:---------------------|:---------------------|:---------------------|:---------------------|:---------------------|:------------|:--------------------|:---------------------|:---------------------|:---------------------|:--------------|:---------------------|:---------------------|:---------------------|:---------------------|:---------------------|:---------------------|:---------------------|:---------------------|:---------------------|:---------------------|:---------------------|:---------------------|:---------------------|:----------------|:---------------------|:---------------------|:---------------------|:-------------------|:------------------|:--------------------|:-------------------|:--------------------|\n",
    "| example  | 1.0                 | 25.0               | 1.0                | 0.0                 | 7.25               | 1.0             | 0.0                 | 0.0                 | 1.0                 | 0.0                  | 0.0                  | 0.0                 | 0.0                  | 0.0                 | 0.0                  | 0.0                  | 0.0                  | 1.0                | 0.0                 | 0.0                 | 1.0                 | 0.0        | 0.0                  | 1.0                 | 0.0          | 0.0          | 0.0                  | 0.0                  | 0.0                 | 0.0                  | 0.0                  | 0.0                  | 0.0                  | 0.0                  | 0.0         | 0.0                 | 0.0                  | 0.0                  | 0.0                  | 0.0           | 0.0                  | 0.0                  | 0.0                  | 0.0                  | 0.0                  | 0.0                  | 0.0                  | 0.0                  | 0.0                  | 0.0                  | 0.0                  | 0.0                  | 0.0                  | 0.0             | 0.0                  | 0.0                  | 0.0                  | 0.0                | 2.0               | 0.0                 | 1.0                | 0.0                 |\n",
    "| mean     | 0.6475869809203143  | 28.40516273849607  | 0.5230078563411896 | 0.38159371492704824 | 32.204207968574636 | 1.0             | 0.18855218855218855 | 0.08641975308641975 | 0.7250280583613917  | 0.016835016835016835 | 0.052749719416386086 | 0.06621773288439955 | 0.037037037037037035 | 0.03591470258136925 | 0.014590347923681257 | 0.004489337822671156 | 0.001122334455667789 | 0.7710437710437711 | 0.24242424242424243 | 0.20650953984287318 | 0.5510662177328844  | 0.0        | 0.007856341189674524 | 0.02356902356902357 | 0.0          | 0.0          | 0.001122334455667789 | 0.005611672278338945 | 0.04601571268237935 | 0.001122334455667789 | 0.001122334455667789 | 0.005611672278338945 | 0.001122334455667789 | 0.004489337822671156 | 0.0         | 0.06734006734006734 | 0.003367003367003367 | 0.002244668911335578 | 0.001122334455667789 | 0.0           | 0.001122334455667789 | 0.003367003367003367 | 0.001122334455667789 | 0.007856341189674524 | 0.004489337822671156 | 0.006734006734006734 | 0.001122334455667789 | 0.003367003367003367 | 0.002244668911335578 | 0.016835016835016835 | 0.001122334455667789 | 0.013468013468013467 | 0.006734006734006734 | 0.0             | 0.002244668911335578 | 0.01122334455667789  | 0.003367003367003367 | 0.7418630751964085 | 1.904601571268238 | 0.6026936026936027  | 0.3277216610549944 | 0.06958473625140292 |\n",
    "| variance | 0.22821808306282676 | 35.540669193493734 | 1.2146782704208816 | 0.6489990313409693  | 2466.665311685043  | 0.0             | 0.1530002607443685  | 0.07895137936290199 | 0.19936237295010206 | 0.01655159904318153  | 0.04996718651787863  | 0.06183294473604983 | 0.03566529492455418  | 0.03462483671986104 | 0.014377469671147182 | 0.00446918366858509  | 0.00112107482103741  | 0.1765352741783718 | 0.18365472910927452 | 0.16386334979675798 | 0.24739224140645757 | 0.0        | 0.007794619092785948 | 0.02301352469702639 | 0.0          | 0.0          | 0.00112107482103741  | 0.005580181412579468 | 0.04389826686871205 | 0.00112107482103741  | 0.00112107482103741  | 0.005580181412579468 | 0.00112107482103741  | 0.004469183668585091 | 0.0         | 0.06280538267070253 | 0.003355666655329955 | 0.002239630372814062 | 0.00112107482103741  | 0.0           | 0.00112107482103741  | 0.003355666655329956 | 0.00112107482103741  | 0.007794619092785947 | 0.004469183668585091 | 0.006688659887313086 | 0.00112107482103741  | 0.003355666655329955 | 0.002239630372814062 | 0.01655159904318153  | 0.00112107482103741  | 0.013286626081238881 | 0.006688659887313086 | 0.0             | 0.002239630372814062 | 0.011097381093639981 | 0.003355666655329955 | 0.1915022528565364 | 2.600326749223121 | 0.23945402396580845 | 0.2203201739303497 | 0.0647427007322256  |\n",
    "| range    | [0.0, 1.0]          | [21.5, 40.0]       | [0.0, 8.0]         | [0.0, 6.0]          | [0.0, 512.3292]    | [1.0, 1.0]      | [0.0, 1.0]          | [0.0, 1.0]          | [0.0, 1.0]          | [0.0, 1.0]           | [0.0, 1.0]           | [0.0, 1.0]          | [0.0, 1.0]           | [0.0, 1.0]          | [0.0, 1.0]           | [0.0, 1.0]           | [0.0, 1.0]           | [0.0, 1.0]         | [0.0, 1.0]          | [0.0, 1.0]          | [0.0, 1.0]          | [0.0, 0.0] | [0.0, 1.0]           | [0.0, 1.0]          | [0.0, 0.0]   | [0.0, 0.0]   | [0.0, 1.0]           | [0.0, 1.0]           | [0.0, 1.0]          | [0.0, 1.0]           | [0.0, 1.0]           | [0.0, 1.0]           | [0.0, 1.0]           | [0.0, 1.0]           | [0.0, 0.0]  | [0.0, 1.0]          | [0.0, 1.0]           | [0.0, 1.0]           | [0.0, 1.0]           | [0.0, 0.0]    | [0.0, 1.0]           | [0.0, 1.0]           | [0.0, 1.0]           | [0.0, 1.0]           | [0.0, 1.0]           | [0.0, 1.0]           | [0.0, 1.0]           | [0.0, 1.0]           | [0.0, 1.0]           | [0.0, 1.0]           | [0.0, 1.0]           | [0.0, 1.0]           | [0.0, 1.0]           | [0.0, 0.0]      | [0.0, 1.0]           | [0.0, 1.0]           | [0.0, 1.0]           | [0.0, 1.0]         | [1.0, 11.0]       | [0.0, 1.0]          | [0.0, 1.0]         | [0.0, 1.0]          |\n",
    "- targets, shape(891,) of int64\n",
    "\t- mean: 0.3838, variance: 0.2365, range: [0, 1]\n",
    "- test, shape(418, 62), column types: {int64: 7, float64: 2, uint8: 53}\n",
    "\n",
    "|          | Sex                 | Age                | SibSp              | Parch              | Fare              | Title_Royalty   | Embarked_C          | Embarked_Q          | Embarked_S          | Cabin_A              | Cabin_B            | Cabin_C             | Cabin_D              | Cabin_E             | Cabin_F              | Cabin_G               | Cabin_T    | Cabin_U             | Pclass_1            | Pclass_2            | Pclass_3            | Ticket_A              | Ticket_A4            | Ticket_A5            | Ticket_AQ3            | Ticket_AQ4            | Ticket_AS   | Ticket_C             | Ticket_CA            | Ticket_CASOTON   | Ticket_FC            | Ticket_FCC           | Ticket_Fa   | Ticket_LINE   | Ticket_LP             | Ticket_PC           | Ticket_PP             | Ticket_PPP   | Ticket_SC             | Ticket_SCA3           | Ticket_SCA4           | Ticket_SCAH          | Ticket_SCOW   | Ticket_SCPARIS       | Ticket_SCParis        | Ticket_SOC            | Ticket_SOP   | Ticket_SOPP          | Ticket_SOTONO2        | Ticket_SOTONOQ       | Ticket_SP   | Ticket_STONO         | Ticket_STONO2         | Ticket_STONOQ         | Ticket_SWPP   | Ticket_WC            | Ticket_WEP            | Ticket_XXX          | FamilySize         | Singleton           | SmallFamily         | LargeFamily         |\n",
    "|:---------|:--------------------|:-------------------|:-------------------|:-------------------|:------------------|:----------------|:--------------------|:--------------------|:--------------------|:---------------------|:-------------------|:--------------------|:---------------------|:--------------------|:---------------------|:----------------------|:-----------|:--------------------|:--------------------|:--------------------|:--------------------|:----------------------|:---------------------|:---------------------|:----------------------|:----------------------|:------------|:---------------------|:---------------------|:-----------------|:---------------------|:---------------------|:------------|:--------------|:----------------------|:--------------------|:----------------------|:-------------|:----------------------|:----------------------|:----------------------|:---------------------|:--------------|:---------------------|:----------------------|:----------------------|:-------------|:---------------------|:----------------------|:---------------------|:------------|:---------------------|:----------------------|:----------------------|:--------------|:---------------------|:----------------------|:--------------------|:-------------------|:--------------------|:--------------------|:--------------------|\n",
    "| example  | 1.0                 | 25.0               | 0.0                | 0.0                | 7.8292            | 1.0             | 0.0                 | 1.0                 | 0.0                 | 0.0                  | 0.0                | 0.0                 | 0.0                  | 0.0                 | 0.0                  | 0.0                   | 0.0        | 1.0                 | 0.0                 | 0.0                 | 1.0                 | 0.0                   | 0.0                  | 0.0                  | 0.0                   | 0.0                   | 0.0         | 0.0                  | 0.0                  | 0.0              | 0.0                  | 0.0                  | 0.0         | 0.0           | 0.0                   | 0.0                 | 0.0                   | 0.0          | 0.0                   | 0.0                   | 0.0                   | 0.0                  | 0.0           | 0.0                  | 0.0                   | 0.0                   | 0.0          | 0.0                  | 0.0                   | 0.0                  | 0.0         | 0.0                  | 0.0                   | 0.0                   | 0.0           | 0.0                  | 0.0                   | 1.0                 | 1.0                | 1.0                 | 0.0                 | 0.0                 |\n",
    "| mean     | 0.6363636363636364  | 28.607655502392344 | 0.4473684210526316 | 0.3923444976076555 | 35.61899954059467 | 1.0             | 0.24401913875598086 | 0.11004784688995216 | 0.645933014354067   | 0.01674641148325359  | 0.0430622009569378 | 0.08373205741626795 | 0.03110047846889952  | 0.0215311004784689  | 0.019138755980861243 | 0.0023923444976076554 | 0.0        | 0.7822966507177034  | 0.25598086124401914 | 0.22248803827751196 | 0.5215311004784688  | 0.0023923444976076554 | 0.007177033492822967 | 0.01674641148325359  | 0.0023923444976076554 | 0.0023923444976076554 | 0.0         | 0.007177033492822967 | 0.0645933014354067   | 0.0              | 0.004784688995215311 | 0.009569377990430622 | 0.0         | 0.0           | 0.0023923444976076554 | 0.07655502392344497 | 0.0023923444976076554 | 0.0          | 0.0023923444976076554 | 0.0023923444976076554 | 0.0023923444976076554 | 0.004784688995215311 | 0.0           | 0.01674641148325359  | 0.0023923444976076554 | 0.004784688995215311  | 0.0          | 0.009569377990430622 | 0.0023923444976076554 | 0.0215311004784689   | 0.0         | 0.004784688995215311 | 0.0023923444976076554 | 0.0023923444976076554 | 0.0           | 0.011961722488038277 | 0.0023923444976076554 | 0.7081339712918661  | 1.8397129186602872 | 0.6052631578947368  | 0.34688995215311    | 0.04784688995215311 |\n",
    "| variance | 0.23140495867768596 | 36.152285890890774 | 0.8022538403424828 | 0.9608983310821638 | 3110.729740865975 | 0.0             | 0.18447379867677016 | 0.09793731828483777 | 0.22870355532153566 | 0.016465969185687133 | 0.0412078478056821 | 0.07672099997710674 | 0.030133238707905036 | 0.02106751219065497 | 0.0187724640003663   | 0.0023866211854124235 | 0.0        | 0.17030860099356704 | 0.1904546599207894  | 0.17298711110093634 | 0.24953641171218607 | 0.0023866211854124226 | 0.007125523683065863 | 0.016465969185687136 | 0.002386621185412424  | 0.0023866211854124226 | 0.0         | 0.007125523683065863 | 0.060421006845081386 | 0.0              | 0.004761795746434376 | 0.009477804995306883 | 0.0         | 0.0           | 0.002386621185412424  | 0.07069435223552577 | 0.0023866211854124235 | 0.0          | 0.0023866211854124226 | 0.0023866211854124226 | 0.002386621185412423  | 0.004761795746434375 | 0.0           | 0.016465969185687136 | 0.002386621185412422  | 0.0047617957464343745 | 0.0          | 0.009477804995306883 | 0.002386621185412423  | 0.021067512190654974 | 0.0         | 0.004761795746434376 | 0.0023866211854124235 | 0.0023866211854124235 | 0.0           | 0.011818639683157437 | 0.0023866211854124235 | 0.20668024999427673 | 2.302059247727845  | 0.23891966759002772 | 0.22655731324832312 | 0.04555756507405965 |\n",
    "| range    | [0.0, 1.0]          | [21.5, 40.0]       | [0.0, 8.0]         | [0.0, 9.0]         | [0.0, 512.3292]   | [1.0, 1.0]      | [0.0, 1.0]          | [0.0, 1.0]          | [0.0, 1.0]          | [0.0, 1.0]           | [0.0, 1.0]         | [0.0, 1.0]          | [0.0, 1.0]           | [0.0, 1.0]          | [0.0, 1.0]           | [0.0, 1.0]            | [0.0, 0.0] | [0.0, 1.0]          | [0.0, 1.0]          | [0.0, 1.0]          | [0.0, 1.0]          | [0.0, 1.0]            | [0.0, 1.0]           | [0.0, 1.0]           | [0.0, 1.0]            | [0.0, 1.0]            | [0.0, 0.0]  | [0.0, 1.0]           | [0.0, 1.0]           | [0.0, 0.0]       | [0.0, 1.0]           | [0.0, 1.0]           | [0.0, 0.0]  | [0.0, 0.0]    | [0.0, 1.0]            | [0.0, 1.0]          | [0.0, 1.0]            | [0.0, 0.0]   | [0.0, 1.0]            | [0.0, 1.0]            | [0.0, 1.0]            | [0.0, 1.0]           | [0.0, 0.0]    | [0.0, 1.0]           | [0.0, 1.0]            | [0.0, 1.0]            | [0.0, 0.0]   | [0.0, 1.0]           | [0.0, 1.0]            | [0.0, 1.0]           | [0.0, 0.0]  | [0.0, 1.0]           | [0.0, 1.0]            | [0.0, 1.0]            | [0.0, 0.0]    | [0.0, 1.0]           | [0.0, 1.0]            | [0.0, 1.0]          | [1.0, 11.0]        | [0.0, 1.0]          | [0.0, 1.0]          | [0.0, 1.0]          |"
   ]
  },
  {
   "cell_type": "code",
   "execution_count": 1188,
   "metadata": {},
   "outputs": [],
   "source": [
    "targets = pd.read_csv('./data/train.csv', usecols=['Survived'])['Survived'].values\n",
    "train = combined.iloc[:891]\n",
    "test = combined.iloc[891:]"
   ]
  },
  {
   "cell_type": "markdown",
   "metadata": {},
   "source": [
    "## Feature selection"
   ]
  },
  {
   "cell_type": "markdown",
   "metadata": {},
   "source": [
    "**input**\n",
    "- train, shape(891, 62), column types: {int64: 7, float64: 2, uint8: 53}\n",
    "- targets, shape(891,) of int64\n",
    "\n",
    "**output**\n",
    "- train, shape(891, 62), column types: {int64: 7, float64: 2, uint8: 53}, no change in the cell\n",
    "\n",
    "|          | Sex                 | Age                | SibSp              | Parch               | Fare               | Title_Royalty   | Embarked_C          | Embarked_Q          | Embarked_S          | Cabin_A              | Cabin_B              | Cabin_C             | Cabin_D              | Cabin_E             | Cabin_F              | Cabin_G              | Cabin_T              | Cabin_U            | Pclass_1            | Pclass_2            | Pclass_3            | Ticket_A   | Ticket_A4            | Ticket_A5           | Ticket_AQ3   | Ticket_AQ4   | Ticket_AS            | Ticket_C             | Ticket_CA           | Ticket_CASOTON       | Ticket_FC            | Ticket_FCC           | Ticket_Fa            | Ticket_LINE          | Ticket_LP   | Ticket_PC           | Ticket_PP            | Ticket_PPP           | Ticket_SC            | Ticket_SCA3   | Ticket_SCA4          | Ticket_SCAH          | Ticket_SCOW          | Ticket_SCPARIS       | Ticket_SCParis       | Ticket_SOC           | Ticket_SOP           | Ticket_SOPP          | Ticket_SOTONO2       | Ticket_SOTONOQ       | Ticket_SP            | Ticket_STONO         | Ticket_STONO2        | Ticket_STONOQ   | Ticket_SWPP          | Ticket_WC            | Ticket_WEP           | Ticket_XXX         | FamilySize        | Singleton           | SmallFamily        | LargeFamily         |\n",
    "|:---------|:--------------------|:-------------------|:-------------------|:--------------------|:-------------------|:----------------|:--------------------|:--------------------|:--------------------|:---------------------|:---------------------|:--------------------|:---------------------|:--------------------|:---------------------|:---------------------|:---------------------|:-------------------|:--------------------|:--------------------|:--------------------|:-----------|:---------------------|:--------------------|:-------------|:-------------|:---------------------|:---------------------|:--------------------|:---------------------|:---------------------|:---------------------|:---------------------|:---------------------|:------------|:--------------------|:---------------------|:---------------------|:---------------------|:--------------|:---------------------|:---------------------|:---------------------|:---------------------|:---------------------|:---------------------|:---------------------|:---------------------|:---------------------|:---------------------|:---------------------|:---------------------|:---------------------|:----------------|:---------------------|:---------------------|:---------------------|:-------------------|:------------------|:--------------------|:-------------------|:--------------------|\n",
    "| example  | 1.0                 | 25.0               | 1.0                | 0.0                 | 7.25               | 1.0             | 0.0                 | 0.0                 | 1.0                 | 0.0                  | 0.0                  | 0.0                 | 0.0                  | 0.0                 | 0.0                  | 0.0                  | 0.0                  | 1.0                | 0.0                 | 0.0                 | 1.0                 | 0.0        | 0.0                  | 1.0                 | 0.0          | 0.0          | 0.0                  | 0.0                  | 0.0                 | 0.0                  | 0.0                  | 0.0                  | 0.0                  | 0.0                  | 0.0         | 0.0                 | 0.0                  | 0.0                  | 0.0                  | 0.0           | 0.0                  | 0.0                  | 0.0                  | 0.0                  | 0.0                  | 0.0                  | 0.0                  | 0.0                  | 0.0                  | 0.0                  | 0.0                  | 0.0                  | 0.0                  | 0.0             | 0.0                  | 0.0                  | 0.0                  | 0.0                | 2.0               | 0.0                 | 1.0                | 0.0                 |\n",
    "| mean     | 0.6475869809203143  | 28.40516273849607  | 0.5230078563411896 | 0.38159371492704824 | 32.204207968574636 | 1.0             | 0.18855218855218855 | 0.08641975308641975 | 0.7250280583613917  | 0.016835016835016835 | 0.052749719416386086 | 0.06621773288439955 | 0.037037037037037035 | 0.03591470258136925 | 0.014590347923681257 | 0.004489337822671156 | 0.001122334455667789 | 0.7710437710437711 | 0.24242424242424243 | 0.20650953984287318 | 0.5510662177328844  | 0.0        | 0.007856341189674524 | 0.02356902356902357 | 0.0          | 0.0          | 0.001122334455667789 | 0.005611672278338945 | 0.04601571268237935 | 0.001122334455667789 | 0.001122334455667789 | 0.005611672278338945 | 0.001122334455667789 | 0.004489337822671156 | 0.0         | 0.06734006734006734 | 0.003367003367003367 | 0.002244668911335578 | 0.001122334455667789 | 0.0           | 0.001122334455667789 | 0.003367003367003367 | 0.001122334455667789 | 0.007856341189674524 | 0.004489337822671156 | 0.006734006734006734 | 0.001122334455667789 | 0.003367003367003367 | 0.002244668911335578 | 0.016835016835016835 | 0.001122334455667789 | 0.013468013468013467 | 0.006734006734006734 | 0.0             | 0.002244668911335578 | 0.01122334455667789  | 0.003367003367003367 | 0.7418630751964085 | 1.904601571268238 | 0.6026936026936027  | 0.3277216610549944 | 0.06958473625140292 |\n",
    "| variance | 0.22821808306282676 | 35.540669193493734 | 1.2146782704208816 | 0.6489990313409693  | 2466.665311685043  | 0.0             | 0.1530002607443685  | 0.07895137936290199 | 0.19936237295010206 | 0.01655159904318153  | 0.04996718651787863  | 0.06183294473604983 | 0.03566529492455418  | 0.03462483671986104 | 0.014377469671147182 | 0.00446918366858509  | 0.00112107482103741  | 0.1765352741783718 | 0.18365472910927452 | 0.16386334979675798 | 0.24739224140645757 | 0.0        | 0.007794619092785948 | 0.02301352469702639 | 0.0          | 0.0          | 0.00112107482103741  | 0.005580181412579468 | 0.04389826686871205 | 0.00112107482103741  | 0.00112107482103741  | 0.005580181412579468 | 0.00112107482103741  | 0.004469183668585091 | 0.0         | 0.06280538267070253 | 0.003355666655329955 | 0.002239630372814062 | 0.00112107482103741  | 0.0           | 0.00112107482103741  | 0.003355666655329956 | 0.00112107482103741  | 0.007794619092785947 | 0.004469183668585091 | 0.006688659887313086 | 0.00112107482103741  | 0.003355666655329955 | 0.002239630372814062 | 0.01655159904318153  | 0.00112107482103741  | 0.013286626081238881 | 0.006688659887313086 | 0.0             | 0.002239630372814062 | 0.011097381093639981 | 0.003355666655329955 | 0.1915022528565364 | 2.600326749223121 | 0.23945402396580845 | 0.2203201739303497 | 0.0647427007322256  |\n",
    "| range    | [0.0, 1.0]          | [21.5, 40.0]       | [0.0, 8.0]         | [0.0, 6.0]          | [0.0, 512.3292]    | [1.0, 1.0]      | [0.0, 1.0]          | [0.0, 1.0]          | [0.0, 1.0]          | [0.0, 1.0]           | [0.0, 1.0]           | [0.0, 1.0]          | [0.0, 1.0]           | [0.0, 1.0]          | [0.0, 1.0]           | [0.0, 1.0]           | [0.0, 1.0]           | [0.0, 1.0]         | [0.0, 1.0]          | [0.0, 1.0]          | [0.0, 1.0]          | [0.0, 0.0] | [0.0, 1.0]           | [0.0, 1.0]          | [0.0, 0.0]   | [0.0, 0.0]   | [0.0, 1.0]           | [0.0, 1.0]           | [0.0, 1.0]          | [0.0, 1.0]           | [0.0, 1.0]           | [0.0, 1.0]           | [0.0, 1.0]           | [0.0, 1.0]           | [0.0, 0.0]  | [0.0, 1.0]          | [0.0, 1.0]           | [0.0, 1.0]           | [0.0, 1.0]           | [0.0, 0.0]    | [0.0, 1.0]           | [0.0, 1.0]           | [0.0, 1.0]           | [0.0, 1.0]           | [0.0, 1.0]           | [0.0, 1.0]           | [0.0, 1.0]           | [0.0, 1.0]           | [0.0, 1.0]           | [0.0, 1.0]           | [0.0, 1.0]           | [0.0, 1.0]           | [0.0, 1.0]           | [0.0, 0.0]      | [0.0, 1.0]           | [0.0, 1.0]           | [0.0, 1.0]           | [0.0, 1.0]         | [1.0, 11.0]       | [0.0, 1.0]          | [0.0, 1.0]         | [0.0, 1.0]          |\n",
    "- clf, <class 'sklearn.ensemble._forest.RandomForestClassifier'>, RandomForestClassifier(max_features='sqrt', n_estimators=50)\n",
    "- targets, shape(891,) of int64\n",
    "\t- mean: 0.3838, variance: 0.2365, range: [0, 1]"
   ]
  },
  {
   "cell_type": "code",
   "execution_count": 1189,
   "metadata": {},
   "outputs": [],
   "source": [
    "clf = RandomForestClassifier(n_estimators=50, max_features='sqrt')\n",
    "clf = clf.fit(train, targets)"
   ]
  },
  {
   "cell_type": "markdown",
   "metadata": {},
   "source": [
    "**input**\n",
    "- train, shape(891, 62), column types: {int64: 7, float64: 2, uint8: 53}\n",
    "- clf, <class 'sklearn.ensemble._forest.RandomForestClassifier'>"
   ]
  },
  {
   "cell_type": "code",
   "execution_count": 1190,
   "metadata": {},
   "outputs": [
    {
     "data": {
      "text/plain": [
       "<matplotlib.axes._subplots.AxesSubplot at 0x269280c49e8>"
      ]
     },
     "execution_count": 1190,
     "metadata": {},
     "output_type": "execute_result"
    },
    {
     "data": {
      "image/png": "[encoded data removed]",
      "text/plain": [
       "<Figure size 1800x1800 with 1 Axes>"
      ]
     },
     "metadata": {
      "needs_background": "light"
     },
     "output_type": "display_data"
    }
   ],
   "source": [
    "features = pd.DataFrame()\n",
    "features['feature'] = train.columns\n",
    "features['importance'] = clf.feature_importances_\n",
    "features.sort_values(by=['importance'], ascending=True, inplace=True)\n",
    "features.set_index('feature', inplace=True)\n",
    "\n",
    "features.plot(kind='barh', figsize=(25, 25))"
   ]
  },
  {
   "cell_type": "markdown",
   "metadata": {},
   "source": [
    "![energy](./images/article_1/8.png)"
   ]
  },
  {
   "cell_type": "markdown",
   "metadata": {},
   "source": [
    "**input**\n",
    "- clf, <class 'sklearn.ensemble._forest.RandomForestClassifier'>\n",
    "- train, shape(891, 62), column types: {int64: 7, float64: 2, uint8: 53}\n",
    "- test, shape(418, 62), column types: {int64: 7, float64: 2, uint8: 53}\n",
    "\n",
    "**output**\n",
    "- model, <class 'sklearn.feature_selection._from_model.SelectFromModel'>, SelectFromModel(estimator=RandomForestClassifier(max_features='sqrt',\n",
    "                                                 n_estimators=50),\n",
    "                prefit=True)\n",
    "- train_reduced, shape(891, 12) of float64\n",
    "\t- mean: 5.5741, variance: 332.1090, range: [0.0, 512.3292]"
   ]
  },
  {
   "cell_type": "code",
   "execution_count": 1191,
   "metadata": {},
   "outputs": [],
   "source": [
    "model = SelectFromModel(clf, prefit=True)\n",
    "train_reduced = model.transform(train)\n",
    "test_reduced = model.transform(test)"
   ]
  },
  {
   "cell_type": "markdown",
   "metadata": {},
   "source": [
    "### Let's try a simple model"
   ]
  },
  {
   "cell_type": "markdown",
   "metadata": {},
   "source": [
    "**input**\n",
    "- model, <class 'sklearn.feature_selection._from_model.SelectFromModel'>\n",
    "- train_reduced, shape(891, 12) of float64\n",
    "- targets, shape(891,) of int64"
   ]
  },
  {
   "cell_type": "code",
   "execution_count": 1192,
   "metadata": {},
   "outputs": [
    {
     "name": "stdout",
     "output_type": "stream",
     "text": [
      "Cross-validation of : <class 'sklearn.ensemble._forest.RandomForestClassifier'>\n",
      "CV score = 0.7968865733475613\n"
     ]
    }
   ],
   "source": [
    "model = RandomForestClassifier()\n",
    "print('Cross-validation of : {0}'.format(model.__class__))\n",
    "score = compute_score(clf=model, X=train_reduced, y=targets, scoring='accuracy')\n",
    "print('CV score = {0}'.format(score))"
   ]
  }
 ],
 "metadata": {
  "kernelspec": {
   "display_name": "Python 3",
   "language": "python",
   "name": "python3"
  },
  "language_info": {
   "codemirror_mode": {
    "name": "ipython",
    "version": 3
   },
   "file_extension": ".py",
   "mimetype": "text/x-python",
   "name": "python",
   "nbconvert_exporter": "python",
   "pygments_lexer": "ipython3",
   "version": "3.7.3"
  }
 },
 "nbformat": 4,
 "nbformat_minor": 4
}
