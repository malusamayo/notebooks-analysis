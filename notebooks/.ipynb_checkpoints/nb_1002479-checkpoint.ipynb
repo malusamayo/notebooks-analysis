{
 "cells": [
  {
   "cell_type": "markdown",
   "metadata": {},
   "source": [
    "# Subroutine 1\n",
    "Generate points based on the labels (taken as an input from the GUI)\n",
    "structure of the point:\n",
    "    (t0, vel, flag (1=hyperbolic, 0=linear), label)"
   ]
  },
  {
   "cell_type": "code",
   "execution_count": 1,
   "metadata": {},
   "outputs": [],
   "source": [
    "import random\n",
    "import numpy as np\n",
    "import matplotlib.pylab as plt\n",
    "from scipy import signal\n",
    "%matplotlib inline\n",
    "\n",
    "\n",
    "def points_gen(nDA,nR,nCN,nMU=5):\n",
    "    # The function generates random values of t0 - velocity pairs\n",
    "    # based on number of requested waves:\n",
    "    # nDA - number of direct waves (linear moveout, label 'D')\n",
    "    # nR - number of reflections (hyperbolic moveout, label 'R')\n",
    "    # nCN - number of coherent noise events (linear moveout, label 'N')\n",
    "    # nMU - number of multiples (hyperbolic, label 'M')\n",
    "    # outputs (nDA+nR+nCN) * (4) list\n",
    "    # each point in the list has the following structure\n",
    "    # [t0 (intercept time), velocity, flag(1=hyperbolic, 0=linear), label(see above))]\n",
    "    \n",
    "    \n",
    "    # direct arrival\n",
    "    direct = []\n",
    "    for n in range(nDA):\n",
    "        direct.append([random.uniform(0,.1),random.uniform(.5,1.5),0,'D'])\n",
    "    \n",
    "    reflected = []\n",
    "    multiples = []\n",
    "    for n in range(nR):\n",
    "        reflection = [random.uniform(0,3),random.uniform(1.5,3.5),1,'R']\n",
    "        reflected.append(reflection)\n",
    "        for nmult in range(2,nMU):\n",
    "            multiples.append([nmult * reflection[0], reflection[1],1,'M'])\n",
    "        \n",
    "    noise = []\n",
    "    for n in range(nCN):\n",
    "        noise.append([random.uniform(-3,3),random.uniform(-3,3),0,'N'])\n",
    "        \n",
    "    \n",
    "#    for n in range(nMU):\n",
    "#        noise.append([random.uniform(random.uniform(2,2),4),random.uniform(1.5,2.5),1,'M'])\n",
    "\n",
    "    events = direct + reflected + noise + multiples\n",
    "    return events"
   ]
  },
  {
   "cell_type": "code",
   "execution_count": 2,
   "metadata": {},
   "outputs": [],
   "source": [
    "def points_plot(events):\n",
    "    x = [x/1000 for x in range(0,2000,25)]\n",
    "    \n",
    "    fig, ax = plt.subplots()\n",
    "    \n",
    "    # plot waves\n",
    "    for i in events:\n",
    "        if i[3] == 'D':\n",
    "            ax.plot(x,[i[0] + offset/i[1] for offset in x],'r')\n",
    "        if i[3] == 'N':\n",
    "            ax.plot(x,[i[0]+offset/i[1] for offset in x],'b')\n",
    "        if i[3] == 'R':\n",
    "            ax.plot(x,[np.sqrt(i[0]**2 + offset**2 / i[1]**2) for offset in x],'g')\n",
    "        if i[3] == 'M':\n",
    "            ax.plot(x,[np.sqrt(i[0]**2 + offset**2 / i[1]**2) for offset in x],'k')\n",
    "    \n",
    "    plt.ylabel('Time, s')\n",
    "    plt.xlabel('Offset, km')\n",
    "    ax.set_xlim([0,2])\n",
    "    ax.set_ylim([0,4])\n",
    "    ax.invert_yaxis()\n",
    "    ax.set_aspect(1)\n",
    "    return ax"
   ]
  },
  {
   "cell_type": "code",
   "execution_count": 3,
   "metadata": {},
   "outputs": [
    {
     "data": {
      "image/png": "[encoded data removed]",
      "text/plain": [
       "<Figure size 432x288 with 1 Axes>"
      ]
     },
     "metadata": {
      "needs_background": "light"
     },
     "output_type": "display_data"
    }
   ],
   "source": [
    "events=points_gen(2,2,2)\n",
    "ax = points_plot(events)\n",
    "plt.show(ax)"
   ]
  },
  {
   "cell_type": "code",
   "execution_count": 4,
   "metadata": {},
   "outputs": [],
   "source": [
    "def t_linear(x, v, t):\n",
    "    # return a linear event (direct or coherent noise)\n",
    "    return t + x/v\n",
    "\n",
    "def t_reflected(x,v,t):\n",
    "    return np.sqrt(t**2 + x**2 / v**2)\n",
    "\n",
    "def points_to_data(events, dx = 0.005, xmax = 2):\n",
    "    x = np.arange(0, xmax + dx, dx)\n",
    "    t=[]\n",
    "    \n",
    "    for i in events:\n",
    "        if i[3] == 'D' or i[3] == 'N':\n",
    "            t.append(t_linear(x, i[1], i[0]))\n",
    "        if i[3] == 'R' or i[3] == 'M':\n",
    "            t.append(t_reflected(x,i[1],i[0]))\n",
    "    return t"
   ]
  },
  {
   "cell_type": "code",
   "execution_count": 5,
   "metadata": {},
   "outputs": [],
   "source": [
    "data = points_to_data(events)\n",
    "dataround = np.round(data,decimals=2)"
   ]
  },
  {
   "cell_type": "code",
   "execution_count": 6,
   "metadata": {},
   "outputs": [],
   "source": [
    "dt = 0.01\n",
    "tmax = 4\n",
    "t = np.arange(0,tmax + dt,dt)\n",
    "\n",
    "dx = 0.005\n",
    "xmax = 2\n",
    "x = np.arange(0, xmax + dx, dx)"
   ]
  },
  {
   "cell_type": "code",
   "execution_count": 7,
   "metadata": {},
   "outputs": [],
   "source": [
    "datamatrix = np.zeros((len(t),len(x)))\n",
    "\n",
    "for event in dataround:\n",
    "    for n, i in enumerate(event):\n",
    "        idx = np.where((t >= i - 0.0001) & (t <= i + .0001))\n",
    "        if np.size(idx[0]) != 0:\n",
    "            #print(idx[0],n)\n",
    "            datamatrix[idx[0][0]][n] = 1"
   ]
  },
  {
   "cell_type": "code",
   "execution_count": 8,
   "metadata": {},
   "outputs": [
    {
     "data": {
      "image/png": "[encoded data removed]",
      "text/plain": [
       "<Figure size 432x288 with 1 Axes>"
      ]
     },
     "metadata": {
      "needs_background": "light"
     },
     "output_type": "display_data"
    },
    {
     "data": {
      "image/png": "[encoded data removed]",
      "text/plain": [
       "<Figure size 432x288 with 1 Axes>"
      ]
     },
     "metadata": {
      "needs_background": "light"
     },
     "output_type": "display_data"
    }
   ],
   "source": [
    "#numpy.apply_along_axis\n",
    "\n",
    "\n",
    "def conv_ricker(array):\n",
    "    points = 100\n",
    "    a = 4.0\n",
    "    ricker = signal.ricker(points, a)\n",
    "    return np.convolve(array,ricker,mode='same')\n",
    "\n",
    "data_ricker = np.apply_along_axis(conv_ricker, 0, datamatrix)\n",
    "\n",
    "import numpy as np\n",
    "\n",
    "plt.imshow(datamatrix, cmap='gray', interpolation='bicubic', extent=[0,2,4,0]);\n",
    "plt.show()\n",
    "\n",
    "plt.imshow(data_ricker, cmap='gray', interpolation='bicubic', extent=[0,2,4,0]);\n",
    "plt.show()"
   ]
  },
  {
   "cell_type": "code",
   "execution_count": 9,
   "metadata": {},
   "outputs": [],
   "source": [
    "# Convert data in list format to dictionary\n",
    "    \n",
    "def makeEventsDict(events):\n",
    "    eventsDict = {}\n",
    "    labelsDict = {}\n",
    "    \n",
    "    labelsDict['label'] = []\n",
    "    eventsDict['direct'], eventsDict['reflected'], eventsDict['coherentnoise'], eventsDict['multiples'] = [],[],[],[]\n",
    "    eventsDict['events'] = []\n",
    "    for each in events:\n",
    "#         print(each)\n",
    "#         print(each[0])\n",
    "#         print(each[3])\n",
    "#         eventsDict['direct'].append(each[0])\n",
    "#         eventsDict['reflected'].append(each[1])\n",
    "#         eventsDict['coherentnoise'].append(each[2])\n",
    "         eventsDict['events'].append(each[0:3])\n",
    "         labelsDict['label'].append(each[3])\n",
    "    return(eventsDict,labelsDict)"
   ]
  },
  {
   "cell_type": "code",
   "execution_count": 10,
   "metadata": {},
   "outputs": [],
   "source": [
    "from sklearn import svm\n",
    "SVC = svm.SVC()\n",
    "\n",
    "# This function takes a events list, turns it into two dictionaries combined, splits that into two arrays for X and Y\n",
    "# trains a SVM label on them and then returns that model output details\n",
    "# The model will need to be run on a input for a prediction\n",
    "\n",
    "def comboFunctionA(events):\n",
    "    testEvents = makeEventsDict(events)\n",
    "    eventsDict = testEvents[0]\n",
    "    labelsDict = testEvents[1]\n",
    "    X = eventsDict['events']\n",
    "#     print(\"X = \",X)\n",
    "    y = labelsDict['label']\n",
    "#     print(\"y = \",y)\n",
    "    clf = svm.SVC()\n",
    "    output = clf.fit(X, y)\n",
    "    return(output)"
   ]
  },
  {
   "cell_type": "code",
   "execution_count": 11,
   "metadata": {},
   "outputs": [
    {
     "name": "stderr",
     "output_type": "stream",
     "text": [
      "C:\\Users\\77338\\Anaconda3\\lib\\site-packages\\sklearn\\svm\\base.py:196: FutureWarning: The default value of gamma will change from 'auto' to 'scale' in version 0.22 to account better for unscaled features. Set gamma explicitly to 'auto' or 'scale' to avoid this warning.\n",
      "  \"avoid this warning.\", FutureWarning)\n"
     ]
    },
    {
     "data": {
      "text/plain": [
       "SVC(C=1.0, cache_size=200, class_weight=None, coef0=0.0,\n",
       "  decision_function_shape='ovr', degree=3, gamma='auto_deprecated',\n",
       "  kernel='rbf', max_iter=-1, probability=False, random_state=None,\n",
       "  shrinking=True, tol=0.001, verbose=False)"
      ]
     },
     "execution_count": 11,
     "metadata": {},
     "output_type": "execute_result"
    }
   ],
   "source": [
    "# training on a test set\n",
    "events_train=points_gen(200,200,200,200)\n",
    "\n",
    "tempAnswer = comboFunctionA(events_train)\n",
    "tempAnswer"
   ]
  },
  {
   "cell_type": "code",
   "execution_count": 12,
   "metadata": {},
   "outputs": [
    {
     "data": {
      "text/plain": [
       "array(['D'], dtype='<U1')"
      ]
     },
     "execution_count": 12,
     "metadata": {},
     "output_type": "execute_result"
    }
   ],
   "source": [
    "tempAnswer.predict([[.1,1.5,0]])"
   ]
  },
  {
   "cell_type": "code",
   "execution_count": null,
   "metadata": {},
   "outputs": [],
   "source": []
  }
 ],
 "metadata": {
  "kernelspec": {
   "display_name": "Python 3",
   "language": "python",
   "name": "python3"
  },
  "language_info": {
   "codemirror_mode": {
    "name": "ipython",
    "version": 3
   },
   "file_extension": ".py",
   "mimetype": "text/x-python",
   "name": "python",
   "nbconvert_exporter": "python",
   "pygments_lexer": "ipython3",
   "version": "3.7.3"
  }
 },
 "nbformat": 4,
 "nbformat_minor": 2
}
