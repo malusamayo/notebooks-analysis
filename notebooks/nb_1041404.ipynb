{
 "cells": [
  {
   "cell_type": "code",
   "execution_count": 19,
   "metadata": {
    "collapsed": false,
    "scrolled": true
   },
   "outputs": [
    {
     "name": "stdout",
     "output_type": "stream",
     "text": [
      "CPU times: user 57min 45s, sys: 2min 51s, total: 1h 37s\n",
      "Wall time: 1h 43min 15s\n",
      "0.765013114302\n",
      "{'min_samples_split': 19, 'min_samples_leaf': 8, 'n_estimators': 40}\n"
     ]
    }
   ],
   "source": [
    "#This is for a Kaggle datascience competition. More information about it can be found here: https://www.kaggle.com/c/sf-crime/data\n",
    "#I have used a RandomForest classifier for prediction.\n",
    "import pandas as pd\n",
    "import patsy\n",
    "from sklearn.ensemble import RandomForestClassifier\n",
    "from sklearn.neighbors import KNeighborsClassifier\n",
    "import numpy as np\n",
    "import time\n",
    "from sklearn import cross_validation\n",
    "from sklearn.metrics import log_loss\n",
    "import logloss\n",
    "import sys\n",
    "from sklearn.grid_search import RandomizedSearchCV\n",
    "from sklearn.linear_model import LogisticRegression\n",
    "from sklearn.cross_validation import cross_val_score\n",
    "\n",
    "#to track the performance\n",
    "startTime = time.time()\n",
    "\n",
    "#a function that can mungle the data (for reusability)\n",
    "def wrangle(dataFrame, isTraining):\n",
    "    dayOfWeekChanged = pd.get_dummies(dataFrame['DayOfWeek'])\n",
    "    pdDistrictChanged = pd.get_dummies(dataFrame['PdDistrict'])\n",
    "    dayOrNight = ['Night' if(hr > 22 or hr <= 6) else 'Day' for hr in pd.DatetimeIndex(dataFrame['Dates']).hour]\n",
    "    dayOrNightChanged = pd.get_dummies(dayOrNight)\n",
    "    month = pd.DatetimeIndex(dataFrame['Dates']).month\n",
    "    monthFrame = pd.DataFrame(month, columns = ['Month'])\n",
    "    year = pd.DatetimeIndex(dataFrame['Dates']).year\n",
    "    yearFrame = pd.DataFrame(year, columns = ['Year'])\n",
    "    enumIndex = categoryLabels = []\n",
    "    dropped = dataFrame.drop(['Dates','DayOfWeek', 'PdDistrict'], axis=1)\n",
    "    interimFrame = pd.concat([dropped,dayOfWeekChanged, pdDistrictChanged, dayOrNightChanged, monthFrame, yearFrame], axis=1)\n",
    "    if(isTraining):\n",
    "        enumIndex,categoryLabels = pd.factorize(interimFrame['Category'])\n",
    "        categoryChanged = pd.DataFrame(enumIndex, columns = ['Category'])\n",
    "        categoryDropped = interimFrame.drop(['Category'], axis = 1)\n",
    "        transformed = pd.concat([categoryDropped, categoryChanged], axis=1)\n",
    "    else:\n",
    "        category = pd.DataFrame([], columns = ['Category'])\n",
    "        transformed = pd.concat([interimFrame, category], axis=1)\n",
    "        transformed['Category'].fillna(9999, inplace=True)\n",
    "    return (transformed, enumIndex, categoryLabels)\n",
    "\n",
    "#unindexes class labels to descriptions\n",
    "def unIndex(labels, enumIndex):\n",
    "    return [labels[index] for index in enumIndex]\n",
    "\n",
    "def findMissingLabels(masterLabels, predictedLabels):\n",
    "    return masterLabels - set(predictedLabels)\n",
    "\n",
    "train = pd.read_csv(\"../data/train.csv\",\n",
    "                    usecols = ['Dates','Category','DayOfWeek','PdDistrict','X','Y'],\n",
    "                    parse_dates = [1]\n",
    "                    )\n",
    "test = pd.read_csv(\"../data/test.csv\",\n",
    "                   usecols = ['Dates','DayOfWeek','PdDistrict','X','Y'],\n",
    "                   parse_dates = [1]\n",
    "                   )\n",
    "\n",
    "trainingWrangled, enumIndexTraining, categoryLabelsTraining = wrangle(train, True)\n",
    "testWrangled, enumIndexTest, categoryLabelsTest = wrangle(test, False)\n",
    "\n",
    "#model the data using randomforest\n",
    "#numTrees = range(10, 100, 10)\n",
    "#numMinLeafSamples = range(2, 20, 2)\n",
    "#numMinSamplesSplit = range(1, 20, 3)\n",
    "#param_dist = dict(n_estimators = numTrees, min_samples_leaf = numMinLeafSamples, min_samples_split = numMinSamplesSplit)\n",
    "#model = RandomForestClassifier(n_estimators=60)\n",
    "\n",
    "\n",
    "# model the data using knn\n",
    "# define the parameter values that should be searched\n",
    "k_range = range(1, 50)\n",
    "weight_options = ['uniform', 'distance']\n",
    "# specify \"parameter distributions\" rather than a \"parameter grid\"\n",
    "param_dist = dict(n_neighbors=k_range, weights=weight_options)\n",
    "model = KNeighborsClassifier(n_neighbors=24, weights='distance')\n",
    "\n",
    "#model data using logistic regression\n",
    "#model = LogisticRegression()\n",
    "#%time print(np.sqrt(-cross_val_score(model, trainingWrangled, enumIndexTraining, cv=6, scoring='mean_squared_error')).mean())\n",
    "\n",
    "rand = RandomizedSearchCV(model, param_dist, cv=6, scoring='accuracy', n_iter=8)\n",
    "%time rand.fit(trainingWrangled, enumIndexTraining)\n",
    "# examine the best model\n",
    "print(rand.best_score_)\n",
    "print(rand.best_params_)\n",
    "\n",
    "#%time predicted = model.predict(testWrangled)\n",
    "#dfWithClass = pd.DataFrame(predicted, columns = ['Class'])\n",
    "#final = pd.concat([testWrangled, dfWithClass], axis=1)\n",
    "#convert the enumerated class labels to descriptive labels\n",
    "#classLabels = unIndex(categoryLabelsTraining, final['Class'])\n",
    "#categoriesPredicted = pd.get_dummies(classLabels)\n",
    "\n",
    "#if there are any missing labels, append them to the end so that the output is complete as required by kaggle\n",
    "#missingClasses = findMissingLabels(categoryLabelsTraining, classLabels)\n",
    "#empty = pd.DataFrame(0, index = np.arange(len(classLabels)), columns = missingClasses)\n",
    "\n",
    "#finalFormatted = pd.concat([categoriesPredicted, empty], axis=1)\n",
    "#finalFormatted.to_csv(\"../data/predictions.csv\")"
   ]
  },
  {
   "cell_type": "code",
   "execution_count": null,
   "metadata": {
    "collapsed": true
   },
   "outputs": [],
   "source": []
  },
  {
   "cell_type": "code",
   "execution_count": null,
   "metadata": {
    "collapsed": true
   },
   "outputs": [],
   "source": []
  }
 ],
 "metadata": {
  "kernelspec": {
   "display_name": "Python 3",
   "language": "python",
   "name": "python3"
  },
  "language_info": {
   "codemirror_mode": {
    "name": "ipython",
    "version": 3
   },
   "file_extension": ".py",
   "mimetype": "text/x-python",
   "name": "python",
   "nbconvert_exporter": "python",
   "pygments_lexer": "ipython3",
   "version": "3.4.3"
  }
 },
 "nbformat": 4,
 "nbformat_minor": 0
}
