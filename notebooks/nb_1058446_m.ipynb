{
 "cells": [
  {
   "cell_type": "markdown",
   "metadata": {},
   "source": [
    "Yonghui Li (Aries) 201605\n",
    "\n",
    "Lyh710@gmail.com\n",
    "\n",
    "# Data Science Problem for Applicants\n",
    "\n",
    "# Problem:\n",
    "A retail bank has approached you to predict the success of telemarketing campaigns for selling long-term deposits at the bank. Your task is to build a model to predict whether a client will subscribe to a term deposit. \n",
    "\n",
    "# Requirements:\n",
    "You can use any open source tools you like to complete the analysis, but R or Python is preferred. On completion of the task we will ask you to do a 10-15 minute presentation on your results, and provide any code used to build the model. We will be assessing how you approach the problem, your technical skills (e.g. algorithms and feature selection), and how you communicate the results. \n",
    "\n",
    "# Data:\n",
    "The bank has provided you with data collected from 2008 to 2010 (which includes the effects of the Global Financial Crisis). The data includes details related to client and product attributes. \n",
    "\n",
    "# Attribute Information:\n",
    "\n",
    "   ## Input variables:\n",
    "   \n",
    "   ### bank client data:\n",
    "   \n",
    "   1 - age (numeric)\n",
    "   \n",
    "   2 - job : type of job (categorical: \"admin.\",\"unknown\",\"unemployed\",\"management\",\"housemaid\",\"entrepreneur\",\"student\",\"blue-collar\",\"self-employed\",\"retired\",\"technician\",\"services\") \n",
    "   \n",
    "   3 - marital : marital status (categorical: \"married\",\"divorced\",\"single\"; note: \"divorced\" means divorced or widowed)\n",
    "   \n",
    "   4 - education (categorical: \"unknown\",\"secondary\",\"primary\",\"tertiary\")\n",
    "   \n",
    "   5 - default: has credit in default? (binary: \"yes\",\"no\")\n",
    "   \n",
    "   6 - balance: average yearly balance, in euros (numeric) \n",
    "   \n",
    "   7 - housing: has housing loan? (binary: \"yes\",\"no\")\n",
    "   \n",
    "   8 - loan: has personal loan? (binary: \"yes\",\"no\")\n",
    "   ### related with the last contact of the current campaign:\n",
    "   \n",
    "   9 - contact: contact communication type (categorical: \"unknown\",\"telephone\",\"cellular\") \n",
    "  \n",
    "  10 - day: last contact day of the month (numeric)\n",
    "  \n",
    "  11 - month: last contact month of year (categorical: \"jan\", \"feb\", \"mar\", ..., \"nov\", \"dec\")\n",
    "  \n",
    "  12 - duration: last contact duration, in seconds (numeric)\n",
    "   ### other attributes:\n",
    "  \n",
    "  13 - campaign: number of contacts performed during this campaign and for this client (numeric, includes last contact)\n",
    "  \n",
    "  14 - pdays: number of days that passed by after the client was last contacted from a previous campaign (numeric, -1 means client was not previously contacted)\n",
    "  \n",
    "  15 - previous: number of contacts performed before this campaign and for this client (numeric)\n",
    "  \n",
    "  16 - poutcome: outcome of the previous marketing campaign (categorical: \"unknown\",\"other\",\"failure\",\"success\")\n",
    "\n",
    "  ### Output variable (desired target):\n",
    "  \n",
    "  17 - y - has the client subscribed a term deposit? (binary: \"yes\",\"no\")"
   ]
  },
  {
   "cell_type": "markdown",
   "metadata": {},
   "source": [
    "# Step 1: Prepare data for analysis:\n",
    "1. Import data\n",
    "2. Explore data\n",
    "3. Cleansing data (Encode \"categorical\" variables into \"numeric\" correctly, take care of \"unknown\" etc.)\n",
    "4. Features engineering (rough)"
   ]
  },
  {
   "cell_type": "code",
   "execution_count": 1,
   "metadata": {},
   "outputs": [
    {
     "name": "stdout",
     "output_type": "stream",
     "text": [
      "(45211, 17)\n",
      "age           int64\n",
      "job          object\n",
      "marital      object\n",
      "education    object\n",
      "default      object\n",
      "balance       int64\n",
      "housing      object\n",
      "loan         object\n",
      "contact      object\n",
      "day           int64\n",
      "month        object\n",
      "duration      int64\n",
      "campaign      int64\n",
      "pdays         int64\n",
      "previous      int64\n",
      "poutcome     object\n",
      "y            object\n",
      "dtype: object\n",
      "   age           job   marital  education default  balance housing loan  \\\n",
      "0   58    management   married   tertiary      no     2143     yes   no   \n",
      "1   44    technician    single  secondary      no       29     yes   no   \n",
      "2   33  entrepreneur   married  secondary      no        2     yes  yes   \n",
      "3   47   blue-collar   married    unknown      no     1506     yes   no   \n",
      "4   33       unknown    single    unknown      no        1      no   no   \n",
      "5   35    management   married   tertiary      no      231     yes   no   \n",
      "6   28    management    single   tertiary      no      447     yes  yes   \n",
      "7   42  entrepreneur  divorced   tertiary     yes        2     yes   no   \n",
      "8   58       retired   married    primary      no      121     yes   no   \n",
      "9   43    technician    single  secondary      no      593     yes   no   \n",
      "\n",
      "   contact  day month  duration  campaign  pdays  previous poutcome   y  \n",
      "0  unknown    5   may       261         1     -1         0  unknown  no  \n",
      "1  unknown    5   may       151         1     -1         0  unknown  no  \n",
      "2  unknown    5   may        76         1     -1         0  unknown  no  \n",
      "3  unknown    5   may        92         1     -1         0  unknown  no  \n",
      "4  unknown    5   may       198         1     -1         0  unknown  no  \n",
      "5  unknown    5   may       139         1     -1         0  unknown  no  \n",
      "6  unknown    5   may       217         1     -1         0  unknown  no  \n",
      "7  unknown    5   may       380         1     -1         0  unknown  no  \n",
      "8  unknown    5   may        50         1     -1         0  unknown  no  \n",
      "9  unknown    5   may        55         1     -1         0  unknown  no  \n",
      "       age           job   marital  education default  balance housing loan  \\\n",
      "45201   53    management   married   tertiary      no      583      no   no   \n",
      "45202   34        admin.    single  secondary      no      557      no   no   \n",
      "45203   23       student    single   tertiary      no      113      no   no   \n",
      "45204   73       retired   married  secondary      no     2850      no   no   \n",
      "45205   25    technician    single  secondary      no      505      no  yes   \n",
      "45206   51    technician   married   tertiary      no      825      no   no   \n",
      "45207   71       retired  divorced    primary      no     1729      no   no   \n",
      "45208   72       retired   married  secondary      no     5715      no   no   \n",
      "45209   57   blue-collar   married  secondary      no      668      no   no   \n",
      "45210   37  entrepreneur   married  secondary      no     2971      no   no   \n",
      "\n",
      "         contact  day month  duration  campaign  pdays  previous poutcome    y  \n",
      "45201   cellular   17   nov       226         1    184         4  success  yes  \n",
      "45202   cellular   17   nov       224         1     -1         0  unknown  yes  \n",
      "45203   cellular   17   nov       266         1     -1         0  unknown  yes  \n",
      "45204   cellular   17   nov       300         1     40         8  failure  yes  \n",
      "45205   cellular   17   nov       386         2     -1         0  unknown  yes  \n",
      "45206   cellular   17   nov       977         3     -1         0  unknown  yes  \n",
      "45207   cellular   17   nov       456         2     -1         0  unknown  yes  \n",
      "45208   cellular   17   nov      1127         5    184         3  success  yes  \n",
      "45209  telephone   17   nov       508         4     -1         0  unknown   no  \n",
      "45210   cellular   17   nov       361         2    188        11    other   no  \n"
     ]
    }
   ],
   "source": [
    "'''\n",
    "output\n",
    "- bank_df, shape(499, 17), 7 int64 columns, 10 object columns\n",
    "- bank_df_raw, shape(499, 17), 7 int64 columns, 10 object columns, copy of bank_df\n",
    "'''\n",
    "import pandas as pd # Employ Pandas for data manipulation\n",
    "\n",
    "# 1. Import data\n",
    "bank_df = pd.read_csv('bank1.csv', sep=\";\") # default is \",\", which will fail\n",
    "\n",
    "# 2. Explore data\n",
    "print(bank_df.shape)    # In total 45211 observations, 17 variables (Attributes)\n",
    "print(bank_df.dtypes)   # Look at the data type of each variable (Attribute)\n",
    "print(bank_df.head(10)) # Look at the first 10 data samples\n",
    "print(bank_df.tail(10)) # Look at the last 10 data samples\n",
    "\n",
    "bank_df_raw = bank_df.copy() # back up the original dataset for multiple tests"
   ]
  },
  {
   "cell_type": "markdown",
   "metadata": {},
   "source": [
    "### Imported data is consistent with the \"description\" information provided by the WORD document, we can proceed."
   ]
  },
  {
   "cell_type": "code",
   "execution_count": 2,
   "metadata": {},
   "outputs": [
    {
     "name": "stdout",
     "output_type": "stream",
     "text": [
      "job\n",
      "marital\n",
      "education\n",
      "default\n",
      "housing\n",
      "loan\n",
      "contact\n",
      "month\n",
      "poutcome\n",
      "y\n"
     ]
    }
   ],
   "source": [
    "'''\n",
    "input\n",
    "- bank_df, shape(499, 17), 7 int64 columns, 10 object columns\n",
    "output\n",
    "- cat_cols, shape(10,) of object\n",
    "'''\n",
    "# 3. Cleansing data (Encode \"categorical\" variable into \"numeric\" correctly, take care of \"unknown\" etc.)\n",
    "\n",
    "# Select all the Variables (Attributes) that are in \"object\" types, indicating they are \"categorical\"\n",
    "cat_cols = bank_df.select_dtypes(['object']).columns\n",
    "for col in cat_cols:\n",
    "    print(col)"
   ]
  },
  {
   "cell_type": "markdown",
   "metadata": {},
   "source": [
    "### 10 out of 17 variables are categorical\n",
    "### We can first directly label-encode each of these 10 categorical variable into numeric "
   ]
  },
  {
   "cell_type": "code",
   "execution_count": 3,
   "metadata": {},
   "outputs": [
    {
     "name": "stdout",
     "output_type": "stream",
     "text": [
      "(45211, 17)\n",
      "age          int64\n",
      "job          int64\n",
      "marital      int64\n",
      "education    int64\n",
      "default      int64\n",
      "balance      int64\n",
      "housing      int64\n",
      "loan         int64\n",
      "contact      int64\n",
      "day          int64\n",
      "month        int64\n",
      "duration     int64\n",
      "campaign     int64\n",
      "pdays        int64\n",
      "previous     int64\n",
      "poutcome     int64\n",
      "y            int64\n",
      "dtype: object\n",
      "   age  job  marital  education  default  balance  housing  loan  contact  \\\n",
      "0   58    4        1          2        0     2143        1     0        2   \n",
      "1   44    9        2          1        0       29        1     0        2   \n",
      "2   33    2        1          1        0        2        1     1        2   \n",
      "3   47    1        1          3        0     1506        1     0        2   \n",
      "4   33   11        2          3        0        1        0     0        2   \n",
      "5   35    4        1          2        0      231        1     0        2   \n",
      "6   28    4        2          2        0      447        1     1        2   \n",
      "7   42    2        0          2        1        2        1     0        2   \n",
      "8   58    5        1          0        0      121        1     0        2   \n",
      "9   43    9        2          1        0      593        1     0        2   \n",
      "\n",
      "   day  month  duration  campaign  pdays  previous  poutcome  y  \n",
      "0    5      8       261         1     -1         0         3  0  \n",
      "1    5      8       151         1     -1         0         3  0  \n",
      "2    5      8        76         1     -1         0         3  0  \n",
      "3    5      8        92         1     -1         0         3  0  \n",
      "4    5      8       198         1     -1         0         3  0  \n",
      "5    5      8       139         1     -1         0         3  0  \n",
      "6    5      8       217         1     -1         0         3  0  \n",
      "7    5      8       380         1     -1         0         3  0  \n",
      "8    5      8        50         1     -1         0         3  0  \n",
      "9    5      8        55         1     -1         0         3  0  \n",
      "       age  job  marital  education  default  balance  housing  loan  contact  \\\n",
      "45201   53    4        1          2        0      583        0     0        0   \n",
      "45202   34    0        2          1        0      557        0     0        0   \n",
      "45203   23    8        2          2        0      113        0     0        0   \n",
      "45204   73    5        1          1        0     2850        0     0        0   \n",
      "45205   25    9        2          1        0      505        0     1        0   \n",
      "45206   51    9        1          2        0      825        0     0        0   \n",
      "45207   71    5        0          0        0     1729        0     0        0   \n",
      "45208   72    5        1          1        0     5715        0     0        0   \n",
      "45209   57    1        1          1        0      668        0     0        1   \n",
      "45210   37    2        1          1        0     2971        0     0        0   \n",
      "\n",
      "       day  month  duration  campaign  pdays  previous  poutcome  y  \n",
      "45201   17      9       226         1    184         4         2  1  \n",
      "45202   17      9       224         1     -1         0         3  1  \n",
      "45203   17      9       266         1     -1         0         3  1  \n",
      "45204   17      9       300         1     40         8         0  1  \n",
      "45205   17      9       386         2     -1         0         3  1  \n",
      "45206   17      9       977         3     -1         0         3  1  \n",
      "45207   17      9       456         2     -1         0         3  1  \n",
      "45208   17      9      1127         5    184         3         2  1  \n",
      "45209   17      9       508         4     -1         0         3  0  \n",
      "45210   17      9       361         2    188        11         1  0  \n"
     ]
    }
   ],
   "source": [
    "'''\n",
    "input\n",
    "- bank_df_raw, shape(499, 17), 7 int64 columns, 10 object columns\n",
    "- cat_cols, shape(10,) of object\n",
    "output\n",
    "- bank_df_raw, shape(499, 17), 7 int64 columns, 10 object columns, no change in the cell\n",
    "- bank_df_le, shape(499, 17), 7 int64 columns, 10 int32 columns\n",
    "            , 10 object columns of bank_df_raw converted to int32\n",
    "------------------------------- Data Info Table -------------------------------\n",
    "            age        job   marital  education   default       balance  \\\n",
    "mean  41.256513   4.342685  1.172345   1.246493  0.024048   1461.032064   \n",
    "std   10.626477   3.253173  0.596473   0.750744  0.153352   2434.230131   \n",
    "min   20.000000   0.000000  0.000000   0.000000  0.000000  -1206.000000   \n",
    "max   78.000000  11.000000  2.000000   3.000000  1.000000  16873.000000   \n",
    "\n",
    "       housing      loan   contact        day      month     duration  \\\n",
    "mean  0.571142  0.166333  0.599198  15.787575   5.492986   270.685371   \n",
    "std   0.495410  0.372753  0.882493   8.213453   3.042116   266.766273   \n",
    "min   0.000000  0.000000  0.000000   1.000000   0.000000     5.000000   \n",
    "max   1.000000  1.000000  2.000000  31.000000  11.000000  1877.000000   \n",
    "\n",
    "       campaign       pdays   previous  poutcome         y  \n",
    "mean   2.498998   41.356713   0.529058  2.511022  0.128257  \n",
    "std    2.439941   99.320973   1.536914  1.043905  0.334711  \n",
    "min    1.000000   -1.000000   0.000000  0.000000  0.000000  \n",
    "max   24.000000  462.000000  20.000000  3.000000  1.000000  \n",
    "------------------------------- Data Info Table -------------------------------\n",
    "'''\n",
    "from sklearn import preprocessing\n",
    "le = preprocessing.LabelEncoder()\n",
    "\n",
    "bank_df_le = bank_df_raw.copy()\n",
    "\n",
    "for col in cat_cols:    \n",
    "    bank_df_le[col] = le.fit_transform(bank_df_le[col])    \n",
    "\n",
    "print(bank_df_le.shape)    # In total 45211 observations, 17 variables (Attributes)\n",
    "print(bank_df_le.dtypes)   # Look at the data type of each variable (Attribute)\n",
    "print(bank_df_le.head(10)) # Look at the first 10 data samples\n",
    "print(bank_df_le.tail(10)) # Look at the last 10 data samples"
   ]
  },
  {
   "cell_type": "markdown",
   "metadata": {},
   "source": [
    "### All the \"yes/no\" variable are correctly encoded, with yes=1 and no=0 \n",
    "(default, housing, loan, y)\n",
    "   \n",
    "### Some of the variables are encoded reasonably. For example, Variable \"education\": tertiary=2, secondary=1, primary=0 and unkown=3, which is generally making sense by implying higher education level corresponds to higher financial strength \n",
    "(education)\n",
    "    \n",
    "### Some of the variables are encoded arguably. For example, Variable \"job\": management=4, technician=9, entrepreneur=2, blue-collar=1, unknown=11, retired=5, admin.=0, student=8, etc. Without more concrete knowledge, it may be appropriate to leave such encoding as they are \n",
    "(job, marital, contact, poutcome)\n",
    "    \n",
    "### Some of the encoding does not make sense, and will need to be further revised. For example, Variable \"month\": may=8, nov=9 \n",
    "(month)\n",
    "        \n",
    "### Finally, one of the original numeric variable require revision as well, the \"pdays\". We should consider turn \"-1\" into a more meaningful value, such as \"9999\" to indicate this client was not successfully contacted before\n",
    "(pdays)"
   ]
  },
  {
   "cell_type": "code",
   "execution_count": 4,
   "metadata": {},
   "outputs": [
    {
     "name": "stdout",
     "output_type": "stream",
     "text": [
      "count    45211.000000\n",
      "mean        40.936210\n",
      "std         10.618762\n",
      "min         18.000000\n",
      "25%         33.000000\n",
      "50%         39.000000\n",
      "75%         48.000000\n",
      "max         95.000000\n",
      "Name: age, dtype: float64\n",
      "count    45211.000000\n",
      "mean         4.339762\n",
      "std          3.272657\n",
      "min          0.000000\n",
      "25%          1.000000\n",
      "50%          4.000000\n",
      "75%          7.000000\n",
      "max         11.000000\n",
      "Name: job, dtype: float64\n",
      "count    45211.000000\n",
      "mean         1.167725\n",
      "std          0.608230\n",
      "min          0.000000\n",
      "25%          1.000000\n",
      "50%          1.000000\n",
      "75%          2.000000\n",
      "max          2.000000\n",
      "Name: marital, dtype: float64\n",
      "count    45211.000000\n",
      "mean         1.224813\n",
      "std          0.747997\n",
      "min          0.000000\n",
      "25%          1.000000\n",
      "50%          1.000000\n",
      "75%          2.000000\n",
      "max          3.000000\n",
      "Name: education, dtype: float64\n",
      "count    45211.000000\n",
      "mean         0.018027\n",
      "std          0.133049\n",
      "min          0.000000\n",
      "25%          0.000000\n",
      "50%          0.000000\n",
      "75%          0.000000\n",
      "max          1.000000\n",
      "Name: default, dtype: float64\n",
      "count     45211.000000\n",
      "mean       1362.272058\n",
      "std        3044.765829\n",
      "min       -8019.000000\n",
      "25%          72.000000\n",
      "50%         448.000000\n",
      "75%        1428.000000\n",
      "max      102127.000000\n",
      "Name: balance, dtype: float64\n",
      "count    45211.000000\n",
      "mean         0.555838\n",
      "std          0.496878\n",
      "min          0.000000\n",
      "25%          0.000000\n",
      "50%          1.000000\n",
      "75%          1.000000\n",
      "max          1.000000\n",
      "Name: housing, dtype: float64\n",
      "count    45211.000000\n",
      "mean         0.160226\n",
      "std          0.366820\n",
      "min          0.000000\n",
      "25%          0.000000\n",
      "50%          0.000000\n",
      "75%          0.000000\n",
      "max          1.000000\n",
      "Name: loan, dtype: float64\n",
      "count    45211.000000\n",
      "mean         0.640242\n",
      "std          0.897951\n",
      "min          0.000000\n",
      "25%          0.000000\n",
      "50%          0.000000\n",
      "75%          2.000000\n",
      "max          2.000000\n",
      "Name: contact, dtype: float64\n",
      "count    45211.000000\n",
      "mean        15.806419\n",
      "std          8.322476\n",
      "min          1.000000\n",
      "25%          8.000000\n",
      "50%         16.000000\n",
      "75%         21.000000\n",
      "max         31.000000\n",
      "Name: day, dtype: float64\n",
      "count    45211.000000\n",
      "mean         6.144655\n",
      "std          2.408034\n",
      "min          1.000000\n",
      "25%          5.000000\n",
      "50%          6.000000\n",
      "75%          8.000000\n",
      "max         12.000000\n",
      "Name: month, dtype: float64\n",
      "count    45211.000000\n",
      "mean       258.163080\n",
      "std        257.527812\n",
      "min          0.000000\n",
      "25%        103.000000\n",
      "50%        180.000000\n",
      "75%        319.000000\n",
      "max       4918.000000\n",
      "Name: duration, dtype: float64\n",
      "count    45211.000000\n",
      "mean         2.763841\n",
      "std          3.098021\n",
      "min          1.000000\n",
      "25%          1.000000\n",
      "50%          2.000000\n",
      "75%          3.000000\n",
      "max         63.000000\n",
      "Name: campaign, dtype: float64\n",
      "count    45211.000000\n",
      "mean       857.565283\n",
      "std        303.245691\n",
      "min          1.000000\n",
      "25%        999.000000\n",
      "50%        999.000000\n",
      "75%        999.000000\n",
      "max        999.000000\n",
      "Name: pdays, dtype: float64\n",
      "count    45211.000000\n",
      "mean         0.580323\n",
      "std          2.303441\n",
      "min          0.000000\n",
      "25%          0.000000\n",
      "50%          0.000000\n",
      "75%          0.000000\n",
      "max        275.000000\n",
      "Name: previous, dtype: float64\n",
      "count    45211.000000\n",
      "mean         2.559974\n",
      "std          0.989059\n",
      "min          0.000000\n",
      "25%          3.000000\n",
      "50%          3.000000\n",
      "75%          3.000000\n",
      "max          3.000000\n",
      "Name: poutcome, dtype: float64\n",
      "count    45211.000000\n",
      "mean         0.116985\n",
      "std          0.321406\n",
      "min          0.000000\n",
      "25%          0.000000\n",
      "50%          0.000000\n",
      "75%          0.000000\n",
      "max          1.000000\n",
      "Name: y, dtype: float64\n"
     ]
    }
   ],
   "source": [
    "'''\n",
    "input\n",
    "- bank_df_raw, shape(499, 17), 7 int64 columns, 10 object columns\n",
    "- bank_df_le, shape(499, 17), 7 int64 columns, 10 int32 columns\n",
    "output\n",
    "- bank_df_le, shape(499, 17), 8 int64 columns, 9 int32 columns\n",
    "            , 1 int32 columns of bank_df_le converted to int64\n",
    "------------------------------- Data Info Table -------------------------------\n",
    "            age        job   marital  education   default       balance  \\\n",
    "mean  41.256513   4.342685  1.172345   1.246493  0.024048   1461.032064   \n",
    "std   10.626477   3.253173  0.596473   0.750744  0.153352   2434.230131   \n",
    "min   20.000000   0.000000  0.000000   0.000000  0.000000  -1206.000000   \n",
    "max   78.000000  11.000000  2.000000   3.000000  1.000000  16873.000000   \n",
    "\n",
    "       housing      loan   contact        day      month     duration  \\\n",
    "mean  0.571142  0.166333  0.599198  15.787575   6.190381   270.685371   \n",
    "std   0.495410  0.372753  0.882493   8.213453   2.433416   266.766273   \n",
    "min   0.000000  0.000000  0.000000   1.000000   1.000000     5.000000   \n",
    "max   1.000000  1.000000  2.000000  31.000000  12.000000  1877.000000   \n",
    "\n",
    "       campaign       pdays   previous  poutcome         y  \n",
    "mean   2.498998  842.959920   0.529058  2.511022  0.128257  \n",
    "std    2.439941  318.082689   1.536914  1.043905  0.334711  \n",
    "min    1.000000    1.000000   0.000000  0.000000  0.000000  \n",
    "max   24.000000  999.000000  20.000000  3.000000  1.000000  \n",
    "------------------------------- Data Info Table -------------------------------\n",
    "'''\n",
    "# fix variables with encoding issues\n",
    "\n",
    "month_dict = {'jan': 1, 'feb': 2, 'mar': 3, 'apr': 4, 'may': 5, 'jun': 6, \n",
    "              'jul': 7, 'aug': 8, 'sep':9, 'oct': 10, 'nov': 11, 'dec': 12}\n",
    "\n",
    "bank_df_fix = bank_df_raw.copy()\n",
    "\n",
    "bank_df_le[\"month\"] = bank_df_fix[\"month\"].map(month_dict)\n",
    "bank_df_le.loc[bank_df_le['pdays']==-1,'pdays'] = 999\n",
    "\n",
    "for col in bank_df_le.columns:\n",
    "    print(bank_df_le[col].describe())"
   ]
  },
  {
   "cell_type": "markdown",
   "metadata": {},
   "source": [
    "### check for missing data"
   ]
  },
  {
   "cell_type": "code",
   "execution_count": 5,
   "metadata": {},
   "outputs": [
    {
     "name": "stdout",
     "output_type": "stream",
     "text": [
      "age          0\n",
      "job          0\n",
      "marital      0\n",
      "education    0\n",
      "default      0\n",
      "balance      0\n",
      "housing      0\n",
      "loan         0\n",
      "contact      0\n",
      "day          0\n",
      "month        0\n",
      "duration     0\n",
      "campaign     0\n",
      "pdays        0\n",
      "previous     0\n",
      "poutcome     0\n",
      "y            0\n",
      "dtype: int64\n"
     ]
    }
   ],
   "source": [
    "'''\n",
    "input\n",
    "- bank_df_le, shape(499, 17), 8 int64 columns, 9 int32 columns\n",
    "output\n",
    "- bank_df_le, shape(499, 17), 8 int64 columns, 9 int32 columns, no change in the cell\n",
    "------------------------------- Data Info Table -------------------------------\n",
    "            age        job   marital  education   default       balance  \\\n",
    "mean  41.256513   4.342685  1.172345   1.246493  0.024048   1461.032064   \n",
    "std   10.626477   3.253173  0.596473   0.750744  0.153352   2434.230131   \n",
    "min   20.000000   0.000000  0.000000   0.000000  0.000000  -1206.000000   \n",
    "max   78.000000  11.000000  2.000000   3.000000  1.000000  16873.000000   \n",
    "\n",
    "       housing      loan   contact        day      month     duration  \\\n",
    "mean  0.571142  0.166333  0.599198  15.787575   6.190381   270.685371   \n",
    "std   0.495410  0.372753  0.882493   8.213453   2.433416   266.766273   \n",
    "min   0.000000  0.000000  0.000000   1.000000   1.000000     5.000000   \n",
    "max   1.000000  1.000000  2.000000  31.000000  12.000000  1877.000000   \n",
    "\n",
    "       campaign       pdays   previous  poutcome         y  \n",
    "mean   2.498998  842.959920   0.529058  2.511022  0.128257  \n",
    "std    2.439941  318.082689   1.536914  1.043905  0.334711  \n",
    "min    1.000000    1.000000   0.000000  0.000000  0.000000  \n",
    "max   24.000000  999.000000  20.000000  3.000000  1.000000  \n",
    "------------------------------- Data Info Table -------------------------------\n",
    "'''\n",
    "print(bank_df_le.isnull().sum())"
   ]
  },
  {
   "cell_type": "markdown",
   "metadata": {},
   "source": [
    "1. No missing data was found in our label-encoded dataset.\n",
    "2. It should be noted that we did not specifically deal with the original \"unkown\" value. At this stage, we consider \"unkown\" as \"ambigous information collected\" rather than \"data missing\"."
   ]
  },
  {
   "cell_type": "markdown",
   "metadata": {},
   "source": [
    "# Step 2: building machine-learning models"
   ]
  },
  {
   "cell_type": "code",
   "execution_count": 6,
   "metadata": {},
   "outputs": [
    {
     "name": "stdout",
     "output_type": "stream",
     "text": [
      "(36168, 16)\n",
      "(9043, 16)\n",
      "(36168,)\n",
      "(9043,)\n"
     ]
    }
   ],
   "source": [
    "'''\n",
    "input\n",
    "- bank_df_le, shape(499, 17), 8 int64 columns, 9 int32 columns\n",
    "output\n",
    "- y_train, shape(399,) of int32\n",
    "- y_test, shape(100,) of int32\n",
    "'''\n",
    "# 1. Split data into training (80%) and test (20%) with \"Shuffle\"\n",
    "from sklearn.cross_validation import train_test_split\n",
    "\n",
    "X = bank_df_le.iloc[:,0:-1]\n",
    "y = bank_df_le.iloc[:,-1]\n",
    "X_train, X_test, y_train, y_test = train_test_split(X, y, test_size=0.2, random_state=1) \n",
    "# set random_state=1 so that the results will be reproducible every time the code was run\n",
    "\n",
    "print(X_train.shape)\n",
    "print(X_test.shape)\n",
    "\n",
    "print(y_train.shape)\n",
    "print(y_test.shape)"
   ]
  },
  {
   "cell_type": "markdown",
   "metadata": {},
   "source": [
    "## We employ LogisticRegression & RandomForest as \"bench-mark\" models\n",
    "\n",
    "## We essemble multiple steps into \"pipe\" for more robust coding"
   ]
  },
  {
   "cell_type": "markdown",
   "metadata": {},
   "source": [
    "<img src=\"files/imgs/1_Pipe.jpg\">\n",
    "<img src=\"files/imgs/2_CV_1.jpg\">"
   ]
  },
  {
   "cell_type": "code",
   "execution_count": 7,
   "metadata": {},
   "outputs": [
    {
     "name": "stdout",
     "output_type": "stream",
     "text": [
      "LG Train Accuracy: 0.898\n",
      "LG Test Accuracy: 0.899\n",
      "RF Train Accuracy: 0.993\n",
      "RF Test Accuracy: 0.903\n"
     ]
    }
   ],
   "source": [
    "'''\n",
    "input\n",
    "- y_train, shape(399,) of int32\n",
    "- y_test, shape(100,) of int32\n",
    "output\n",
    "- pipe_lr, transforms: [('scl', StandardScaler()), ('clf', LogisticRegression(random_state=1))]\n",
    "- y_train, shape(399,) of int32\n",
    "- y_test, shape(100,) of int32\n",
    "'''\n",
    "# 2. Standarize data\n",
    "\n",
    "from sklearn.preprocessing import StandardScaler\n",
    "from sklearn.pipeline import Pipeline\n",
    "from sklearn.linear_model import LogisticRegression\n",
    "from sklearn.ensemble import RandomForestClassifier\n",
    "\n",
    "pipe_lr = Pipeline([('scl', StandardScaler()),('clf', LogisticRegression(random_state=1))])\n",
    "pipe_lr.fit(X_train, y_train)\n",
    "print('LG Train Accuracy: %.3f' % pipe_lr.score(X_train, y_train))\n",
    "print('LG Test Accuracy: %.3f' % pipe_lr.score(X_test, y_test))\n",
    "\n",
    "pipe_rf = Pipeline([('scl', StandardScaler()),('clf', RandomForestClassifier(random_state=1))])\n",
    "pipe_rf.fit(X_train, y_train)\n",
    "print('RF Train Accuracy: %.3f' % pipe_rf.score(X_train, y_train))\n",
    "print('RF Test Accuracy: %.3f' % pipe_rf.score(X_test, y_test))"
   ]
  },
  {
   "cell_type": "markdown",
   "metadata": {},
   "source": [
    "### Logistic Regression achived close to 90% accuracy for both the Training data and Test data (with default hyper-parameters only), indicating little \"over-fitting\", which means the model can perform robustly well on un-seen data.\n",
    "\n",
    "### RandomForest, as expected, achieved better accruacy than Logistic Regression, with more than 99% on Training data, and slightly over 90% on Test data. However, the drop of performance in Test data compared with Training data suggests the model (with default hyper-parameter only) is suffering from significant \"over-fitting\".\n",
    "\n",
    "### The next step is to try improve the LogisticRegression and RandomForest models by tuning the hyper-parameters"
   ]
  },
  {
   "cell_type": "markdown",
   "metadata": {},
   "source": [
    "<img src=\"files/imgs/2_CV_2.jpg\">"
   ]
  },
  {
   "cell_type": "code",
   "execution_count": 8,
   "metadata": {},
   "outputs": [],
   "source": [
    "'''\n",
    "input\n",
    "- pipe_lr, transforms: [('scl', StandardScaler()), ('clf', LogisticRegression(random_state=1))]\n",
    "- y_train, shape(399,) of int32\n",
    "output\n",
    "- y_train, shape(399,) of int32\n",
    "'''\n",
    "# 3. Optimized hyper-parameters using cross-validation & grid-search (brute-force exhaustive method)\n",
    "\n",
    "from sklearn.grid_search import GridSearchCV\n",
    "\n",
    "import pickle\n",
    "\n",
    "# LogisticRegression _ LR\n",
    "C_param_range = [0.0001, 0.001, 0.01, 0.1, 1.0, 10.0, 100.0, 1000.0]\n",
    "param_grid_lr = [{'clf__C': C_param_range, 'clf__penalty': ['l2'], \n",
    "                  'clf__solver': ['newton-cg', 'lbfgs', 'liblinear', 'sag']}, \n",
    "                 {'clf__C': C_param_range, 'clf__penalty': ['l1'], 'clf__solver': ['liblinear']}]\n",
    "gs_lr = GridSearchCV(estimator=pipe_lr, param_grid=param_grid_lr, scoring='accuracy', cv=5)\n",
    "gs_lr_fit = gs_lr.fit(X_train,y_train)\n",
    "pickle.dump(gs_lr_fit, open('gs_lr_fit.pkl','wb'))"
   ]
  },
  {
   "cell_type": "code",
   "execution_count": 8,
   "metadata": {},
   "outputs": [
    {
     "name": "stdout",
     "output_type": "stream",
     "text": [
      "Best score for LR: 0.898\n",
      "Best param for LR: {'clf__penalty': 'l2', 'clf__C': 10.0, 'clf__solver': 'newton-cg'}\n",
      "LR Train accuracy: 0.898\n",
      "LR Test accuracy: 0.899\n"
     ]
    }
   ],
   "source": [
    "'''\n",
    "input\n",
    "- y_train, shape(399,) of int32\n",
    "- y_test, shape(100,) of int32\n",
    "'''\n",
    "import pickle\n",
    "\n",
    "gs_lr_fit = pickle.load(open('gs_lr_fit.pkl','rb'))\n",
    "print('Best score for LR: %.3f' % gs_lr_fit.best_score_)\n",
    "print('Best param for LR: %s' % gs_lr_fit.best_params_)\n",
    "\n",
    "gs_lr_best = gs_lr_fit.best_estimator_\n",
    "print('LR Train accuracy: %.3f' % gs_lr_best.score(X_train, y_train))\n",
    "print('LR Test accuracy: %.3f' % gs_lr_best.score(X_test, y_test))"
   ]
  },
  {
   "cell_type": "markdown",
   "metadata": {},
   "source": [
    "### The training of LogisticRegression model using Grid-Search-Cross-Validation method is quick (about 2 minutes using one single core). Once done, we pickle the trained model to hard disk and load it when needed without having to train it again.\n",
    "\n",
    "### In addition, the optimization of hyper-parameters did not provide any improve in regard to accuracy, indicating the perforamce of LR model in this specific dataset may be limited by the nature of the model, or the available data."
   ]
  },
  {
   "cell_type": "code",
   "execution_count": 10,
   "metadata": {
    "collapsed": true
   },
   "outputs": [],
   "source": [
    "# RandomForest _ RF\n",
    "param_grid_rf = [{'clf__n_estimators': [20,40,80], 'clf__criterion': ['gini', 'entropy'], \n",
    "                  'clf__max_features': [3,10], 'clf__max_depth': [3, None], \n",
    "                  'clf__min_samples_split':[1,3,10], 'clf__min_samples_leaf':[1, 3, 10],\n",
    "                  'clf__bootstrap': [True, False]}]\n",
    "gs_rf = GridSearchCV(estimator=pipe_rf, param_grid=param_grid_rf, scoring='accuracy', cv=5, n_jobs=-1)\n",
    "gs_rf_fit = gs_rf.fit(X_train,y_train)\n",
    "pickle.dump(gs_rf_fit, open('gs_rf_fit.pkl','wb'))"
   ]
  },
  {
   "cell_type": "code",
   "execution_count": 9,
   "metadata": {},
   "outputs": [
    {
     "name": "stdout",
     "output_type": "stream",
     "text": [
      "Best score for RF: 0.905\n",
      "Best param for RF: {'clf__n_estimators': 40, 'clf__bootstrap': True, 'clf__criterion': 'entropy', 'clf__max_depth': None, 'clf__min_samples_leaf': 1, 'clf__max_features': 3, 'clf__min_samples_split': 10}\n",
      "RF Train accuracy: 0.971\n",
      "RF Test accuracy: 0.906\n"
     ]
    }
   ],
   "source": [
    "import pickle\n",
    "\n",
    "gs_rf_fit = pickle.load(open('gs_rf_fit.pkl','rb'))\n",
    "print('Best score for RF: %.3f' % gs_rf_fit.best_score_)\n",
    "print('Best param for RF: %s' % gs_rf_fit.best_params_)\n",
    "\n",
    "gs_rf_best = gs_rf_fit.best_estimator_\n",
    "print('RF Train accuracy: %.3f' % gs_rf_best.score(X_train, y_train))\n",
    "print('RF Test accuracy: %.3f' % gs_rf_best.score(X_test, y_test))"
   ]
  },
  {
   "cell_type": "markdown",
   "metadata": {},
   "source": [
    "### The training of RandomForest model using Grid-Search-Cross-Validation method is very time-consuming (about 2 hours using one single core, and can be brought down to less than 30 minutes by setting for \"parallel mode\"). Once done, we pickle the trained model to hard disk and load it when needed without having to train it again.\n",
    "\n",
    "### The tuning of hyper-parameters of the model bring down the accuracy of Training data from 99.3% to 97.1%. At the same time, it increase the accuracy of Testing data from 90.3% to 90.6%, lowering the performance gap between Training and Testing data, indicating a rescue for the \"over-fitting\". This is as we expected, as the hyper-parameters are loosened for better generalization."
   ]
  },
  {
   "cell_type": "markdown",
   "metadata": {},
   "source": [
    "<img src=\"files/imgs/2_CV_3.jpg\">"
   ]
  },
  {
   "cell_type": "markdown",
   "metadata": {
    "collapsed": true
   },
   "source": [
    "# Step 3: Will more sample help improve further, based on the optimized RF model?\n",
    "\n",
    "### Learning Curve: sample sizes v.s. accuracy of training and test datasets\n",
    "\n",
    "1. Diagnosis the issues of model performance (underfitting or over fitting) by plotting learning curve\n",
    "\n",
    "2. Number of samples v.s. accuracy of training and testing datasets\n",
    "\n",
    "3. The entire X_train dataset will be divided into 10 subsets, each with increasing size, proportion as [0.1, 0.2, ..., 1] \n",
    "\n",
    "4. Each subset of X_train, will be further cross_validate by K-Folds, in this case cv=10 folds.\n",
    "\n",
    "5. Based on the ouput plot, the performance of the model is decent, yet with slight overfit"
   ]
  },
  {
   "cell_type": "markdown",
   "metadata": {},
   "source": [
    "<img src=\"files/imgs/3_Diag.jpg\">"
   ]
  },
  {
   "cell_type": "code",
   "execution_count": 10,
   "metadata": {},
   "outputs": [
    {
     "name": "stdout",
     "output_type": "stream",
     "text": [
      "('train_scores_mean: ', array([ 0.96442396,  0.96714286,  0.96793651,  0.9684639 ,  0.96900768,\n",
      "        0.96917051,  0.96956331,  0.97022273,  0.97099164,  0.97031428]))\n",
      "('train_scores_std: ', array([ 0.00073733,  0.00098226,  0.00118584,  0.00093387,  0.00043028,\n",
      "        0.00039093,  0.0003315 ,  0.00074528,  0.00049439,  0.00069024]))\n",
      "('test_scores_mean: ', array([ 0.89764443,  0.89971807,  0.90264867,  0.90303589,  0.90181941,\n",
      "        0.90217899,  0.90220644,  0.90289779,  0.90320217,  0.90486092]))\n",
      "('test_scores_std: ', array([ 0.00287949,  0.00347947,  0.00282065,  0.0037713 ,  0.00545696,\n",
      "        0.00366679,  0.00478889,  0.00386537,  0.00459193,  0.00445489]))\n"
     ]
    }
   ],
   "source": [
    "from sklearn.learning_curve import learning_curve\n",
    "import numpy as np\n",
    "\n",
    "train_sizes, train_scores, test_scores = learning_curve(estimator=gs_rf_best, X=X_train, \n",
    "                                                        y=y_train, train_sizes = np.linspace(0.1,1,10),\n",
    "                                                        cv=10, n_jobs=-1)\n",
    "\n",
    "# Mean and Std across K-Folds, which result in mean and std for each subset of X_train with different sample size\n",
    "train_scores_mean = np.mean(train_scores, axis=1)\n",
    "print('train_scores_mean: ', train_scores_mean)\n",
    "train_scores_std = np.std(train_scores, axis=1)\n",
    "print('train_scores_std: ', train_scores_std)\n",
    "test_scores_mean = np.mean(test_scores, axis=1)\n",
    "print('test_scores_mean: ', test_scores_mean)\n",
    "test_scores_std = np.std(test_scores, axis=1)\n",
    "print('test_scores_std: ', test_scores_std)"
   ]
  },
  {
   "cell_type": "code",
   "execution_count": 11,
   "metadata": {},
   "outputs": [
    {
     "data": {
      "image/png": "[encoded data removed]",
      "text/plain": [
       "<matplotlib.figure.Figure at 0x1070149d0>"
      ]
     },
     "metadata": {},
     "output_type": "display_data"
    }
   ],
   "source": [
    "import matplotlib.pyplot as plt\n",
    "%matplotlib inline\n",
    "\n",
    "plt.plot(train_sizes, train_scores_mean, color='blue', marker='o', markersize=5, label='training accuracy')\n",
    "\n",
    "plt.fill_between(train_sizes, train_scores_mean+train_scores_std, \n",
    "                 train_scores_mean-train_scores_std, alpha=0.15, color='blue')\n",
    "\n",
    "plt.plot(train_sizes, test_scores_mean, color='green', linestyle='--', marker='s', \n",
    "         markersize=5, label='validation accuracy')\n",
    "\n",
    "plt.fill_between(train_sizes, test_scores_mean+test_scores_std, \n",
    "                 test_scores_mean-test_scores_std, alpha=0.15, color='green')\n",
    "\n",
    "plt.grid()\n",
    "plt.xlabel('Number of training samples')\n",
    "plt.ylabel('Accuracy')\n",
    "plt.legend(loc='lower right')\n",
    "plt.ylim([0.8, 1.0])\n",
    "\n",
    "plt.show()"
   ]
  },
  {
   "cell_type": "markdown",
   "metadata": {},
   "source": [
    "### As we can see in the preceding learning curve plot, our model performs relatively well on the test dataset. However, it may be slightly overfitting the training data indicated by a visible gap between the training and cross-validation accuracy curves. And more available data might be helpful."
   ]
  },
  {
   "cell_type": "markdown",
   "metadata": {},
   "source": [
    "# Step 4: Further evaluate the performance of the model\n",
    "\n",
    "## Using Confusion Matrix:"
   ]
  },
  {
   "cell_type": "markdown",
   "metadata": {},
   "source": [
    "<img src=\"files/imgs/4_CM.jpg\">"
   ]
  },
  {
   "cell_type": "code",
   "execution_count": 12,
   "metadata": {},
   "outputs": [
    {
     "name": "stdout",
     "output_type": "stream",
     "text": [
      "Test accuracy: 0.906\n",
      "[[7785  208]\n",
      " [ 644  406]]\n"
     ]
    }
   ],
   "source": [
    "from sklearn.metrics import confusion_matrix\n",
    "\n",
    "clf_final = gs_rf_best\n",
    "clf_final.fit(X_train, y_train)\n",
    "y_pred = clf_final.predict(X_test)\n",
    "print('Test accuracy: %.3f' % clf_final.score(X_test, y_test))\n",
    "\n",
    "confmat = confusion_matrix(y_true=y_test, y_pred=y_pred)\n",
    "print(confmat)"
   ]
  },
  {
   "cell_type": "code",
   "execution_count": 13,
   "metadata": {},
   "outputs": [
    {
     "data": {
      "image/png": "[encoded data removed]",
      "text/plain": [
       "<matplotlib.figure.Figure at 0x108431a50>"
      ]
     },
     "metadata": {},
     "output_type": "display_data"
    }
   ],
   "source": [
    "import matplotlib.pyplot as plt\n",
    "%matplotlib inline\n",
    "\n",
    "fig, ax = plt.subplots(figsize=(2.5, 2.5))\n",
    "ax.matshow(confmat, cmap=plt.cm.Blues, alpha=0.3)\n",
    "for i in range(confmat.shape[0]):\n",
    "    for j in range(confmat.shape[1]):\n",
    "        ax.text(x=j, y=i, s=confmat[i, j], va='center', ha='center')\n",
    "\n",
    "plt.xlabel('predicted label')\n",
    "plt.ylabel('true label')\n",
    "\n",
    "plt.show()"
   ]
  },
  {
   "cell_type": "markdown",
   "metadata": {},
   "source": [
    "## At the end, what did the data scientist do and how this model may be helpful?\n",
    "\n",
    "### Assuming we are running a new campain: without this machine-learning model, the sales team will take 30 days to call in total 9043 customers (7787 + 206 + 636 + 414), and 1050 (636 + 414) of them will subscribe to a term deposit (successful sale).\n",
    "\n",
    "### Now with this model, it will automatically filter out 8423 (7787 + 636) customers, enable the sales team to focus on 620 (206 + 414) customers only. This will probably take the team less than 3 days and successfully sale 414 products. Therefore, for the rest of the month (we still have 27 days left), the team can keep working on another 9 more rounds of campains, screening more than 90K customers, and at the end they will sale 414 x 10 = 4140 products in total.\n",
    "\n",
    "## Without any significant cost, the machine-learning model may help increase the successful sale rate (given the same 30 days time) up to nearly 300%."
   ]
  },
  {
   "cell_type": "markdown",
   "metadata": {},
   "source": [
    "# Step 5: Possible Next Steps \n",
    "\n",
    "## We should try increase the True-Positive rate, customers will buy the product and the machine-learning model predict so.\n",
    "\n",
    "### Obtain more Attributes (features) from the customers. For example, gender, address, family size (number of children and their age), which might preserve latent information for the predict problem.\n",
    "\n",
    "### Explore more advanced (complex) algorithms, such as Neural Network and AdaBoost."
   ]
  }
 ],
 "metadata": {
  "kernelspec": {
   "display_name": "Python 2",
   "language": "python",
   "name": "python2"
  },
  "language_info": {
   "codemirror_mode": {
    "name": "ipython",
    "version": 2
   },
   "file_extension": ".py",
   "mimetype": "text/x-python",
   "name": "python",
   "nbconvert_exporter": "python",
   "pygments_lexer": "ipython2",
   "version": "2.7.13"
  }
 },
 "nbformat": 4,
 "nbformat_minor": 1
}
