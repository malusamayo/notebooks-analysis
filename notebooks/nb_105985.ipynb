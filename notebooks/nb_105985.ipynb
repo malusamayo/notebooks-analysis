{
 "cells": [
  {
   "cell_type": "markdown",
   "metadata": {},
   "source": [
    "This is data processing notebook. In thi notebook we have created different features like one with stop words removed and second with only adjectives and adverbs"
   ]
  },
  {
   "cell_type": "code",
   "execution_count": 1,
   "metadata": {},
   "outputs": [
    {
     "name": "stderr",
     "output_type": "stream",
     "text": [
      "/home/achal/.local/lib/python3.5/site-packages/sklearn/cross_validation.py:44: DeprecationWarning: This module was deprecated in version 0.18 in favor of the model_selection module into which all the refactored classes and functions are moved. Also note that the interface of the new CV iterators are different from that of this module. This module will be removed in 0.20.\n",
      "  \"This module will be removed in 0.20.\", DeprecationWarning)\n"
     ]
    }
   ],
   "source": [
    "import pandas as pd\n",
    "import numpy as np\n",
    "from sklearn.cross_validation import train_test_split\n",
    "from sklearn.feature_extraction import text\n",
    "import re\n",
    "import nltk"
   ]
  },
  {
   "cell_type": "code",
   "execution_count": 2,
   "metadata": {},
   "outputs": [],
   "source": [
    "#nltk.download()"
   ]
  },
  {
   "cell_type": "code",
   "execution_count": 3,
   "metadata": {},
   "outputs": [],
   "source": [
    "# Some default english stop words\n",
    "stop_words = text.ENGLISH_STOP_WORDS"
   ]
  },
  {
   "cell_type": "code",
   "execution_count": 4,
   "metadata": {},
   "outputs": [
    {
     "name": "stdout",
     "output_type": "stream",
     "text": [
      "itslarge\n"
     ]
    }
   ],
   "source": [
    "# Remove punctuations\n",
    "def remove_punctuations(word):\n",
    "    return re.sub(\"[^a-zA-Z]\", \"\", word)\n",
    "print(remove_punctuations(\"it's large\"))"
   ]
  },
  {
   "cell_type": "code",
   "execution_count": 5,
   "metadata": {
    "collapsed": true
   },
   "outputs": [],
   "source": [
    "def read_data(file_path):\n",
    "\treturn pd.read_csv(file_path)"
   ]
  },
  {
   "cell_type": "code",
   "execution_count": 6,
   "metadata": {},
   "outputs": [],
   "source": [
    "# Remove stop words\n",
    "def remove_stop_words(sentence):\n",
    "    text_list= re.split(\" |\\.\",str(sentence))\n",
    "    return ' '.join([word.lower().strip() for word in text_list if remove_punctuations(word.lower()) not in set(stop_words)])"
   ]
  },
  {
   "cell_type": "code",
   "execution_count": 7,
   "metadata": {},
   "outputs": [],
   "source": [
    "def get_pos_tags(sentence):\n",
    "    txt= nltk.word_tokenize(sentence)\n",
    "    pos_list = nltk.pos_tag(txt)\n",
    "    fil = filter(lambda tup:tup[1] in ('JJ','ADV','ADJ') , pos_list)\n",
    "    posTags = list(zip(*fil))\n",
    "    #print(len(posTags))\n",
    "    if len(posTags) > 0:\n",
    "        return ' '.join(posTags[0])\n",
    "    else:\n",
    "        return sentence"
   ]
  },
  {
   "cell_type": "code",
   "execution_count": 8,
   "metadata": {},
   "outputs": [
    {
     "name": "stdout",
     "output_type": "stream",
     "text": [
      "Excellent food. Superb customer service. I miss the mario machines they used to have, but it's still a great place steeped in tradition.\n"
     ]
    }
   ],
   "source": [
    "#print remove_stop_words(text)\n",
    "data = read_data(\"../data/ReviewData100k.csv\")\n",
    "#data = data.head(n=1000)\n",
    "print(data.get_value(1, 'text'))"
   ]
  },
  {
   "cell_type": "code",
   "execution_count": 9,
   "metadata": {},
   "outputs": [
    {
     "name": "stdout",
     "output_type": "stream",
     "text": [
      "                                     votes                 user_id  \\\n",
      "0  {u'funny': 0, u'useful': 0, u'cool': 0}  PUFPaY9KxDAcGqfsorJp3Q   \n",
      "1  {u'funny': 0, u'useful': 0, u'cool': 0}  Iu6AxdBYGR4A0wspR9BYHA   \n",
      "2  {u'funny': 1, u'useful': 1, u'cool': 0}  auESFwWvW42h6alXgFxAXQ   \n",
      "3  {u'funny': 0, u'useful': 0, u'cool': 0}  qiczib2fO_1VBG8IoCGvVg   \n",
      "4  {u'funny': 0, u'useful': 1, u'cool': 0}  qEE5EvV-f-s7yHC0Z4ydJQ   \n",
      "5  {u'funny': 0, u'useful': 0, u'cool': 0}  jBoH6qKGO7wdYyg_YjBcQA   \n",
      "6  {u'funny': 0, u'useful': 0, u'cool': 0}  bWrodc7hN_T4q2r-rolrOA   \n",
      "7  {u'funny': 0, u'useful': 0, u'cool': 0}  uK8tzraOp4M5u3uYrqIBXg   \n",
      "8  {u'funny': 0, u'useful': 0, u'cool': 0}  I_47G-R2_egp7ME5u_ltew   \n",
      "9  {u'funny': 0, u'useful': 0, u'cool': 0}  PP_xoMSYlGr2pb67BbqBdA   \n",
      "\n",
      "                review_id                                               text  \\\n",
      "0  Ya85v4eqdd6k9Od8HbQjyA  Mr Hoagie is an institution. Walking in, it do...   \n",
      "1  KPvLNJ21_4wbYNctrOwWdQ  Excellent food. Superb customer service. I mis...   \n",
      "2  fFSoGV46Yxuwbr3fHNuZig  Yes this place is a little out dated and not o...   \n",
      "3  pVMIt0a_QsKtuDfWVfSk2A  PROS: Italian hoagie was delicious.  Friendly ...   \n",
      "4  AEyiQ_Y44isJmNbMTyoMKQ  First the only reason this place could possibl...   \n",
      "5  V-bqYx62zpxfH2oFkzXPzw  Normally, I do not do reviews of an establishm...   \n",
      "6  3saY_LVFUpkAfd9t86VNdw  I like this place a lot. It's a good toasted h...   \n",
      "7  Di3exaUCFNw1V4kSNW5pgA  All the food is great here. But the best thing...   \n",
      "8  0Lua2-PbqEQMjD9r89-asw  We checked this place out this past Monday for...   \n",
      "9  7N9j5YbBHBW6qguE5DAeyA  Wing sauce is like water. Pretty much a lot of...   \n",
      "\n",
      "              business_id  stars      date    type  \n",
      "0  5UmKMjUEUNdYWqANhGckJw      4  01-08-12  review  \n",
      "1  5UmKMjUEUNdYWqANhGckJw      5  13-02-14  review  \n",
      "2  5UmKMjUEUNdYWqANhGckJw      5  31-10-15  review  \n",
      "3  5UmKMjUEUNdYWqANhGckJw      3  26-12-15  review  \n",
      "4  5UmKMjUEUNdYWqANhGckJw      2  08-04-16  review  \n",
      "5  5UmKMjUEUNdYWqANhGckJw      1  10-04-16  review  \n",
      "6  5UmKMjUEUNdYWqANhGckJw      4  11-05-16  review  \n",
      "7  UsFtqoBl7naz8AVUBZMjQQ      5  08-11-13  review  \n",
      "8  UsFtqoBl7naz8AVUBZMjQQ      3  29-03-14  review  \n",
      "9  UsFtqoBl7naz8AVUBZMjQQ      1  29-10-14  review  \n"
     ]
    }
   ],
   "source": [
    "print(data.head(n=10))"
   ]
  },
  {
   "cell_type": "code",
   "execution_count": 10,
   "metadata": {
    "collapsed": true
   },
   "outputs": [],
   "source": [
    "data_with_stop_removed = data.copy()\n",
    "data_with_POS_tags = data.copy()"
   ]
  },
  {
   "cell_type": "code",
   "execution_count": 11,
   "metadata": {},
   "outputs": [
    {
     "name": "stdout",
     "output_type": "stream",
     "text": [
      "                                     votes                 user_id  \\\n",
      "0  {u'funny': 0, u'useful': 0, u'cool': 0}  PUFPaY9KxDAcGqfsorJp3Q   \n",
      "\n",
      "                review_id                                               text  \\\n",
      "0  Ya85v4eqdd6k9Od8HbQjyA  Mr Hoagie is an institution. Walking in, it do...   \n",
      "\n",
      "              business_id  stars      date    type  \n",
      "0  5UmKMjUEUNdYWqANhGckJw      4  01-08-12  review  \n"
     ]
    }
   ],
   "source": [
    "data_with_stop_removed['text'] = data['text'].apply(remove_stop_words)\n",
    "print(data_with_POS_tags.head(n=1))"
   ]
  },
  {
   "cell_type": "code",
   "execution_count": 12,
   "metadata": {},
   "outputs": [
    {
     "name": "stdout",
     "output_type": "stream",
     "text": [
      "                                     votes                 user_id  \\\n",
      "0  {u'funny': 0, u'useful': 0, u'cool': 0}  PUFPaY9KxDAcGqfsorJp3Q   \n",
      "1  {u'funny': 0, u'useful': 0, u'cool': 0}  Iu6AxdBYGR4A0wspR9BYHA   \n",
      "2  {u'funny': 1, u'useful': 1, u'cool': 0}  auESFwWvW42h6alXgFxAXQ   \n",
      "3  {u'funny': 0, u'useful': 0, u'cool': 0}  qiczib2fO_1VBG8IoCGvVg   \n",
      "4  {u'funny': 0, u'useful': 1, u'cool': 0}  qEE5EvV-f-s7yHC0Z4ydJQ   \n",
      "5  {u'funny': 0, u'useful': 0, u'cool': 0}  jBoH6qKGO7wdYyg_YjBcQA   \n",
      "6  {u'funny': 0, u'useful': 0, u'cool': 0}  bWrodc7hN_T4q2r-rolrOA   \n",
      "7  {u'funny': 0, u'useful': 0, u'cool': 0}  uK8tzraOp4M5u3uYrqIBXg   \n",
      "8  {u'funny': 0, u'useful': 0, u'cool': 0}  I_47G-R2_egp7ME5u_ltew   \n",
      "9  {u'funny': 0, u'useful': 0, u'cool': 0}  PP_xoMSYlGr2pb67BbqBdA   \n",
      "\n",
      "                review_id                                               text  \\\n",
      "0  Ya85v4eqdd6k9Od8HbQjyA  old large Italian frozen other fresh Overall good   \n",
      "1  KPvLNJ21_4wbYNctrOwWdQ                                    Excellent great   \n",
      "2  fFSoGV46Yxuwbr3fHNuZig  little other pleasant fast fresh other daily g...   \n",
      "3  pVMIt0a_QsKtuDfWVfSk2A  Italian delicious Friendly counter clean neat ...   \n",
      "4  AEyiQ_Y44isJmNbMTyoMKQ  only awesome only decent general Minimal shred...   \n",
      "5  V-bqYx62zpxfH2oFkzXPzw  great bad bad first last whole Italian popular...   \n",
      "6  3saY_LVFUpkAfd9t86VNdw               good toasted previous inside updated   \n",
      "7  Di3exaUCFNw1V4kSNW5pgA   great fantastic popular seasoned whole nice nice   \n",
      "8  0Lua2-PbqEQMjD9r89-asw  past great whole nice wet garlic bold enough t...   \n",
      "9  7N9j5YbBHBW6qguE5DAeyA  much hot hot whole good hot extra same fish go...   \n",
      "\n",
      "              business_id  stars      date    type  \n",
      "0  5UmKMjUEUNdYWqANhGckJw      4  01-08-12  review  \n",
      "1  5UmKMjUEUNdYWqANhGckJw      5  13-02-14  review  \n",
      "2  5UmKMjUEUNdYWqANhGckJw      5  31-10-15  review  \n",
      "3  5UmKMjUEUNdYWqANhGckJw      3  26-12-15  review  \n",
      "4  5UmKMjUEUNdYWqANhGckJw      2  08-04-16  review  \n",
      "5  5UmKMjUEUNdYWqANhGckJw      1  10-04-16  review  \n",
      "6  5UmKMjUEUNdYWqANhGckJw      4  11-05-16  review  \n",
      "7  UsFtqoBl7naz8AVUBZMjQQ      5  08-11-13  review  \n",
      "8  UsFtqoBl7naz8AVUBZMjQQ      3  29-03-14  review  \n",
      "9  UsFtqoBl7naz8AVUBZMjQQ      1  29-10-14  review  \n"
     ]
    }
   ],
   "source": [
    "data_with_POS_tags['text'] = data['text'].apply(get_pos_tags)\n",
    "print(data_with_POS_tags.head(n=10))"
   ]
  },
  {
   "cell_type": "code",
   "execution_count": 13,
   "metadata": {},
   "outputs": [],
   "source": [
    "# data.drop(['votes','business_id','user_id','date', 'type'],axis = 1, inplace= True, errors= 'ignore')\n",
    "\n",
    "# data.to_csv(\"data100k.csv\", sep=\",\")"
   ]
  },
  {
   "cell_type": "code",
   "execution_count": 14,
   "metadata": {
    "collapsed": true
   },
   "outputs": [],
   "source": [
    "# Save data for further processing\n",
    "data_with_stop_removed.to_csv(\"../data/data_stop_word_removed.csv\",sep=\",\")"
   ]
  },
  {
   "cell_type": "code",
   "execution_count": 15,
   "metadata": {
    "collapsed": true
   },
   "outputs": [],
   "source": [
    "# Save data for further processing\n",
    "data_with_POS_tags.to_csv(\"../data/data_POS_tags.csv\",sep=\",\")"
   ]
  },
  {
   "cell_type": "code",
   "execution_count": null,
   "metadata": {
    "collapsed": true
   },
   "outputs": [],
   "source": []
  },
  {
   "cell_type": "code",
   "execution_count": null,
   "metadata": {
    "collapsed": true
   },
   "outputs": [],
   "source": []
  }
 ],
 "metadata": {
  "anaconda-cloud": {},
  "kernelspec": {
   "display_name": "Python 2",
   "language": "python",
   "name": "python2"
  },
  "language_info": {
   "codemirror_mode": {
    "name": "ipython",
    "version": 2
   },
   "file_extension": ".py",
   "mimetype": "text/x-python",
   "name": "python",
   "nbconvert_exporter": "python",
   "pygments_lexer": "ipython2",
   "version": "2.7.13"
  }
 },
 "nbformat": 4,
 "nbformat_minor": 1
}
