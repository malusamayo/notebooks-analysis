{
 "cells": [
  {
   "cell_type": "markdown",
   "metadata": {},
   "source": [
    "# UCI : Online Retail\n",
    "Le but de ce notebook est de pouvoir regrouper un ensemble homogène de comportements clients à travers l'historique des factures abouties et annulées de plusieurs clients "
   ]
  },
  {
   "cell_type": "code",
   "execution_count": 1,
   "metadata": {
    "collapsed": true
   },
   "outputs": [],
   "source": [
    "import pandas\n",
    "import numpy as np\n",
    "import matplotlib.pyplot as plt\n",
    "import datetime\n",
    "from sklearn.cluster import KMeans\n",
    "from sklearn.decomposition import PCA\n",
    "from sklearn.feature_extraction import DictVectorizer\n",
    "from ggplot import *"
   ]
  },
  {
   "cell_type": "markdown",
   "metadata": {},
   "source": [
    "## Chargement des données"
   ]
  },
  {
   "cell_type": "code",
   "execution_count": 2,
   "metadata": {
    "collapsed": false
   },
   "outputs": [
    {
     "name": "stdout",
     "output_type": "stream",
     "text": [
      "(541909, 8)\n",
      "InvoiceNo              object\n",
      "StockCode              object\n",
      "Description            object\n",
      "Quantity                int64\n",
      "InvoiceDate    datetime64[ns]\n",
      "UnitPrice             float64\n",
      "CustomerID            float64\n",
      "Country                object\n",
      "dtype: object\n",
      "['Australia' 'Austria' 'Bahrain' 'Belgium' 'Brazil' 'Canada'\n",
      " 'Channel Islands' 'Cyprus' 'Czech Republic' 'Denmark' 'EIRE'\n",
      " 'European Community' 'Finland' 'France' 'Germany' 'Greece' 'Hong Kong'\n",
      " 'Iceland' 'Israel' 'Italy' 'Japan' 'Lebanon' 'Lithuania' 'Malta'\n",
      " 'Netherlands' 'Norway' 'Poland' 'Portugal' 'RSA' 'Saudi Arabia'\n",
      " 'Singapore' 'Spain' 'Sweden' 'Switzerland' 'USA' 'United Arab Emirates'\n",
      " 'United Kingdom' 'Unspecified']\n"
     ]
    }
   ],
   "source": [
    "PATH= 'xxx'\n",
    "file_name = 'Online Retail.xlsx'\n",
    "sheet_name ='Online Retail'\n",
    "\n",
    "# Chargement du fichier des transactions\n",
    "data = pandas.read_excel(PATH+file_name,sheet_name=sheet_name)\n",
    "\n",
    "# Affichage de certaines statistiques descriptives\n",
    "print(data.shape)\n",
    "print(data.dtypes)\n",
    "data.describe()\n",
    "print(np.unique(data['Country']))"
   ]
  },
  {
   "cell_type": "markdown",
   "metadata": {},
   "source": [
    "### Ajout de variables et restructuration du dataset"
   ]
  },
  {
   "cell_type": "code",
   "execution_count": 3,
   "metadata": {
    "collapsed": false
   },
   "outputs": [],
   "source": [
    "data['Country']=data['Country'].astype('category')"
   ]
  },
  {
   "cell_type": "markdown",
   "metadata": {},
   "source": [
    " * Vérification du nombre de données manquantes"
   ]
  },
  {
   "cell_type": "code",
   "execution_count": 4,
   "metadata": {
    "collapsed": false
   },
   "outputs": [
    {
     "name": "stdout",
     "output_type": "stream",
     "text": [
      "InvoiceNo           0\n",
      "StockCode           0\n",
      "Description      1454\n",
      "Quantity            0\n",
      "InvoiceDate         0\n",
      "UnitPrice           0\n",
      "CustomerID     135080\n",
      "Country             0\n",
      "dtype: int64\n"
     ]
    }
   ],
   "source": [
    "print(data.isnull().sum(axis=0))"
   ]
  },
  {
   "cell_type": "markdown",
   "metadata": {},
   "source": [
    "* Variable supplémentaire : Calcul du prix "
   ]
  },
  {
   "cell_type": "code",
   "execution_count": 5,
   "metadata": {
    "collapsed": false
   },
   "outputs": [],
   "source": [
    "data['FullPrice'] = data['Quantity']* data['UnitPrice']"
   ]
  },
  {
   "cell_type": "markdown",
   "metadata": {},
   "source": [
    "* Extraction du mois à partir de la date de la facture"
   ]
  },
  {
   "cell_type": "code",
   "execution_count": 6,
   "metadata": {
    "collapsed": false
   },
   "outputs": [],
   "source": [
    "data['Month']= data['InvoiceDate'].dt.month\n",
    "data['Month'] = data['Month'].astype(str)"
   ]
  },
  {
   "cell_type": "markdown",
   "metadata": {},
   "source": [
    "* Détection des lignes des transactions annulées"
   ]
  },
  {
   "cell_type": "code",
   "execution_count": 7,
   "metadata": {
    "collapsed": false
   },
   "outputs": [],
   "source": [
    "data['TransactionCancelled'] = data['InvoiceNo'].str.startswith('C',False) "
   ]
  },
  {
   "cell_type": "markdown",
   "metadata": {},
   "source": [
    "On se restreint aux transactions dont le CustomerID est renseigné. "
   ]
  },
  {
   "cell_type": "code",
   "execution_count": 8,
   "metadata": {
    "collapsed": false
   },
   "outputs": [],
   "source": [
    "data = data[pandas.notnull(data['CustomerID'])]\n",
    "data=data.reset_index()"
   ]
  },
  {
   "cell_type": "markdown",
   "metadata": {},
   "source": [
    "Vérification des données manquantes après avoir retiré les transactions dont le CustomerID était null"
   ]
  },
  {
   "cell_type": "code",
   "execution_count": 9,
   "metadata": {
    "collapsed": false
   },
   "outputs": [
    {
     "name": "stdout",
     "output_type": "stream",
     "text": [
      "index                   0\n",
      "InvoiceNo               0\n",
      "StockCode               0\n",
      "Description             0\n",
      "Quantity                0\n",
      "InvoiceDate             0\n",
      "UnitPrice               0\n",
      "CustomerID              0\n",
      "Country                 0\n",
      "FullPrice               0\n",
      "Month                   0\n",
      "TransactionCancelled    0\n",
      "dtype: int64\n"
     ]
    }
   ],
   "source": [
    "print(data.isnull().sum(axis=0))"
   ]
  },
  {
   "cell_type": "markdown",
   "metadata": {},
   "source": [
    "Transformation de la colonne catégorielle 'Country' en plusieurs colonnes, la rendant sparse"
   ]
  },
  {
   "cell_type": "code",
   "execution_count": 10,
   "metadata": {
    "collapsed": false
   },
   "outputs": [],
   "source": [
    "dv =DictVectorizer()\n",
    "z=dv.fit_transform(pandas.DataFrame(data['Country']).to_dict(orient='records'))\n",
    "countries_dimmed = pandas.DataFrame(z.toarray(),columns=dv.get_feature_names())\n"
   ]
  },
  {
   "cell_type": "markdown",
   "metadata": {},
   "source": [
    "Transformation de la colonne catégorielle 'Month' en plusieurs colonnes, la rendant sparse"
   ]
  },
  {
   "cell_type": "code",
   "execution_count": 11,
   "metadata": {
    "collapsed": false
   },
   "outputs": [],
   "source": [
    "dv2 =DictVectorizer()\n",
    "z=dv2.fit_transform(pandas.DataFrame(data['Month']).to_dict(orient='records'))\n",
    "months_dimmed = pandas.DataFrame(z.toarray(),columns=dv2.get_feature_names())\n"
   ]
  },
  {
   "cell_type": "markdown",
   "metadata": {},
   "source": [
    "Fusion des 2 nouvelles matrices sparses avec le reste du dataset"
   ]
  },
  {
   "cell_type": "code",
   "execution_count": 12,
   "metadata": {
    "collapsed": false
   },
   "outputs": [],
   "source": [
    "data_final = pandas.concat([data,countries_dimmed,months_dimmed],axis=1)"
   ]
  },
  {
   "cell_type": "markdown",
   "metadata": {},
   "source": [
    "Ce sont les comportements clients qui nous intéressent, donc on va regrouper le dataset par client avec des variables concernant plutôt des clients que des transactions"
   ]
  },
  {
   "cell_type": "code",
   "execution_count": 13,
   "metadata": {
    "collapsed": true
   },
   "outputs": [],
   "source": [
    "data_cust_id_2 = data_final.groupby('CustomerID')"
   ]
  },
  {
   "cell_type": "code",
   "execution_count": 14,
   "metadata": {
    "collapsed": false
   },
   "outputs": [],
   "source": [
    "countries_kept = ['Country=Australia', 'Country=Austria',\n",
    "       'Country=Bahrain', 'Country=Belgium', 'Country=Brazil',\n",
    "       'Country=Canada', 'Country=Channel Islands', 'Country=Cyprus',\n",
    "       'Country=Czech Republic', 'Country=Denmark', 'Country=EIRE',\n",
    "       'Country=European Community', 'Country=Finland', 'Country=France',\n",
    "       'Country=Germany', 'Country=Greece', 'Country=Iceland',\n",
    "       'Country=Israel', 'Country=Italy', 'Country=Japan', 'Country=Lebanon',\n",
    "       'Country=Lithuania', 'Country=Malta', 'Country=Netherlands',\n",
    "       'Country=Norway', 'Country=Poland', 'Country=Portugal', 'Country=RSA',\n",
    "       'Country=Saudi Arabia', 'Country=Singapore', 'Country=Spain',\n",
    "       'Country=Sweden', 'Country=Switzerland', 'Country=USA',\n",
    "       'Country=United Arab Emirates', 'Country=United Kingdom']"
   ]
  },
  {
   "cell_type": "markdown",
   "metadata": {},
   "source": [
    "Nombre de clients ayant commandé dans plus d'un pays'"
   ]
  },
  {
   "cell_type": "code",
   "execution_count": 15,
   "metadata": {
    "collapsed": false
   },
   "outputs": [
    {
     "data": {
      "text/plain": [
       "4372"
      ]
     },
     "execution_count": 15,
     "metadata": {},
     "output_type": "execute_result"
    }
   ],
   "source": [
    "len(data_cust_id_2.Country.apply(np.unique).apply(len).to_frame() >1)"
   ]
  },
  {
   "cell_type": "markdown",
   "metadata": {},
   "source": [
    "Calculer le nombre de deals par pays par clientID"
   ]
  },
  {
   "cell_type": "code",
   "execution_count": 16,
   "metadata": {
    "collapsed": false
   },
   "outputs": [],
   "source": [
    "sum_deals_country_per_customer = data_cust_id_2[countries_kept].apply(sum)"
   ]
  },
  {
   "cell_type": "markdown",
   "metadata": {},
   "source": [
    "Nombre de transactions annulées par client"
   ]
  },
  {
   "cell_type": "code",
   "execution_count": 17,
   "metadata": {
    "collapsed": false
   },
   "outputs": [],
   "source": [
    "cancelled_transac_customer = data_cust_id_2.TransactionCancelled.apply(sum).astype('int').to_frame('SumCancelledTransactions')"
   ]
  },
  {
   "cell_type": "markdown",
   "metadata": {},
   "source": [
    "Nombre de transactions par client"
   ]
  },
  {
   "cell_type": "code",
   "execution_count": 18,
   "metadata": {
    "collapsed": false
   },
   "outputs": [],
   "source": [
    "number_invoices_per_customer = data_cust_id_2.InvoiceNo.apply(set).apply(len).to_frame()"
   ]
  },
  {
   "cell_type": "markdown",
   "metadata": {},
   "source": [
    "Restructuration du dataset afin de mettre pour chaque client connu le nombre de produits achetés.\n",
    "Chaque colonne représente un produit, la ligne un client et la valeur représente la somme des quantités de produits achetés"
   ]
  },
  {
   "cell_type": "code",
   "execution_count": 28,
   "metadata": {
    "collapsed": false
   },
   "outputs": [],
   "source": [
    "matrix_descr = data_final.pivot_table(index=['CustomerID'], columns=['Description'], values='Quantity',aggfunc='sum')\n",
    "matrix_descr = matrix_descr.fillna(0).reset_index()"
   ]
  },
  {
   "cell_type": "markdown",
   "metadata": {},
   "source": [
    "Restructuration du dataset afin de mettre pour chaque client connu le prix total pour un mois donné.\n",
    "Chaque colonne représente un mois, la ligne un client et la valeur représente la somme des prix"
   ]
  },
  {
   "cell_type": "code",
   "execution_count": 29,
   "metadata": {
    "collapsed": false
   },
   "outputs": [],
   "source": [
    "matrix_month = data_final.pivot_table(index=['CustomerID'], columns=['Month'], values='FullPrice',aggfunc='sum')\n",
    "matrix_month = matrix_month.fillna(0).reset_index()"
   ]
  },
  {
   "cell_type": "markdown",
   "metadata": {},
   "source": [
    "Fusion des 2 matrices "
   ]
  },
  {
   "cell_type": "code",
   "execution_count": 30,
   "metadata": {
    "collapsed": false
   },
   "outputs": [],
   "source": [
    "matrix = matrix_descr.merge(matrix_month,on='CustomerID',how='inner')"
   ]
  },
  {
   "cell_type": "markdown",
   "metadata": {},
   "source": [
    "Ajout des colonnes suivantes :\n",
    "* nombre de transactions par client\n",
    "* nombre de transactions par pays (une colonne par pays) par client\n",
    "* nombre de transactions annulées par client"
   ]
  },
  {
   "cell_type": "code",
   "execution_count": 40,
   "metadata": {
    "collapsed": false
   },
   "outputs": [],
   "source": [
    "X = matrix.join(number_invoices_per_customer,on='CustomerID',how='inner')\n",
    "X = X.join(sum_deals_country_per_customer,on='CustomerID',how='inner')\n",
    "X = X.join(cancelled_transac_customer,on='CustomerID',how='inner')"
   ]
  },
  {
   "cell_type": "markdown",
   "metadata": {},
   "source": [
    "# Application du modèle de clustering (K-means)\n",
    "Etant donné que nous sommes en mode non-supervisé, un algorithme de clustering sera utilisé pour regrouper les comportements d'achats clients."
   ]
  },
  {
   "cell_type": "code",
   "execution_count": 42,
   "metadata": {
    "collapsed": false
   },
   "outputs": [],
   "source": [
    "cluster = KMeans(n_clusters=10)\n",
    "X['no_cluster']= cluster.fit_predict(X[X.columns[2:]])"
   ]
  },
  {
   "cell_type": "code",
   "execution_count": 43,
   "metadata": {
    "collapsed": false
   },
   "outputs": [
    {
     "name": "stdout",
     "output_type": "stream",
     "text": [
      "Nombre de clients dans chaque cluster :\n"
     ]
    },
    {
     "data": {
      "text/plain": [
       "0    4233\n",
       "4     119\n",
       "9       9\n",
       "1       5\n",
       "7       1\n",
       "3       1\n",
       "6       1\n",
       "2       1\n",
       "5       1\n",
       "8       1\n",
       "Name: no_cluster, dtype: int64"
      ]
     },
     "execution_count": 43,
     "metadata": {},
     "output_type": "execute_result"
    }
   ],
   "source": [
    "print('Nombre de clients dans chaque cluster :')\n",
    "X['no_cluster'].value_counts()"
   ]
  },
  {
   "cell_type": "markdown",
   "metadata": {},
   "source": [
    "Affichage des clusters sur les 2 axes avec les 2 plus grandes variances expliquées"
   ]
  },
  {
   "cell_type": "code",
   "execution_count": 33,
   "metadata": {
    "collapsed": false
   },
   "outputs": [],
   "source": [
    "pca = PCA(n_components=2)\n",
    "X['x'] = pca.fit_transform(X[X.columns[1:]])[:,0]\n",
    "X['y'] = pca.fit_transform(X[X.columns[1:]])[:,1]"
   ]
  },
  {
   "cell_type": "code",
   "execution_count": 34,
   "metadata": {
    "collapsed": false
   },
   "outputs": [
    {
     "data": {
      "text/html": [
       "<div>\n",
       "<table border=\"1\" class=\"dataframe\">\n",
       "  <thead>\n",
       "    <tr style=\"text-align: right;\">\n",
       "      <th></th>\n",
       "      <th>CustomerID</th>\n",
       "      <th>no_cluster</th>\n",
       "      <th>x</th>\n",
       "      <th>y</th>\n",
       "    </tr>\n",
       "  </thead>\n",
       "  <tbody>\n",
       "    <tr>\n",
       "      <th>0</th>\n",
       "      <td>12346</td>\n",
       "      <td>0</td>\n",
       "      <td>-562.214381</td>\n",
       "      <td>-32.988734</td>\n",
       "    </tr>\n",
       "    <tr>\n",
       "      <th>1</th>\n",
       "      <td>12347</td>\n",
       "      <td>6</td>\n",
       "      <td>667.981764</td>\n",
       "      <td>958.973985</td>\n",
       "    </tr>\n",
       "    <tr>\n",
       "      <th>2</th>\n",
       "      <td>12348</td>\n",
       "      <td>0</td>\n",
       "      <td>-63.599147</td>\n",
       "      <td>-13.241046</td>\n",
       "    </tr>\n",
       "    <tr>\n",
       "      <th>3</th>\n",
       "      <td>12349</td>\n",
       "      <td>0</td>\n",
       "      <td>14.701642</td>\n",
       "      <td>-296.574769</td>\n",
       "    </tr>\n",
       "    <tr>\n",
       "      <th>4</th>\n",
       "      <td>12350</td>\n",
       "      <td>0</td>\n",
       "      <td>-509.514089</td>\n",
       "      <td>41.839902</td>\n",
       "    </tr>\n",
       "  </tbody>\n",
       "</table>\n",
       "</div>"
      ],
      "text/plain": [
       "   CustomerID  no_cluster           x           y\n",
       "0       12346           0 -562.214381  -32.988734\n",
       "1       12347           6  667.981764  958.973985\n",
       "2       12348           0  -63.599147  -13.241046\n",
       "3       12349           0   14.701642 -296.574769\n",
       "4       12350           0 -509.514089   41.839902"
      ]
     },
     "execution_count": 34,
     "metadata": {},
     "output_type": "execute_result"
    }
   ],
   "source": [
    "customer_clusters = X[['CustomerID', 'no_cluster', 'x', 'y']]\n",
    "customer_clusters.head()"
   ]
  },
  {
   "cell_type": "markdown",
   "metadata": {},
   "source": [
    "Affichage des points sur les 2 axes "
   ]
  },
  {
   "cell_type": "code",
   "execution_count": 36,
   "metadata": {
    "collapsed": false
   },
   "outputs": [
    {
     "name": "stderr",
     "output_type": "stream",
     "text": [
      "c:\\users\\wymeka\\documents\\python\\python\\lib\\site-packages\\matplotlib\\__init__.py:872: UserWarning: axes.color_cycle is deprecated and replaced with axes.prop_cycle; please use the latter.\n",
      "  warnings.warn(self.msg_depr % (key, alt_key))\n"
     ]
    },
    {
     "data": {
      "text/plain": [
       "<ggplot: (-9223372036836878539)>"
      ]
     },
     "execution_count": 36,
     "metadata": {},
     "output_type": "execute_result"
    }
   ],
   "source": [
    "ggplot(X, aes(x='x', y='y', color='no_cluster')) + \\\n",
    "    geom_point(size=75) + \\\n",
    "    ggtitle(\"Customers Grouped by Cluster\")"
   ]
  },
  {
   "cell_type": "markdown",
   "metadata": {
    "collapsed": false
   },
   "source": [
    "### Annexes :\n",
    "Il était aussi possible de diminuer le nombre de produits en les regroupant. Ce regroupement pourrait être effectué en calculant la fréquence de chaque mot de la description du produit et utiliser un algorithme de clustering (ici par exemple un NMF) pour regrouper les produits."
   ]
  },
  {
   "cell_type": "code",
   "execution_count": null,
   "metadata": {
    "collapsed": false
   },
   "outputs": [],
   "source": [
    "from sklearn.feature_extraction.text import  TfidfVectorizer\n",
    "tf_vectorizer = TfidfVectorizer(analyzer='word', min_df = 0)\n",
    "tf = tf_vectorizer.fit_transform(data['Description'])"
   ]
  },
  {
   "cell_type": "code",
   "execution_count": null,
   "metadata": {
    "collapsed": false
   },
   "outputs": [],
   "source": [
    "from sklearn.decomposition import NMF\n",
    "cluster_products = NMF(init='nndsvd', random_state=1,n_components=10)\n",
    "a=pandas.DataFrame(cluster_products.fit_transform(tf))\n",
    "b=a.idxmax(axis=1)"
   ]
  },
  {
   "cell_type": "code",
   "execution_count": null,
   "metadata": {
    "collapsed": false
   },
   "outputs": [],
   "source": [
    "products_clustered = pandas.concat([data['Description'],b],axis=1)"
   ]
  }
 ],
 "metadata": {
  "kernelspec": {
   "display_name": "Python 3",
   "language": "python",
   "name": "python3"
  },
  "language_info": {
   "codemirror_mode": {
    "name": "ipython",
    "version": 3
   },
   "file_extension": ".py",
   "mimetype": "text/x-python",
   "name": "python",
   "nbconvert_exporter": "python",
   "pygments_lexer": "ipython3",
   "version": "3.4.3"
  }
 },
 "nbformat": 4,
 "nbformat_minor": 0
}
