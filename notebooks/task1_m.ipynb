{
 "cells": [
  {
   "cell_type": "markdown",
   "metadata": {},
   "source": [
    "# Instructions\n",
    "+ You are going to read the code, prepare to answer the following questions:\n",
    "    + What is the purpose of the 3rd cell and 4th cell?\n",
    "    + Where does the variable **X_train/X_test** come from? How?\n",
    "+ Please reuse the code for new input \"bank2.csv\". Find what you need to change. "
   ]
  },
  {
   "cell_type": "markdown",
   "metadata": {},
   "source": [
    "\n",
    "**output**\n",
    "- bank_df, shape(499, 17), column types: {int64: 7, object: 10}\n",
    "\n",
    "|         |   age | job        | marital   | education   | default   |   balance | housing   | loan   | contact   |   day | month   |   duration |   campaign |   pdays |   previous | poutcome   | y   |\n",
    "|:--------|------:|:-----------|:----------|:------------|:----------|----------:|:----------|:-------|:----------|------:|:--------|-----------:|-----------:|--------:|-----------:|:-----------|:----|\n",
    "| example |    30 | unemployed | married   | primary     | no        |      1787 | no        | no     | cellular  |    19 | oct     |         79 |          1 |      -1 |          0 | unknown    | no  |\n",
    "- bank_df_raw, shape(499, 17), column types: {int64: 7, object: 10}, copy of bank_df\n",
    "\n",
    "|         |   age | job        | marital   | education   | default   |   balance | housing   | loan   | contact   |   day | month   |   duration |   campaign |   pdays |   previous | poutcome   | y   |\n",
    "|:--------|------:|:-----------|:----------|:------------|:----------|----------:|:----------|:-------|:----------|------:|:--------|-----------:|-----------:|--------:|-----------:|:-----------|:----|\n",
    "| example |    30 | unemployed | married   | primary     | no        |      1787 | no        | no     | cellular  |    19 | oct     |         79 |          1 |      -1 |          0 | unknown    | no  |"
   ]
  },
  {
   "cell_type": "code",
   "execution_count": null,
   "metadata": {},
   "outputs": [],
   "source": [
    "import pandas as pd # Employ Pandas for data manipulation\n",
    "import numpy as np\n",
    "\n",
    "# 1. Import data\n",
    "bank_df = pd.read_csv('bank1.csv', sep=\";\") # default is \",\", which will fail\n",
    "\n",
    "bank_df_raw = bank_df.copy() # back up the original dataset for multiple tests"
   ]
  },
  {
   "cell_type": "markdown",
   "metadata": {},
   "source": [
    "**input**\n",
    "- bank_df, shape(499, 17), column types: {int64: 7, object: 10}\n",
    "\n",
    "**output**\n",
    "- cat_cols, shape(10,) of object"
   ]
  },
  {
   "cell_type": "code",
   "execution_count": null,
   "metadata": {},
   "outputs": [],
   "source": [
    "cat_cols = bank_df.select_dtypes(['object']).columns"
   ]
  },
  {
   "cell_type": "markdown",
   "metadata": {},
   "source": [
    "**input**\n",
    "- bank_df_raw, shape(499, 17), column types: {int64: 7, object: 10}\n",
    "- cat_cols, shape(10,) of object\n",
    "\n",
    "**output**\n",
    "- bank_df_raw, shape(499, 17), column types: {int64: 7, object: 10}, no change in the cell\n",
    "\n",
    "|         |   age | job        | marital   | education   | default   |   balance | housing   | loan   | contact   |   day | month   |   duration |   campaign |   pdays |   previous | poutcome   | y   |\n",
    "|:--------|------:|:-----------|:----------|:------------|:----------|----------:|:----------|:-------|:----------|------:|:--------|-----------:|-----------:|--------:|-----------:|:-----------|:----|\n",
    "| example |    30 | unemployed | married   | primary     | no        |      1787 | no        | no     | cellular  |    19 | oct     |         79 |          1 |      -1 |          0 | unknown    | no  |\n",
    "- bank_df_le, shape(499, 17), column types: {int64: 7, int32: 10}\n",
    "\t- 10 object columns of bank_df_raw converted to int32\n",
    "\n",
    "|          | age                | job*               | marital*            | education*         | default*             | balance            | housing*            | loan*               | contact*           | day               | month*            | duration          | campaign          | pdays             | previous           | poutcome*          | y*                  |\n",
    "|:---------|:-------------------|:-------------------|:--------------------|:-------------------|:---------------------|:-------------------|:--------------------|:--------------------|:-------------------|:------------------|:------------------|:------------------|:------------------|:------------------|:-------------------|:-------------------|:--------------------|\n",
    "| example  | 30 -> 30           | unemployed -> 10   | married -> 1        | primary -> 0       | no -> 0              | 1787 -> 1787       | no -> 0             | no -> 0             | cellular -> 0      | 19 -> 19          | oct -> 10         | 79 -> 79          | 1 -> 1            | -1 -> -1          | 0 -> 0             | unknown -> 3       | no -> 0             |\n",
    "| mean     | 41.256513026052104 | 4.342685370741483  | 1.1723446893787575  | 1.2464929859719438 | 0.02404809619238477  | 1461.0320641282565 | 0.5711422845691383  | 0.16633266533066132 | 0.5991983967935872 | 15.7875751503006  | 5.492985971943888 | 270.685370741483  | 2.498997995991984 | 41.35671342685371 | 0.5290581162324649 | 2.5110220440881763 | 0.1282565130260521  |\n",
    "| variance | 112.69572411355779 | 10.561925454114641 | 0.35506684712109593 | 0.562487700852607  | 0.023469785261906583 | 5913601.626226402  | 0.24493877534628375 | 0.13866610977465954 | 0.7772338263701752 | 67.32561716619612 | 9.235922747298204 | 71021.63046734752 | 5.941381761519029 | 9844.886783587215 | 2.3573720587467517 | 1.087553865245521  | 0.11180677989245022 |\n",
    "| range    | [20, 78]           | [0, 11]            | [0, 2]              | [0, 3]             | [0, 1]               | [-1206, 16873]     | [0, 1]              | [0, 1]              | [0, 2]             | [1, 31]           | [0, 11]           | [5, 1877]         | [1, 24]           | [-1, 462]         | [0, 20]            | [0, 3]             | [0, 1]              |"
   ]
  },
  {
   "cell_type": "code",
   "execution_count": null,
   "metadata": {},
   "outputs": [],
   "source": [
    "from sklearn import preprocessing\n",
    "le = preprocessing.LabelEncoder()\n",
    "\n",
    "bank_df_le = bank_df_raw.copy()\n",
    "\n",
    "for col in cat_cols:    \n",
    "    bank_df_le[col] = le.fit_transform(bank_df_le[col])"
   ]
  },
  {
   "cell_type": "markdown",
   "metadata": {},
   "source": [
    "**input**\n",
    "- bank_df_raw, shape(499, 17), column types: {int64: 7, object: 10}\n",
    "- bank_df_le, shape(499, 17), column types: {int64: 7, int32: 10}\n",
    "\n",
    "**output**\n",
    "- bank_df_le, shape(499, 17), column types: {int64: 8, int32: 9}\n",
    "\t- 1 int32 columns of bank_df_le converted to int64, 1 int64 columns of bank_df_le changed\n",
    "\n",
    "|          | age                | job                | marital             | education          | default              | balance            | housing             | loan                | contact            | day               | month*            | duration          | campaign          | pdays*             | previous           | poutcome           | y                   |\n",
    "|:---------|:-------------------|:-------------------|:--------------------|:-------------------|:---------------------|:-------------------|:--------------------|:--------------------|:-------------------|:------------------|:------------------|:------------------|:------------------|:-------------------|:-------------------|:-------------------|:--------------------|\n",
    "| example  | 30 -> 30           | 10 -> 10           | 1 -> 1              | 0 -> 0             | 0 -> 0               | 1787 -> 1787       | 0 -> 0              | 0 -> 0              | 0 -> 0             | 19 -> 19          | 10 -> 10          | 79 -> 79          | 1 -> 1            | -1 -> 999          | 0 -> 0             | 3 -> 3             | 0 -> 0              |\n",
    "| mean     | 41.256513026052104 | 4.342685370741483  | 1.1723446893787575  | 1.2464929859719438 | 0.02404809619238477  | 1461.0320641282565 | 0.5711422845691383  | 0.16633266533066132 | 0.5991983967935872 | 15.7875751503006  | 6.190380761523046 | 270.685370741483  | 2.498997995991984 | 842.9599198396794  | 0.5290581162324649 | 2.5110220440881763 | 0.1282565130260521  |\n",
    "| variance | 112.69572411355779 | 10.561925454114641 | 0.35506684712109593 | 0.562487700852607  | 0.023469785261906583 | 5913601.626226402  | 0.24493877534628375 | 0.13866610977465954 | 0.7772338263701752 | 67.32561716619612 | 5.909646949209039 | 71021.63046734752 | 5.941381761519029 | 100973.83807293946 | 2.3573720587467517 | 1.087553865245521  | 0.11180677989245022 |\n",
    "| range    | [20, 78]           | [0, 11]            | [0, 2]              | [0, 3]             | [0, 1]               | [-1206, 16873]     | [0, 1]              | [0, 1]              | [0, 2]             | [1, 31]           | [1, 12]           | [5, 1877]         | [1, 24]           | [1, 999]           | [0, 20]            | [0, 3]             | [0, 1]              |"
   ]
  },
  {
   "cell_type": "code",
   "execution_count": null,
   "metadata": {},
   "outputs": [],
   "source": [
    "month_dict = {'jan': 1, 'feb': 2, 'mar': 3, 'apr': 4, 'may': 5, 'jun': 6, \n",
    "              'jul': 7, 'aug': 8, 'sep':9, 'oct': 10, 'nov': 11, 'dec': 12}\n",
    "\n",
    "bank_df_fix = bank_df_raw.copy()\n",
    "\n",
    "bank_df_le[\"month\"] = bank_df_fix[\"month\"].map(month_dict)\n",
    "bank_df_le.loc[bank_df_le['pdays']==-1,'pdays'] = 999"
   ]
  },
  {
   "cell_type": "markdown",
   "metadata": {},
   "source": [
    "**input**\n",
    "- bank_df_le, shape(499, 17), column types: {int64: 8, int32: 9}\n",
    "\n",
    "**output**\n",
    "- X_train, shape(399, 16), column types: {int64: 8, int32: 8}\n",
    "\n",
    "|          | age                | job               | marital             | education          | default              | balance            | housing             | loan                | contact            | day                | month             | duration          | campaign           | pdays              | previous           | poutcome           |\n",
    "|:---------|:-------------------|:------------------|:--------------------|:-------------------|:---------------------|:-------------------|:--------------------|:--------------------|:-------------------|:-------------------|:------------------|:------------------|:-------------------|:-------------------|:-------------------|:-------------------|\n",
    "| example  | 27                 | 0                 | 2                   | 1                  | 0                    | 619                | 1                   | 0                   | 0                  | 20                 | 4                 | 16                | 5                  | 322                | 4                  | 1                  |\n",
    "| mean     | 41.27067669172932  | 4.360902255639098 | 1.1854636591478698  | 1.2280701754385965 | 0.015037593984962405 | 1468.2882205513783 | 0.568922305764411   | 0.16290726817042606 | 0.5964912280701754 | 15.731829573934837 | 6.150375939849624 | 276.1578947368421 | 2.4035087719298245 | 840.155388471178   | 0.5614035087719298 | 2.5037593984962405 |\n",
    "| variance | 117.81645843933141 | 10.73190495034579 | 0.36159320607282625 | 0.5519940201380644 | 0.014811464752105829 | 6259729.247755983  | 0.24524971576811708 | 0.13636849014767496 | 0.7670052323791935 | 66.29650567521561  | 5.952324420072739 | 75032.14298905157 | 4.947456360198742  | 103196.93324790672 | 2.7174075539726505 | 1.1071287240658034 |\n",
    "| range    | [20, 78]           | [0, 11]           | [0, 2]              | [0, 3]             | [0, 1]               | [-970, 16873]      | [0, 1]              | [0, 1]              | [0, 2]             | [1, 31]            | [1, 12]           | [7, 1877]         | [1, 24]            | [1, 999]           | [0, 20]            | [0, 3]             |\n",
    "- y_train, shape(399,) of int32\n",
    "\t- mean: 0.1278, variance: 0.1115, range: [0, 1]\n",
    "- X_test, shape(100, 16), column types: {int64: 8, int32: 8}\n",
    "\n",
    "|          | age      | job               | marital   | education          | default              | balance           | housing             | loan                | contact            | day     | month             | duration           | campaign          | pdays      | previous   | poutcome           |\n",
    "|:---------|:---------|:------------------|:----------|:-------------------|:---------------------|:------------------|:--------------------|:--------------------|:-------------------|:--------|:------------------|:-------------------|:------------------|:-----------|:-----------|:-------------------|\n",
    "| example  | 21       | 8                 | 2         | 1                  | 0                    | 2488              | 0                   | 0                   | 0                  | 30      | 6                 | 258                | 6                 | 169        | 3          | 2                  |\n",
    "| mean     | 41.2     | 4.27              | 1.12      | 1.32               | 0.06                 | 1432.08           | 0.58                | 0.18                | 0.61               | 16.01   | 6.35              | 248.85             | 2.88              | 854.15     | 0.4        | 2.54               |\n",
    "| variance | 92.26    | 9.877099999999999 | 0.3256    | 0.5976000000000001 | 0.056399999999999985 | 4531504.113599999 | 0.24360000000000007 | 0.14760000000000006 | 0.8179000000000002 | 71.3699 | 5.707499999999999 | 54423.407499999994 | 9.725600000000002 | 91947.0875 | 0.9        | 1.0084000000000002 |\n",
    "| range    | [21, 64] | [0, 10]           | [0, 2]    | [0, 3]             | [0, 1]               | [-1206, 10924]    | [0, 1]              | [0, 1]              | [0, 2]             | [1, 31] | [1, 11]           | [5, 1484]          | [1, 24]           | [1, 999]   | [0, 5]     | [0, 3]             |\n",
    "- y_test, shape(100,) of int32\n",
    "\t- mean: 0.1300, variance: 0.1131, range: [0, 1]"
   ]
  },
  {
   "cell_type": "code",
   "execution_count": null,
   "metadata": {},
   "outputs": [],
   "source": [
    "from sklearn.model_selection import train_test_split\n",
    "\n",
    "X = bank_df_le.iloc[:,0:-1]\n",
    "y = bank_df_le.iloc[:,-1]\n",
    "X_train, X_test, y_train, y_test = train_test_split(X, y, test_size=0.2, random_state=1) \n",
    "# set random_state=1 so that the results will be reproducible every time the code was run\n",
    "\n",
    "print(X_train.shape)\n",
    "print(X_test.shape)\n",
    "\n",
    "print(y_train.shape)\n",
    "print(y_test.shape)"
   ]
  },
  {
   "cell_type": "markdown",
   "metadata": {},
   "source": [
    "**input**\n",
    "- X_train, shape(399, 16), column types: {int64: 8, int32: 8}\n",
    "- y_train, shape(399,) of int32\n",
    "- X_test, shape(100, 16), column types: {int64: 8, int32: 8}\n",
    "- y_test, shape(100,) of int32\n",
    "\n",
    "**output**\n",
    "- pipe_rf, <class 'sklearn.pipeline.Pipeline'>, Pipeline(steps=[('scl', StandardScaler()),\n",
    "                ('clf', RandomForestClassifier(random_state=1))])"
   ]
  },
  {
   "cell_type": "code",
   "execution_count": null,
   "metadata": {},
   "outputs": [],
   "source": [
    "from sklearn.preprocessing import StandardScaler\n",
    "from sklearn.pipeline import Pipeline\n",
    "from sklearn.linear_model import LogisticRegression\n",
    "from sklearn.ensemble import RandomForestClassifier\n",
    "\n",
    "pipe_lr = Pipeline([('scl', StandardScaler()),('clf', LogisticRegression(random_state=1))])\n",
    "pipe_lr.fit(X_train, y_train)\n",
    "print('LG Train Accuracy: %.3f' % pipe_lr.score(X_train, y_train))\n",
    "print('LG Test Accuracy: %.3f' % pipe_lr.score(X_test, y_test))\n",
    "\n",
    "pipe_rf = Pipeline([('scl', StandardScaler()),('clf', RandomForestClassifier(random_state=1))])\n",
    "pipe_rf.fit(X_train, y_train)\n",
    "print('RF Train Accuracy: %.3f' % pipe_rf.score(X_train, y_train))\n",
    "print('RF Test Accuracy: %.3f' % pipe_rf.score(X_test, y_test))"
   ]
  },
  {
   "cell_type": "markdown",
   "metadata": {},
   "source": [
    "**input**\n",
    "- pipe_rf, <class 'sklearn.pipeline.Pipeline'>\n",
    "- X_train, shape(399, 16), column types: {int64: 8, int32: 8}\n",
    "- y_train, shape(399,) of int32\n",
    "\n",
    "**output**\n",
    "- gs_rf_fit, <class 'sklearn.model_selection._search.GridSearchCV'>, GridSearchCV(cv=5,\n",
    "             estimator=Pipeline(steps=[('scl', StandardScaler()),\n",
    "                                       ('clf',\n",
    "                                        RandomForestClassifier(random_state=1))]),\n",
    "             n_jobs=-1,\n",
    "             param_grid=[{'clf__bootstrap': [True, False],\n",
    "                          'clf__criterion': ['gini', 'entropy'],\n",
    "                          'clf__max_depth': [3, None],\n",
    "                          'clf__max_features': [3, 10],\n",
    "                          'clf__min_samples_leaf': [3, 10],\n",
    "                          'clf__min_samples_split': [3, 10],\n",
    "                          'clf__n_estimators': [20, 40, 80]}],\n",
    "             scoring='accuracy')"
   ]
  },
  {
   "cell_type": "code",
   "execution_count": null,
   "metadata": {
    "collapsed": true,
    "jupyter": {
     "outputs_hidden": true
    }
   },
   "outputs": [],
   "source": [
    "from sklearn.model_selection import GridSearchCV\n",
    "param_grid_rf = [{'clf__n_estimators': [20,40,80], 'clf__criterion': ['gini', 'entropy'], \n",
    "                  'clf__max_features': [3,10], 'clf__max_depth': [3, None], \n",
    "                  'clf__min_samples_split':[3,10], 'clf__min_samples_leaf':[3, 10],\n",
    "                  'clf__bootstrap': [True, False]}]\n",
    "gs_rf = GridSearchCV(estimator=pipe_rf, param_grid=param_grid_rf, scoring='accuracy', cv=5, n_jobs=-1)\n",
    "gs_rf_fit = gs_rf.fit(X_train,y_train)"
   ]
  },
  {
   "cell_type": "markdown",
   "metadata": {},
   "source": [
    "**input**\n",
    "- gs_rf_fit, <class 'sklearn.model_selection._search.GridSearchCV'>\n",
    "- X_train, shape(399, 16), column types: {int64: 8, int32: 8}\n",
    "- y_train, shape(399,) of int32\n",
    "- X_test, shape(100, 16), column types: {int64: 8, int32: 8}\n",
    "- y_test, shape(100,) of int32\n",
    "\n",
    "**output**\n",
    "- gs_rf_best, <class 'sklearn.pipeline.Pipeline'>, Pipeline(steps=[('scl', StandardScaler()),\n",
    "                ('clf',\n",
    "                 RandomForestClassifier(criterion='entropy', max_depth=3,\n",
    "                                        max_features=10, min_samples_leaf=10,\n",
    "                                        min_samples_split=3, n_estimators=20,\n",
    "                                        random_state=1))])\n",
    "- X_train, shape(399, 16), column types: {int64: 8, int32: 8}, no change in the cell\n",
    "\n",
    "|          | age                | job               | marital             | education          | default              | balance            | housing             | loan                | contact            | day                | month             | duration          | campaign           | pdays              | previous           | poutcome           |\n",
    "|:---------|:-------------------|:------------------|:--------------------|:-------------------|:---------------------|:-------------------|:--------------------|:--------------------|:-------------------|:-------------------|:------------------|:------------------|:-------------------|:-------------------|:-------------------|:-------------------|\n",
    "| example  | 27                 | 0                 | 2                   | 1                  | 0                    | 619                | 1                   | 0                   | 0                  | 20                 | 4                 | 16                | 5                  | 322                | 4                  | 1                  |\n",
    "| mean     | 41.27067669172932  | 4.360902255639098 | 1.1854636591478698  | 1.2280701754385965 | 0.015037593984962405 | 1468.2882205513783 | 0.568922305764411   | 0.16290726817042606 | 0.5964912280701754 | 15.731829573934837 | 6.150375939849624 | 276.1578947368421 | 2.4035087719298245 | 840.155388471178   | 0.5614035087719298 | 2.5037593984962405 |\n",
    "| variance | 117.81645843933141 | 10.73190495034579 | 0.36159320607282625 | 0.5519940201380644 | 0.014811464752105829 | 6259729.247755983  | 0.24524971576811708 | 0.13636849014767496 | 0.7670052323791935 | 66.29650567521561  | 5.952324420072739 | 75032.14298905157 | 4.947456360198742  | 103196.93324790672 | 2.7174075539726505 | 1.1071287240658034 |\n",
    "| range    | [20, 78]           | [0, 11]           | [0, 2]              | [0, 3]             | [0, 1]               | [-970, 16873]      | [0, 1]              | [0, 1]              | [0, 2]             | [1, 31]            | [1, 12]           | [7, 1877]         | [1, 24]            | [1, 999]           | [0, 20]            | [0, 3]             |\n",
    "- y_train, shape(399,) of int32\n",
    "\t- mean: 0.1278, variance: 0.1115, range: [0, 1]\n",
    "- X_test, shape(100, 16), column types: {int64: 8, int32: 8}, no change in the cell\n",
    "\n",
    "|          | age      | job               | marital   | education          | default              | balance           | housing             | loan                | contact            | day     | month             | duration           | campaign          | pdays      | previous   | poutcome           |\n",
    "|:---------|:---------|:------------------|:----------|:-------------------|:---------------------|:------------------|:--------------------|:--------------------|:-------------------|:--------|:------------------|:-------------------|:------------------|:-----------|:-----------|:-------------------|\n",
    "| example  | 21       | 8                 | 2         | 1                  | 0                    | 2488              | 0                   | 0                   | 0                  | 30      | 6                 | 258                | 6                 | 169        | 3          | 2                  |\n",
    "| mean     | 41.2     | 4.27              | 1.12      | 1.32               | 0.06                 | 1432.08           | 0.58                | 0.18                | 0.61               | 16.01   | 6.35              | 248.85             | 2.88              | 854.15     | 0.4        | 2.54               |\n",
    "| variance | 92.26    | 9.877099999999999 | 0.3256    | 0.5976000000000001 | 0.056399999999999985 | 4531504.113599999 | 0.24360000000000007 | 0.14760000000000006 | 0.8179000000000002 | 71.3699 | 5.707499999999999 | 54423.407499999994 | 9.725600000000002 | 91947.0875 | 0.9        | 1.0084000000000002 |\n",
    "| range    | [21, 64] | [0, 10]           | [0, 2]    | [0, 3]             | [0, 1]               | [-1206, 10924]    | [0, 1]              | [0, 1]              | [0, 2]             | [1, 31] | [1, 11]           | [5, 1484]          | [1, 24]           | [1, 999]   | [0, 5]     | [0, 3]             |\n",
    "- y_test, shape(100,) of int32\n",
    "\t- mean: 0.1300, variance: 0.1131, range: [0, 1]"
   ]
  },
  {
   "cell_type": "code",
   "execution_count": null,
   "metadata": {},
   "outputs": [],
   "source": [
    "\n",
    "print('Best score for RF: %.3f' % gs_rf_fit.best_score_)\n",
    "print('Best param for RF: %s' % gs_rf_fit.best_params_)\n",
    "\n",
    "gs_rf_best = gs_rf_fit.best_estimator_\n",
    "print('RF Train accuracy: %.3f' % gs_rf_best.score(X_train, y_train))\n",
    "print('RF Test accuracy: %.3f' % gs_rf_best.score(X_test, y_test))"
   ]
  },
  {
   "cell_type": "markdown",
   "metadata": {},
   "source": [
    "**input**\n",
    "- gs_rf_best, <class 'sklearn.pipeline.Pipeline'>\n",
    "- X_train, shape(399, 16), column types: {int64: 8, int32: 8}\n",
    "- y_train, shape(399,) of int32\n",
    "\n",
    "**output**\n",
    "- train_sizes, shape(10,) of int32\n",
    "\t- mean: 197.0000, variance: 10692.0000, range: [35, 359]\n",
    "- train_scores_mean, shape(10,) of float64\n",
    "\t- mean: 0.8952, variance: 0.0000, range: [0.8886, 0.9028]\n",
    "- train_scores_std, shape(10,) of float64\n",
    "\t- mean: 0.0073, variance: 0.0000, range: [0.0, 0.025988163909749756]\n",
    "- test_scores_mean, shape(10,) of float64\n",
    "\t- mean: 0.8714, variance: 0.0000, range: [0.8671, 0.8771]\n",
    "- test_scores_std, shape(10,) of float64\n",
    "\t- mean: 0.0166, variance: 0.0000, range: [0.0075, 0.0241]\n",
    "- gs_rf_best, <class 'sklearn.pipeline.Pipeline'>, Pipeline(steps=[('scl', StandardScaler()),\n",
    "                ('clf',\n",
    "                 RandomForestClassifier(criterion='entropy', max_depth=3,\n",
    "                                        max_features=10, min_samples_leaf=10,\n",
    "                                        min_samples_split=3, n_estimators=20,\n",
    "                                        random_state=1))])\n",
    "- X_train, shape(399, 16), column types: {int64: 8, int32: 8}, no change in the cell\n",
    "\n",
    "|          | age                | job               | marital             | education          | default              | balance            | housing             | loan                | contact            | day                | month             | duration          | campaign           | pdays              | previous           | poutcome           |\n",
    "|:---------|:-------------------|:------------------|:--------------------|:-------------------|:---------------------|:-------------------|:--------------------|:--------------------|:-------------------|:-------------------|:------------------|:------------------|:-------------------|:-------------------|:-------------------|:-------------------|\n",
    "| example  | 27                 | 0                 | 2                   | 1                  | 0                    | 619                | 1                   | 0                   | 0                  | 20                 | 4                 | 16                | 5                  | 322                | 4                  | 1                  |\n",
    "| mean     | 41.27067669172932  | 4.360902255639098 | 1.1854636591478698  | 1.2280701754385965 | 0.015037593984962405 | 1468.2882205513783 | 0.568922305764411   | 0.16290726817042606 | 0.5964912280701754 | 15.731829573934837 | 6.150375939849624 | 276.1578947368421 | 2.4035087719298245 | 840.155388471178   | 0.5614035087719298 | 2.5037593984962405 |\n",
    "| variance | 117.81645843933141 | 10.73190495034579 | 0.36159320607282625 | 0.5519940201380644 | 0.014811464752105829 | 6259729.247755983  | 0.24524971576811708 | 0.13636849014767496 | 0.7670052323791935 | 66.29650567521561  | 5.952324420072739 | 75032.14298905157 | 4.947456360198742  | 103196.93324790672 | 2.7174075539726505 | 1.1071287240658034 |\n",
    "| range    | [20, 78]           | [0, 11]           | [0, 2]              | [0, 3]             | [0, 1]               | [-970, 16873]      | [0, 1]              | [0, 1]              | [0, 2]             | [1, 31]            | [1, 12]           | [7, 1877]         | [1, 24]            | [1, 999]           | [0, 20]            | [0, 3]             |\n",
    "- y_train, shape(399,) of int32\n",
    "\t- mean: 0.1278, variance: 0.1115, range: [0, 1]"
   ]
  },
  {
   "cell_type": "code",
   "execution_count": null,
   "metadata": {},
   "outputs": [],
   "source": [
    "from sklearn.model_selection import learning_curve\n",
    "import numpy as np\n",
    "\n",
    "train_sizes, train_scores, test_scores = learning_curve(estimator=gs_rf_best, X=X_train, \n",
    "                                                        y=y_train, train_sizes = np.linspace(0.1,1,10),\n",
    "                                                        cv=10, n_jobs=-1)\n",
    "\n",
    "# Mean and Std across K-Folds, which result in mean and std for each subset of X_train with different sample size\n",
    "train_scores_mean = np.mean(train_scores, axis=1)\n",
    "print('train_scores_mean: ', train_scores_mean)\n",
    "train_scores_std = np.std(train_scores, axis=1)\n",
    "print('train_scores_std: ', train_scores_std)\n",
    "test_scores_mean = np.mean(test_scores, axis=1)\n",
    "print('test_scores_mean: ', test_scores_mean)\n",
    "test_scores_std = np.std(test_scores, axis=1)\n",
    "print('test_scores_std: ', test_scores_std)"
   ]
  },
  {
   "cell_type": "markdown",
   "metadata": {},
   "source": [
    "**input**\n",
    "- train_sizes, shape(10,) of int32\n",
    "- train_scores_mean, shape(10,) of float64\n",
    "- train_scores_std, shape(10,) of float64\n",
    "- test_scores_mean, shape(10,) of float64\n",
    "- test_scores_std, shape(10,) of float64"
   ]
  },
  {
   "cell_type": "code",
   "execution_count": null,
   "metadata": {},
   "outputs": [],
   "source": [
    "import matplotlib.pyplot as plt \n",
    "%matplotlib inline\n",
    "\n",
    "plt.plot(train_sizes, train_scores_mean, color='blue', marker='o', markersize=5, label='training accuracy')\n",
    "\n",
    "plt.fill_between(train_sizes, train_scores_mean+train_scores_std, \n",
    "                 train_scores_mean-train_scores_std, alpha=0.15, color='blue')\n",
    "\n",
    "plt.plot(train_sizes, test_scores_mean, color='green', linestyle='--', marker='s', \n",
    "         markersize=5, label='validation accuracy')\n",
    "\n",
    "plt.fill_between(train_sizes, test_scores_mean+test_scores_std, \n",
    "                 test_scores_mean-test_scores_std, alpha=0.15, color='green')\n",
    "\n",
    "plt.grid()\n",
    "plt.xlabel('Number of training samples')\n",
    "plt.ylabel('Accuracy')\n",
    "plt.legend(loc='lower right')\n",
    "plt.ylim([0.8, 1.0])\n",
    "\n",
    "plt.show()"
   ]
  },
  {
   "cell_type": "markdown",
   "metadata": {},
   "source": [
    "**input**\n",
    "- gs_rf_best, <class 'sklearn.pipeline.Pipeline'>\n",
    "- X_train, shape(399, 16), column types: {int64: 8, int32: 8}\n",
    "- y_train, shape(399,) of int32\n",
    "- X_test, shape(100, 16), column types: {int64: 8, int32: 8}\n",
    "- y_test, shape(100,) of int32\n",
    "\n",
    "**output**\n",
    "- confmat, shape(2, 2) of int64\n",
    "\t- mean: 25.0000, variance: 1251.5000, range: [1, 86]"
   ]
  },
  {
   "cell_type": "code",
   "execution_count": null,
   "metadata": {},
   "outputs": [],
   "source": [
    "from sklearn.metrics import confusion_matrix\n",
    "\n",
    "clf_final = gs_rf_best\n",
    "clf_final.fit(X_train, y_train)\n",
    "y_pred = clf_final.predict(X_test)\n",
    "print('Test accuracy: %.3f' % clf_final.score(X_test, y_test))\n",
    "\n",
    "confmat = confusion_matrix(y_true=y_test, y_pred=y_pred)\n",
    "print(confmat)"
   ]
  },
  {
   "cell_type": "markdown",
   "metadata": {},
   "source": [
    "**input**\n",
    "- confmat, shape(2, 2) of int64"
   ]
  },
  {
   "cell_type": "code",
   "execution_count": null,
   "metadata": {
    "scrolled": true
   },
   "outputs": [],
   "source": [
    "import matplotlib.pyplot as plt\n",
    "%matplotlib inline\n",
    "\n",
    "fig, ax = plt.subplots(figsize=(2.5, 2.5))\n",
    "ax.matshow(confmat, cmap=plt.cm.Blues, alpha=0.3)\n",
    "for i in range(confmat.shape[0]):\n",
    "    for j in range(confmat.shape[1]):\n",
    "        ax.text(x=j, y=i, s=confmat[i, j], va='center', ha='center')\n",
    "\n",
    "plt.xlabel('predicted label')\n",
    "plt.ylabel('true label')\n",
    "\n",
    "plt.show()"
   ]
  }
 ],
 "metadata": {
  "kernelspec": {
   "display_name": "Python 3",
   "language": "python",
   "name": "python3"
  },
  "language_info": {
   "codemirror_mode": {
    "name": "ipython",
    "version": 3
   },
   "file_extension": ".py",
   "mimetype": "text/x-python",
   "name": "python",
   "nbconvert_exporter": "python",
   "pygments_lexer": "ipython3",
   "version": "3.7.3"
  }
 },
 "nbformat": 4,
 "nbformat_minor": 4
}
